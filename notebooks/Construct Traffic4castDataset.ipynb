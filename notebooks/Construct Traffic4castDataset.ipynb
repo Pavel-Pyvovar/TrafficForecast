{
 "cells": [
  {
   "cell_type": "markdown",
   "id": "945d6614-549b-4fa1-8b71-04793e726429",
   "metadata": {},
   "source": [
    "# Inside Traffic4castDataset __init__"
   ]
  },
  {
   "cell_type": "code",
   "execution_count": 1,
   "id": "adc5fc3a-93f7-443c-a86b-951021d99f2c",
   "metadata": {
    "tags": []
   },
   "outputs": [],
   "source": [
    "import sys\n",
    "sys.path.append(\"../Traffic4cast\")"
   ]
  },
  {
   "cell_type": "code",
   "execution_count": 2,
   "id": "f6806609-c3d1-4286-9130-ec02293694c7",
   "metadata": {
    "tags": []
   },
   "outputs": [],
   "source": [
    "from functools import partial\n",
    "import pickle\n",
    "\n",
    "import torch"
   ]
  },
  {
   "cell_type": "code",
   "execution_count": 3,
   "id": "76b6bb16-0ea0-4972-bd09-a8ac87bf2492",
   "metadata": {},
   "outputs": [],
   "source": [
    "import t4c22\n",
    "from t4c22.t4c22_config import cc_dates\n",
    "from t4c22.dataloading.road_graph_mapping import TorchRoadGraphMapping\n",
    "from t4c22.t4c22_config import load_basedir\n",
    "from t4c22.t4c22_config import day_t_filter_to_df_filter\n",
    "from t4c22.t4c22_config import day_t_filter_weekdays_daytime_only"
   ]
  },
  {
   "cell_type": "code",
   "execution_count": 19,
   "id": "2752671b-ecbf-4fd0-b3c4-a35d8e123211",
   "metadata": {
    "tags": []
   },
   "outputs": [],
   "source": [
    "root = load_basedir(fn=\"t4c22_config.json\", pkg=t4c22)\n",
    "cachedir = \"../data/cache\"\n",
    "split = \"train\"\n",
    "fill = 1\n",
    "normalize = \"zs\"\n",
    "city = \"london\"\n",
    "limit = None\n",
    "day_t_filter = day_t_filter_weekdays_daytime_only\n",
    "edge_attributes=[\"speed_kph\", \"parsed_maxspeed\", \"length_meters\", \"counter_distance\",\n",
    "     'num_lanes', 'mean_pop', 'catering', 'leisure', 'shopping', 'tourism', 'traffic', 'transport',\n",
    "    'pois_total', 'greeneries', 'water_bodies', 'built_up', 'other', \"importance\", \"highway\", \"oneway\",]\n",
    "enriched = True"
   ]
  },
  {
   "cell_type": "code",
   "execution_count": 20,
   "id": "6a833cbb-a9c0-40a5-af3d-9b4532143c15",
   "metadata": {
    "tags": []
   },
   "outputs": [],
   "source": [
    "torch_road_graph_mapping = TorchRoadGraphMapping(\n",
    "    city=city,\n",
    "    edge_attributes=edge_attributes,\n",
    "    root=root,\n",
    "    enriched=enriched,\n",
    "    df_filter=partial(day_t_filter_to_df_filter,\n",
    "                      filter=day_t_filter)\n",
    ")"
   ]
  },
  {
   "cell_type": "code",
   "execution_count": 21,
   "id": "1e68abea-5e90-4007-aa7d-c60245dc59ab",
   "metadata": {
    "tags": []
   },
   "outputs": [
    {
     "data": {
      "text/plain": [
       "torch.Size([132414, 20])"
      ]
     },
     "execution_count": 21,
     "metadata": {},
     "output_type": "execute_result"
    }
   ],
   "source": [
    "torch_road_graph_mapping.edge_attr.shape"
   ]
  },
  {
   "cell_type": "code",
   "execution_count": 29,
   "id": "eadc625f-f1cf-4868-8f12-c36ec57bd32e",
   "metadata": {
    "tags": []
   },
   "outputs": [
    {
     "data": {
      "text/plain": [
       "tensor([0., 1.])"
      ]
     },
     "execution_count": 29,
     "metadata": {},
     "output_type": "execute_result"
    }
   ],
   "source": [
    "torch_road_graph_mapping.edge_attr[:, -1].unique() # oneway"
   ]
  },
  {
   "cell_type": "code",
   "execution_count": 30,
   "id": "eb063c55-d298-4a6c-a5cb-e75708fb793b",
   "metadata": {
    "tags": []
   },
   "outputs": [
    {
     "data": {
      "text/plain": [
       "tensor([ 0.,  1.,  2.,  3.,  4.,  5.,  6.,  7.,  8.,  9., 10., 11.])"
      ]
     },
     "execution_count": 30,
     "metadata": {},
     "output_type": "execute_result"
    }
   ],
   "source": [
    "torch_road_graph_mapping.edge_attr[:, -2].unique() # highway"
   ]
  },
  {
   "cell_type": "code",
   "execution_count": 31,
   "id": "c15ccea5-8221-487c-bebd-3c24db69d14f",
   "metadata": {
    "tags": []
   },
   "outputs": [
    {
     "data": {
      "text/plain": [
       "tensor([0., 1., 2., 3., 4., 5.])"
      ]
     },
     "execution_count": 31,
     "metadata": {},
     "output_type": "execute_result"
    }
   ],
   "source": [
    "torch_road_graph_mapping.edge_attr[:, -3].unique() # importance"
   ]
  },
  {
   "cell_type": "code",
   "execution_count": 32,
   "id": "0ce620f1-72ab-4742-b7fd-33ea2cbc9e6f",
   "metadata": {
    "tags": []
   },
   "outputs": [],
   "source": [
    "# `day_t: List[Tuple[Y-m-d-str,int_0_96]]`\n",
    "# TODO most days have even 96 (rolling window over midnight), but probably not necessary because of filtering we do.\n",
    "if split == \"test\":\n",
    "    num_tests = load_inputs(basedir=root, split=\"test\", city=city, day=\"test\", df_filter=None)[\n",
    "        \"test_idx\"].max() + 1\n",
    "    day_t = [(\"test\", t) for t in range(num_tests)]\n",
    "else:\n",
    "    # TODO: discard slicing\n",
    "    day_t = [(day, t) for day in cc_dates(root, city=city, split=split) for t in range(4, 96) if\n",
    "                  day_t_filter(day, t)]"
   ]
  },
  {
   "cell_type": "code",
   "execution_count": 33,
   "id": "8a172a38-1553-4b99-8c70-53ad7e994176",
   "metadata": {
    "tags": []
   },
   "outputs": [
    {
     "data": {
      "text/plain": [
       "7040"
      ]
     },
     "execution_count": 33,
     "metadata": {},
     "output_type": "execute_result"
    }
   ],
   "source": [
    "len(day_t)"
   ]
  },
  {
   "cell_type": "code",
   "execution_count": 34,
   "id": "cccb9aab-48f0-4599-b327-883685972382",
   "metadata": {
    "tags": []
   },
   "outputs": [],
   "source": [
    "cluster_map = {}\n",
    "with open(root / f\"{city}.pkl\", 'rb') as f:\n",
    "    maps = pickle.load(f)\n",
    "for i in range(20):\n",
    "    for day, t, _ in maps[i]:\n",
    "        cluster_map[f\"{day}-{t}\"] = i\n",
    "if (len(day_t) == 0):\n",
    "    print(\"no sample\")\n",
    "    exit(0)"
   ]
  },
  {
   "cell_type": "code",
   "execution_count": 35,
   "id": "c986949d-0d0f-4060-a5a1-616d7b07c415",
   "metadata": {
    "tags": []
   },
   "outputs": [
    {
     "data": {
      "text/plain": [
       "7140"
      ]
     },
     "execution_count": 35,
     "metadata": {},
     "output_type": "execute_result"
    }
   ],
   "source": [
    "len(cluster_map)"
   ]
  },
  {
   "cell_type": "code",
   "execution_count": 36,
   "id": "db2880e7-2395-49aa-a609-b8be5a87e849",
   "metadata": {
    "tags": []
   },
   "outputs": [],
   "source": [
    "edge_index = torch_road_graph_mapping.edge_index"
   ]
  },
  {
   "cell_type": "code",
   "execution_count": 12,
   "id": "eef3c82f-3a0a-4823-b99e-8b33e6d7e832",
   "metadata": {
    "tags": []
   },
   "outputs": [],
   "source": [
    "# edge_attr = get_edge_attr()"
   ]
  },
  {
   "cell_type": "markdown",
   "id": "e37c2599-d4e5-4158-9c67-891cc77c36d1",
   "metadata": {},
   "source": [
    "## Break down get_edge_attr method"
   ]
  },
  {
   "cell_type": "code",
   "execution_count": 37,
   "id": "de83fa62-e0ad-4719-b7fe-b3ee37114f52",
   "metadata": {
    "tags": []
   },
   "outputs": [],
   "source": [
    "def minmax(x, min_v, max_v):\n",
    "    x = x - min_v\n",
    "    x = x / (max_v - min_v)\n",
    "    x = x * 2 - 1\n",
    "    return x"
   ]
  },
  {
   "cell_type": "code",
   "execution_count": 38,
   "id": "f795980e-0d7e-408e-b604-a4085e36753f",
   "metadata": {
    "tags": []
   },
   "outputs": [
    {
     "data": {
      "text/plain": [
       "20"
      ]
     },
     "execution_count": 38,
     "metadata": {},
     "output_type": "execute_result"
    }
   ],
   "source": [
    "# edge_attributes = [\"speed_kph\", \"parsed_maxspeed\", \"length_meters\", \"counter_distance\", \"importance\", \"highway\", \"oneway\", ]\n",
    "num_edge_attributes = torch_road_graph_mapping.edge_attr.shape[1]\n",
    "num_edge_attributes"
   ]
  },
  {
   "cell_type": "code",
   "execution_count": 42,
   "id": "51cf81a3-f428-4752-8a22-b095278995f1",
   "metadata": {
    "tags": []
   },
   "outputs": [
    {
     "data": {
      "text/plain": [
       "6.0"
      ]
     },
     "execution_count": 42,
     "metadata": {},
     "output_type": "execute_result"
    }
   ],
   "source": [
    "num_importance = torch.max(\n",
    "    torch_road_graph_mapping.edge_attr[:, -3]).item() + 1\n",
    "num_importance"
   ]
  },
  {
   "cell_type": "code",
   "execution_count": 43,
   "id": "f7e0c478-5bb2-4308-8a47-559c27cb47d1",
   "metadata": {
    "tags": []
   },
   "outputs": [
    {
     "data": {
      "text/plain": [
       "12.0"
      ]
     },
     "execution_count": 43,
     "metadata": {},
     "output_type": "execute_result"
    }
   ],
   "source": [
    "num_highway = torch.max(\n",
    "    torch_road_graph_mapping.edge_attr[:, -2]).item() + 1\n",
    "num_highway"
   ]
  },
  {
   "cell_type": "code",
   "execution_count": 44,
   "id": "0af6d938-b8a3-44de-8e5b-588d1d52259f",
   "metadata": {
    "tags": []
   },
   "outputs": [
    {
     "data": {
      "text/plain": [
       "2.0"
      ]
     },
     "execution_count": 44,
     "metadata": {},
     "output_type": "execute_result"
    }
   ],
   "source": [
    "num_oneway = torch.max(\n",
    "    torch_road_graph_mapping.edge_attr[:, -1]).item() + 1\n",
    "num_oneway"
   ]
  },
  {
   "cell_type": "code",
   "execution_count": 45,
   "id": "b4df6cbb-5940-4579-bf9c-800c7160731c",
   "metadata": {
    "tags": []
   },
   "outputs": [
    {
     "data": {
      "text/plain": [
       "torch.Size([132414, 17])"
      ]
     },
     "execution_count": 45,
     "metadata": {},
     "output_type": "execute_result"
    }
   ],
   "source": [
    "edge_attr = torch_road_graph_mapping.edge_attr[:, :num_edge_attributes-3]\n",
    "edge_attr.shape"
   ]
  },
  {
   "cell_type": "code",
   "execution_count": 46,
   "id": "040485a4-295d-41ba-923b-8e60be31324f",
   "metadata": {
    "tags": []
   },
   "outputs": [
    {
     "data": {
      "text/plain": [
       "torch.Size([132414, 17])"
      ]
     },
     "execution_count": 46,
     "metadata": {},
     "output_type": "execute_result"
    }
   ],
   "source": [
    "edge_attr = minmax(edge_attr, torch.min(edge_attr, dim=0).values, torch.max(edge_attr, dim=0).values)\n",
    "edge_attr.shape"
   ]
  },
  {
   "cell_type": "code",
   "execution_count": 47,
   "id": "5d595506-e4c0-4a21-94df-433dfdb9eb81",
   "metadata": {
    "tags": []
   },
   "outputs": [
    {
     "data": {
      "text/plain": [
       "torch.Size([132414, 6])"
      ]
     },
     "execution_count": 47,
     "metadata": {},
     "output_type": "execute_result"
    }
   ],
   "source": [
    "edge_importance = torch.zeros([edge_attr.shape[0], int(num_importance)], dtype=torch.float)\n",
    "edge_importance.shape"
   ]
  },
  {
   "cell_type": "code",
   "execution_count": 48,
   "id": "5c6c635b-ae90-4875-a3b0-a0b8a93f1d5a",
   "metadata": {
    "tags": []
   },
   "outputs": [
    {
     "data": {
      "text/plain": [
       "torch.Size([132414, 12])"
      ]
     },
     "execution_count": 48,
     "metadata": {},
     "output_type": "execute_result"
    }
   ],
   "source": [
    "edge_highway = torch.zeros([edge_attr.shape[0], int(num_highway)], dtype=torch.float)\n",
    "edge_highway.shape"
   ]
  },
  {
   "cell_type": "code",
   "execution_count": 49,
   "id": "1ed61daa-90aa-4103-a9c6-36e877a24068",
   "metadata": {
    "tags": []
   },
   "outputs": [
    {
     "data": {
      "text/plain": [
       "torch.Size([132414, 2])"
      ]
     },
     "execution_count": 49,
     "metadata": {},
     "output_type": "execute_result"
    }
   ],
   "source": [
    "edge_oneway = torch.zeros([edge_attr.shape[0], int(num_oneway)], dtype=torch.float)\n",
    "edge_oneway.shape"
   ]
  },
  {
   "cell_type": "code",
   "execution_count": 51,
   "id": "4531ac09-7463-4643-83cd-f2cbaece2866",
   "metadata": {
    "tags": []
   },
   "outputs": [],
   "source": [
    "edge_importance[\n",
    "    [i for i in range(edge_attr.shape[0])], [int(j) for j in torch_road_graph_mapping.edge_attr[:, num_edge_attributes-3]]] = 1\n",
    "edge_highway[\n",
    "    [i for i in range(edge_attr.shape[0])], [int(j) for j in torch_road_graph_mapping.edge_attr[:, num_edge_attributes-2]]] = 1\n",
    "edge_oneway[\n",
    "    [i for i in range(edge_attr.shape[0])], [int(j) for j in torch_road_graph_mapping.edge_attr[:, num_edge_attributes-1]]] = 1"
   ]
  },
  {
   "cell_type": "code",
   "execution_count": 52,
   "id": "3a9ac56b-8f6d-45f7-842a-a7a31d4995af",
   "metadata": {},
   "outputs": [
    {
     "data": {
      "text/plain": [
       "torch.Size([132414, 37])"
      ]
     },
     "execution_count": 52,
     "metadata": {},
     "output_type": "execute_result"
    }
   ],
   "source": [
    "torch.cat([edge_attr, edge_importance, edge_highway, edge_oneway], dim=1).shape"
   ]
  },
  {
   "cell_type": "code",
   "execution_count": null,
   "id": "b07199bf-72e7-4bd7-9a5d-c3ed42d40cae",
   "metadata": {},
   "outputs": [],
   "source": []
  }
 ],
 "metadata": {
  "kernelspec": {
   "display_name": "t4c22",
   "language": "python",
   "name": "t4c22"
  },
  "language_info": {
   "codemirror_mode": {
    "name": "ipython",
    "version": 3
   },
   "file_extension": ".py",
   "mimetype": "text/x-python",
   "name": "python",
   "nbconvert_exporter": "python",
   "pygments_lexer": "ipython3",
   "version": "3.8.13"
  }
 },
 "nbformat": 4,
 "nbformat_minor": 5
}
