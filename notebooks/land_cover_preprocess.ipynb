{
 "cells": [
  {
   "cell_type": "code",
   "execution_count": null,
   "metadata": {},
   "outputs": [],
   "source": [
    "import pandas as pd\n",
    "import geopandas as gpd\n",
    "import numpy as np\n",
    "import rasterio\n",
    "from rasterio.merge import merge\n",
    "from rasterio.mask import mask\n",
    "from rasterio.warp import calculate_default_transform, reproject, Resampling\n",
    "from shapely.geometry import box, LineString\n",
    "import os\n",
    "from matplotlib import pyplot\n",
    "from pyproj import Transformer"
   ]
  },
  {
   "cell_type": "code",
   "execution_count": null,
   "metadata": {},
   "outputs": [],
   "source": [
    "basedir = '/gpfs/space/home/etais/hpc_nikolaykozlovskiy/transformers_project/Traffic4cast/data_traffic'\n",
    "road_graph_folder = 'road_graph'\n",
    "spatial_data_folder = 'spatial_data'\n",
    "preprocess_stage = 'land_cover'\n",
    "buffer_m = 50\n",
    "city = 'london'\n",
    "crs_reprj = {'london': 27700}\n",
    "city_epsg = crs_reprj[city]"
   ]
  },
  {
   "cell_type": "code",
   "execution_count": null,
   "metadata": {},
   "outputs": [],
   "source": [
    "road_graph_nodes = pd.read_parquet(f'{basedir}/{road_graph_folder}/{city}/road_graph_nodes.parquet')\n",
    "road_graph_edges = pd.read_parquet(f'{basedir}/{road_graph_folder}/{city}/road_graph_edges.parquet')"
   ]
  },
  {
   "cell_type": "code",
   "execution_count": null,
   "metadata": {},
   "outputs": [],
   "source": [
    "road_graph_edges = road_graph_edges.merge(road_graph_nodes[['node_id', 'x', 'y']], \n",
    "                                          left_on = 'u', \n",
    "                                          right_on = 'node_id'\n",
    "                                         )\n",
    "road_graph_edges = road_graph_edges.merge(road_graph_nodes[['node_id', 'x', 'y']], \n",
    "                                          left_on = 'v', \n",
    "                                          right_on = 'node_id', \n",
    "                                          suffixes = ('_start', '_end')\n",
    "                                         )"
   ]
  },
  {
   "cell_type": "code",
   "execution_count": null,
   "metadata": {},
   "outputs": [],
   "source": [
    "road_graph_edges['geometry'] = road_graph_edges.apply(lambda row:\n",
    "    LineString([[row['x_start'], row['y_start']],[row['x_end'], row['y_end']]]), axis=1\n",
    ")"
   ]
  },
  {
   "cell_type": "code",
   "execution_count": null,
   "metadata": {},
   "outputs": [],
   "source": [
    "gdf_road_graph_edges = gpd.GeoDataFrame(\n",
    "    road_graph_edges,\n",
    "    crs = 4326,\n",
    "    geometry = 'geometry'\n",
    ")"
   ]
  },
  {
   "cell_type": "code",
   "execution_count": null,
   "metadata": {},
   "outputs": [],
   "source": [
    "gdf_road_graph_edges = gdf_road_graph_edges.to_crs(city_epsg)\n",
    "gdf_road_graph_edges['geometry'] = gdf_road_graph_edges['geometry'].buffer(buffer_m)"
   ]
  },
  {
   "cell_type": "code",
   "execution_count": null,
   "metadata": {},
   "outputs": [],
   "source": [
    "transformer = Transformer.from_crs(city_epsg, 4326, always_xy=True)\n",
    "city_bounding_box = box(*transformer.transform_bounds(*gdf_road_graph_edges.total_bounds))"
   ]
  },
  {
   "cell_type": "code",
   "execution_count": null,
   "metadata": {},
   "outputs": [],
   "source": [
    "land_cover_city_dir = f'{basedir}/{spatial_data_folder}/{preprocess_stage}/{city}'\n",
    "tif_files = os.listdir(f'{land_cover_city_dir}/raw')\n",
    "datasets = []\n",
    "if len(tif_files) != 1:\n",
    "    for tif_file in tif_files: \n",
    "        data = rasterio.open(os.path.join(f'{land_cover_city_dir}/raw', tif_file), 'r')\n",
    "        datasets.append(data)\n",
    "    land_cover_np_arr, out_transform= merge(datasets)\n",
    "    out_meta = data.meta.copy()\n",
    "    out_meta.update({\n",
    "        'driver':'GTiff', \n",
    "        'height':land_cover_np_arr.shape[1],\n",
    "        'width':land_cover_np_arr.shape[2], \n",
    "        'transform':out_transform\n",
    "    })\n",
    "    merged_output_path = f'{land_cover_city_dir}/processed/merged.tif'\n",
    "    with rasterio.open(merged_output_path, 'w', **out_meta) as dest:\n",
    "        dest.write(land_cover_np_arr)\n",
    "\n",
    "    land_cover_tif = rasterio.open(merged_output_path, 'r')\n",
    "    \n",
    "else: \n",
    "    land_cover_tif = rasterio.open(os.path.join(land_cover_city_dir, tif_files[0]), 'r')"
   ]
  },
  {
   "cell_type": "code",
   "execution_count": null,
   "metadata": {},
   "outputs": [],
   "source": [
    "pyplot.imshow(land_cover_tif.read(1), cmap='pink')\n",
    "pyplot.show()"
   ]
  },
  {
   "cell_type": "code",
   "execution_count": null,
   "metadata": {},
   "outputs": [],
   "source": [
    "land_cover_tif.crs"
   ]
  },
  {
   "cell_type": "code",
   "execution_count": null,
   "metadata": {},
   "outputs": [],
   "source": [
    "land_cover_masked, out_transform = mask(dataset=land_cover_tif,\n",
    "                                        shapes = [city_bounding_box], \n",
    "                                        crop = True\n",
    "                                        )\n",
    "\n",
    "out_meta = land_cover_tif.meta.copy()\n",
    "out_meta.update({\n",
    "    'driver':'GTiff', \n",
    "    'height':land_cover_masked.shape[1],\n",
    "    'width':land_cover_masked.shape[2], \n",
    "    'transform':out_transform\n",
    "})\n",
    "\n",
    "masked_output_path = f'{land_cover_city_dir}/processed/masked.tif'\n",
    "with rasterio.open(masked_output_path, 'w', **out_meta) as dest:\n",
    "    dest.write(land_cover_masked)\n",
    "\n",
    "land_cover_masked_tif = rasterio.open(masked_output_path, 'r')"
   ]
  },
  {
   "cell_type": "code",
   "execution_count": null,
   "metadata": {},
   "outputs": [],
   "source": [
    "pyplot.imshow(land_cover_masked_tif.read(1), cmap='pink')\n",
    "pyplot.show()"
   ]
  },
  {
   "cell_type": "code",
   "execution_count": null,
   "metadata": {},
   "outputs": [],
   "source": [
    "src_file = masked_output_path\n",
    "dst_file = f'{land_cover_city_dir}/processed/reprojected.tif'\n",
    "dst_crs = rasterio.crs.CRS.from_epsg(epsg)\n",
    "\n",
    "with rasterio.open(src_file) as src:\n",
    "    transform, width, height = calculate_default_transform(\n",
    "        src.crs, dst_crs, src.width, src.height, *src.bounds)\n",
    "    kwargs = src.meta.copy()\n",
    "    kwargs.update({\n",
    "        'crs': dst_crs,\n",
    "        'transform': transform,\n",
    "        'width': width,\n",
    "        'height': height\n",
    "    })\n",
    "\n",
    "    with rasterio.open(dst_file, 'w', **kwargs) as dst:\n",
    "        for i in range(1, src.count + 1):\n",
    "            reproject(\n",
    "                source=rasterio.band(src, i),\n",
    "                destination=rasterio.band(dst, i),\n",
    "                src_transform=src.transform,\n",
    "                src_crs=src.crs,\n",
    "                dst_transform=transform,\n",
    "                dst_crs=dst_crs,\n",
    "                resampling=Resampling.nearest)\n",
    "land_cover_reprojected_tif = rasterio.open(dst_file, 'r')"
   ]
  },
  {
   "cell_type": "code",
   "execution_count": null,
   "metadata": {},
   "outputs": [],
   "source": [
    "pyplot.imshow(land_cover_reprojected_tif.read(1), cmap='pink')\n",
    "pyplot.show()"
   ]
  },
  {
   "cell_type": "code",
   "execution_count": null,
   "metadata": {},
   "outputs": [],
   "source": [
    "land_cover_edges = np.zeros((road_graph_edges.shape[0],\n",
    "                             19\n",
    "                             ))"
   ]
  },
  {
   "cell_type": "code",
   "execution_count": null,
   "metadata": {},
   "outputs": [],
   "source": [
    "# 3 minutes\n",
    "for i in range(road_graph_edges.shape[0]):\n",
    "    edge = gdf_road_graph_edges.iloc[i]['geometry']\n",
    "    out_arr, out_transform = mask(dataset=land_cover_reprojected_tif, \n",
    "                                  shapes=[edge],\n",
    "                                  crop=True\n",
    "                                 )\n",
    "    values, counts = np.unique(out_arr-1, return_counts=True)\n",
    "    land_cover_edges[i, values[:-1]] = counts[:-1]"
   ]
  },
  {
   "cell_type": "code",
   "execution_count": null,
   "metadata": {},
   "outputs": [],
   "source": [
    "land_cover_edges_copy = land_cover_masked.copy()"
   ]
  },
  {
   "cell_type": "code",
   "execution_count": null,
   "metadata": {},
   "outputs": [],
   "source": [
    "land_cover_edges = np.delete(land_cover_edges, [5,6,12,13,14], axis = 1)"
   ]
  },
  {
   "cell_type": "code",
   "execution_count": null,
   "metadata": {},
   "outputs": [],
   "source": [
    "percentages = np.round(land_cover_edges/land_cover_edges.sum(axis=1, keepdims=True) * 100,0)"
   ]
  },
  {
   "cell_type": "code",
   "execution_count": null,
   "metadata": {},
   "outputs": [],
   "source": [
    "percentages = percentages.astype(np.uint8)"
   ]
  },
  {
   "cell_type": "code",
   "execution_count": null,
   "metadata": {},
   "outputs": [],
   "source": [
    "land_cover_columns = [f'lc_{i}' for i in range(percentages.shape[1])]"
   ]
  },
  {
   "cell_type": "code",
   "execution_count": null,
   "metadata": {},
   "outputs": [],
   "source": [
    "gdf_road_graph_edges[land_cover_columns] = percentages"
   ]
  },
  {
   "cell_type": "code",
   "execution_count": null,
   "metadata": {},
   "outputs": [],
   "source": [
    "gdf_road_graph_edges"
   ]
  }
 ],
 "metadata": {
  "kernelspec": {
   "display_name": "Python 3",
   "language": "python",
   "name": "python3"
  },
  "language_info": {
   "codemirror_mode": {
    "name": "ipython",
    "version": 3
   },
   "file_extension": ".py",
   "mimetype": "text/x-python",
   "name": "python",
   "nbconvert_exporter": "python",
   "pygments_lexer": "ipython3",
   "version": "3.11.0"
  }
 },
 "nbformat": 4,
 "nbformat_minor": 2
}
