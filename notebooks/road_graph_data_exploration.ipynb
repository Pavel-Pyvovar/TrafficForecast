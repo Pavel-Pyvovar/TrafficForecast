{
 "cells": [
  {
   "cell_type": "code",
   "execution_count": null,
   "id": "a9d61393-b708-4a59-8958-93cdb0481027",
   "metadata": {},
   "outputs": [],
   "source": [
    "import os\n",
    "import shutil\n",
    "import geopandas as gpd\n",
    "import pandas as pd\n",
    "import numpy as np\n",
    "from shapely.geometry import LineString\n",
    "import json\n",
    "import matplotlib.pyplot as plt\n",
    "import seaborn as sns\n",
    "from shapely.geometry import LineString"
   ]
  },
  {
   "cell_type": "code",
   "execution_count": null,
   "id": "dc91c2f3-8ffe-47d1-be9c-b8af704c8c0b",
   "metadata": {
    "tags": []
   },
   "outputs": [],
   "source": [
    "basedir = '/path/to/data'\n",
    "road_graph_folder = 'road_graph'\n",
    "spatial_data_folder = 'spatial_data'\n",
    "results_folder = 'road_graph_data_exploration_results'\n",
    "images_folder = 'images'\n",
    "city = '' # london, madrid, melbourne"
   ]
  },
  {
   "cell_type": "code",
   "execution_count": null,
   "id": "7ce8a360-e208-4015-bc78-76f254055106",
   "metadata": {
    "tags": []
   },
   "outputs": [],
   "source": [
    "def check_and_create_dir(path:str):\n",
    "    if os.path.exists(path):\n",
    "        shutil.rmtree(path)\n",
    "    os.makedirs(path)\n",
    "    \n",
    "    return None"
   ]
  },
  {
   "cell_type": "code",
   "execution_count": null,
   "id": "db7ba22e-1fb3-4777-bb0e-db0873d0626a",
   "metadata": {},
   "outputs": [],
   "source": [
    "spatial_data_city_path = f'{basedir}/{spatial_data_folder}/{city}'\n",
    "check_and_create_dir(spatial_data_city_path)"
   ]
  },
  {
   "cell_type": "code",
   "execution_count": null,
   "id": "6128cad1-8440-4619-a00f-8546e2b46ec6",
   "metadata": {},
   "outputs": [],
   "source": [
    "road_graph_results_city_path = f\"{basedir}/{results_folder}/{city}\"\n",
    "check_and_create_dir(road_graph_results_city_path)"
   ]
  },
  {
   "cell_type": "code",
   "execution_count": null,
   "id": "8befb042-f4e3-47af-87b0-bcc9511374b7",
   "metadata": {},
   "outputs": [],
   "source": [
    "road_graph_results_city_images_path = f\"{road_graph_results_city_path}/{images_folder}\"\n",
    "check_and_create_dir(road_graph_results_city_images_path)"
   ]
  },
  {
   "cell_type": "code",
   "execution_count": null,
   "id": "5751df7e-5d2c-445e-91f9-5144da0d1894",
   "metadata": {
    "tags": []
   },
   "outputs": [],
   "source": [
    "def preprocess_road_graph_edges(row:pd.Series): \n",
    "\n",
    "    node_start_coord = tuple([row['x_start'], row['y_start']])\n",
    "    node_end_coord = tuple([row['x_end'], row['y_end']])\n",
    "    number_of_nodes_with_counter_data = np.sum(['' != row['counter_info_start'].strip(), \n",
    "                                               '' != row['counter_info_end'].strip()]     \n",
    "                                              )\n",
    "    return {'coord_for_geometry' : [node_start_coord, node_end_coord],\n",
    "            'num_nodes_with_counter_data' : number_of_nodes_with_counter_data\n",
    "           }\n"
   ]
  },
  {
   "cell_type": "code",
   "execution_count": null,
   "id": "313abc5f-9b2b-4123-9330-5103c862e4b2",
   "metadata": {
    "tags": []
   },
   "outputs": [],
   "source": [
    "def preprocess_road_graph_supersegments(node_id_list:list, road_graph_nodes_copy: pd.DataFrame):\n",
    "    coords_list = []\n",
    "    number_of_nodes_with_counter_data = 0\n",
    "    \n",
    "    for node_id in node_id_list:\n",
    "        coords_list.append(tuple(road_graph_nodes_copy.loc[node_id][['x', 'y']]))\n",
    "        number_of_nodes_with_counter_data += '' != road_graph_nodes_copy.loc[node_id]['counter_info'].strip()\n",
    "        \n",
    "    return {'coord_for_geometry' : coords_list,\n",
    "            'num_nodes_with_counter_data' : number_of_nodes_with_counter_data\n",
    "           }"
   ]
  },
  {
   "cell_type": "code",
   "execution_count": null,
   "id": "eebd51c0-47a2-4f75-8826-3154585e9fd2",
   "metadata": {
    "tags": []
   },
   "outputs": [],
   "source": [
    "road_graph_nodes = pd.read_parquet(f'{basedir}/{road_graph_folder}/{city}/road_graph_nodes.parquet')\n",
    "road_graph_edges = pd.read_parquet(f'{basedir}/{road_graph_folder}/{city}/road_graph_edges.parquet')\n",
    "road_graph_supersegments = pd.read_parquet(f'{basedir}/{road_graph_folder}/{city}/road_graph_supersegments.parquet')"
   ]
  },
  {
   "cell_type": "code",
   "execution_count": null,
   "id": "3954bcbb-e0ba-40e3-9692-b12311b9ab86",
   "metadata": {
    "tags": []
   },
   "outputs": [],
   "source": [
    "road_graph_nodes['counter_data'] = np.where(road_graph_nodes['counter_info'] != '', 'yes', 'no')\n",
    "road_graph_nodes_gdf = gpd.GeoDataFrame(road_graph_nodes, \n",
    "                                        crs = 4326, \n",
    "                                        geometry = gpd.points_from_xy(road_graph_nodes['x'], \n",
    "                                                                      road_graph_nodes['y']\n",
    "                                                                     )\n",
    "                                       )"
   ]
  },
  {
   "cell_type": "code",
   "execution_count": null,
   "id": "ab3eef4f-8161-42b0-b271-326cfc3aa88d",
   "metadata": {
    "tags": []
   },
   "outputs": [],
   "source": [
    "road_graph_nodes_gdf.to_file(f'{spatial_data_city_path}/road_graph_nodes.gpkg', driver='GPKG')"
   ]
  },
  {
   "cell_type": "code",
   "execution_count": null,
   "id": "b61f0275-aa1c-43f6-9947-71c52f207de4",
   "metadata": {
    "tags": []
   },
   "outputs": [],
   "source": [
    "road_graph_nodes_copy = road_graph_nodes.copy(deep=True)\n",
    "road_graph_nodes_copy = road_graph_nodes_copy.set_index('node_id')"
   ]
  },
  {
   "cell_type": "code",
   "execution_count": null,
   "id": "bedd2218-36c2-431f-b3a6-4d9cd422ee05",
   "metadata": {
    "tags": []
   },
   "outputs": [],
   "source": [
    "road_graph_edges = road_graph_edges.merge(road_graph_nodes[['node_id', 'x', 'y', 'counter_info']], \n",
    "                                          left_on = 'u', \n",
    "                                          right_on = 'node_id'\n",
    "                                         )\n",
    "road_graph_edges = road_graph_edges.merge(road_graph_nodes[['node_id', 'x', 'y', 'counter_info']], \n",
    "                                          left_on = 'v', \n",
    "                                          right_on = 'node_id', \n",
    "                                          suffixes = ('_start', '_end')\n",
    "                                         )"
   ]
  },
  {
   "cell_type": "code",
   "execution_count": null,
   "id": "94a1118d-553c-4007-9130-f883dd11d412",
   "metadata": {
    "tags": []
   },
   "outputs": [],
   "source": [
    "road_graph_edges[['coord_for_geometry', 'num_nodes_with_counter_data']] = \\\n",
    "    road_graph_edges.apply(lambda row: preprocess_road_graph_edges(row),\n",
    "                           axis=1, \n",
    "                           result_type='expand'\n",
    "                          )"
   ]
  },
  {
   "cell_type": "code",
   "execution_count": null,
   "id": "9a02a13a-4c5d-4369-9f8d-7c2eef7f5d90",
   "metadata": {
    "tags": []
   },
   "outputs": [],
   "source": [
    "road_graph_edges.drop(columns = ['node_id_start', 'x_start', 'y_start', 'counter_info_start', \n",
    "                                 'node_id_end', 'x_end', 'y_end', 'counter_info_end', \n",
    "                                ], \n",
    "                      inplace = True\n",
    "                     )"
   ]
  },
  {
   "cell_type": "code",
   "execution_count": null,
   "id": "9093e9d3-9803-4082-9d2b-69918d49e0f2",
   "metadata": {
    "tags": []
   },
   "outputs": [],
   "source": [
    "geometry_edges = road_graph_edges['coord_for_geometry'].apply(lambda x: LineString(x))\n",
    "road_graph_edges_gdf = gpd.GeoDataFrame(road_graph_edges.drop(columns=['coord_for_geometry']), \n",
    "                                        crs = 4326, \n",
    "                                        geometry = geometry_edges\n",
    "                                       )"
   ]
  },
  {
   "cell_type": "code",
   "execution_count": null,
   "id": "108b9b9d-b6d8-4c6a-9bd1-3e6c95dea6df",
   "metadata": {
    "tags": []
   },
   "outputs": [],
   "source": [
    "road_graph_edges_gdf.to_file(f'{spatial_data_city_path}/road_graph_edges.gpkg', driver='GPKG')"
   ]
  },
  {
   "cell_type": "code",
   "execution_count": null,
   "id": "b4f2c77b-97e5-4772-8307-e0224a789af8",
   "metadata": {
    "tags": []
   },
   "outputs": [],
   "source": [
    "road_graph_supersegments[['coord_for_geometry', 'num_nodes_with_counter_data']] = \\\n",
    "    road_graph_supersegments.apply(lambda row: preprocess_road_graph_supersegments(row['nodes'], road_graph_nodes_copy),\n",
    "                                   axis=1, \n",
    "                                   result_type='expand'\n",
    "                                  )"
   ]
  },
  {
   "cell_type": "code",
   "execution_count": null,
   "id": "084b5790-4834-4406-8574-a88cef7027c5",
   "metadata": {
    "tags": []
   },
   "outputs": [],
   "source": [
    "road_graph_supersegments['num_nodes'] = road_graph_supersegments['nodes'].apply(lambda x: len(x))\n",
    "road_graph_supersegments['perc_nodes_with_counter_data'] = round(road_graph_supersegments['num_nodes_with_counter_data']/road_graph_supersegments['num_nodes'],2)"
   ]
  },
  {
   "cell_type": "code",
   "execution_count": null,
   "id": "7ba3ae1a-4085-4fca-bae1-05b452c27ea6",
   "metadata": {
    "tags": []
   },
   "outputs": [],
   "source": [
    "geometry_supersegments = road_graph_supersegments['coord_for_geometry'].apply(lambda x: LineString(x))\n",
    "road_graph_supersegments_gdf = gpd.GeoDataFrame(road_graph_supersegments.drop(columns=['coord_for_geometry', 'nodes']), \n",
    "                                                crs = 4326, \n",
    "                                                geometry = geometry_supersegments\n",
    "                                               )"
   ]
  },
  {
   "cell_type": "code",
   "execution_count": null,
   "id": "12a18044-e1e8-4ae7-bb09-30ee518e9aa2",
   "metadata": {
    "tags": []
   },
   "outputs": [],
   "source": [
    "road_graph_supersegments_gdf.to_file(f'{spatial_data_city_path}/road_graph_supersegments.gpkg', driver='GPKG')"
   ]
  },
  {
   "cell_type": "code",
   "execution_count": null,
   "id": "66e2528e-7f23-45be-8c5c-0ca8ed7e78c9",
   "metadata": {
    "tags": []
   },
   "outputs": [],
   "source": [
    "# SOME STATISTICS\n",
    "with open(f'{road_graph_results_city_path}/counter_coverage.txt', 'w') as file:  \n",
    "    file.write(f\"Percentage of nodes with counter data: {round(np.sum('' != road_graph_nodes['counter_info'])/road_graph_nodes.shape[0]*100,3)}%\\n\")\n",
    "    file.write(f\"Percentage of edges with counter data: {round(np.sum(road_graph_edges['num_nodes_with_counter_data']>0)/road_graph_edges.shape[0]*100,3)}%\\n\")\n",
    "    file.write(f\"Percentage of supersegments with counter data (at least one node): {round(np.sum(road_graph_supersegments['num_nodes_with_counter_data']>0)/road_graph_supersegments.shape[0]*100,3)} %\")"
   ]
  },
  {
   "cell_type": "code",
   "execution_count": null,
   "id": "88e9e8b6-b4fd-468c-bb9f-ce5b711fc740",
   "metadata": {
    "tags": []
   },
   "outputs": [],
   "source": [
    "imortance_values = ['anything else', 'tertiary', 'secondary', 'primary', 'trunk', 'highway']\n",
    "importance_value_counts = road_graph_edges['importance'].value_counts()\n",
    "x_labels = [imortance_values[importance_code] for importance_code in importance_value_counts.index]\n",
    "plt.bar(x_labels, importance_value_counts.values, color='skyblue')\n",
    "plt.xlabel('Categories')\n",
    "plt.ylabel('Count')\n",
    "plt.title(f\"Distributrion of edges' types, {city.capitalize()}\")\n",
    "plt.xticks(x_labels, rotation=25, ha=\"center\")\n",
    "plt.savefig(f'{road_graph_results_city_images_path}/distributrion_of_edge_types.png',  bbox_inches='tight')\n",
    "plt.show()"
   ]
  },
  {
   "cell_type": "code",
   "execution_count": null,
   "id": "cb0a2226-6a58-45a2-8e9a-c0ca5f323488",
   "metadata": {
    "tags": []
   },
   "outputs": [],
   "source": [
    "road_graph_edges['counter_label'] = road_graph_edges['counter_distance'].apply(lambda x: 'with counter data' if x == 0 else 'without counter data')\n",
    "percentage_df = pd.crosstab(road_graph_edges['counter_label'], road_graph_edges['importance'], normalize='columns') * 100\n",
    "ax = percentage_df.plot(y=importance_value_counts.index, kind=\"bar\", figsize = (13,6), use_index=True, rot=0)\n",
    "plt.legend(title='Type', labels=[f'{imortance_values[code]}' for code in importance_value_counts.index], loc='upper right')\n",
    "plt.xlabel('Presence of counter data')\n",
    "plt.ylabel('Percentage, %')\n",
    "plt.title(f'Percentage of different road types with & without counter data, {city.capitalize()}')\n",
    "plt.savefig(f'{road_graph_results_city_images_path}/percentage_of_different_road_types_with_&_without_counter_data.png',  bbox_inches='tight')\n",
    "plt.show()"
   ]
  },
  {
   "cell_type": "code",
   "execution_count": null,
   "id": "04a4193b-0b01-47a1-b9e6-f4573b267a07",
   "metadata": {
    "tags": []
   },
   "outputs": [],
   "source": [
    "fig, axes = plt.subplots(nrows=3, ncols=1, figsize=(8, 12))\n",
    "\n",
    "for i, column in enumerate(['parsed_maxspeed', 'length_meters', 'counter_distance']):\n",
    "    axes[i].hist(road_graph_edges[column], bins='auto', edgecolor='black')\n",
    "    axes[i].set_xlabel('Value')\n",
    "    axes[i].set_ylabel('Frequency')\n",
    "    axes[i].set_title(f'Distribution of {column}')\n",
    "\n",
    "plt.tight_layout()\n",
    "plt.savefig(f'{road_graph_results_city_images_path}/simple_dirtribution_of_numeric_columns_of_road_edges.png',  bbox_inches='tight')\n",
    "plt.show()"
   ]
  },
  {
   "cell_type": "code",
   "execution_count": null,
   "id": "14bade71-2204-4bc5-b735-978a5a476eef",
   "metadata": {
    "tags": []
   },
   "outputs": [],
   "source": [
    "columns_to_plot = ['num_nodes', 'perc_nodes_with_counter_data']\n",
    "fig, axes = plt.subplots(ncols=len(columns_to_plot))\n",
    "\n",
    "for column, axis in zip(columns_to_plot, axes):\n",
    "        sns.boxplot(data=road_graph_supersegments[column], ax=axis) \n",
    "        axis.set_title(column)\n",
    "plt.tight_layout()\n",
    "plt.savefig(f'{road_graph_results_city_images_path}/simple_whiskerplots_graph_supersegments.png',  bbox_inches='tight')\n",
    "plt.show()"
   ]
  }
 ],
 "metadata": {
  "kernelspec": {
   "display_name": "Python 3 (ipykernel)",
   "language": "python",
   "name": "python3"
  },
  "language_info": {
   "codemirror_mode": {
    "name": "ipython",
    "version": 3
   },
   "file_extension": ".py",
   "mimetype": "text/x-python",
   "name": "python",
   "nbconvert_exporter": "python",
   "pygments_lexer": "ipython3",
   "version": "3.10.13"
  }
 },
 "nbformat": 4,
 "nbformat_minor": 5
}
