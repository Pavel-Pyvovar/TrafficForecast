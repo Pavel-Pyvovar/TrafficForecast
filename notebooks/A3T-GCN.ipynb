{
 "cells": [
  {
   "cell_type": "markdown",
   "metadata": {
    "id": "2O7ctO2Xc3WN"
   },
   "source": [
    "# Forecasting Traffic using A3T-GCN\n",
    "source: https://github.com/PacktPublishing/Hands-On-Graph-Neural-Networks-Using-Python/blob/main/Chapter15/chapter15.ipynb"
   ]
  },
  {
   "cell_type": "code",
   "execution_count": null,
   "metadata": {
    "colab": {
     "base_uri": "https://localhost:8080/"
    },
    "id": "TgXWpCfa5ryV",
    "outputId": "c0eb4bc6-6334-4ef6-c0b9-f8876b28c804",
    "tags": []
   },
   "outputs": [],
   "source": [
    "import torch\n",
    "# !pip install -q torch-scatter~=2.1.0 torch-sparse~=0.6.16 torch-cluster~=1.6.0 torch-spline-conv~=1.2.1 torch-geometric==2.2.0 -f https://data.pyg.org/whl/torch-{torch.__version__}.html\n",
    "# !pip install -q torch-geometric-temporal==0.54.0\n",
    "\n",
    "torch.manual_seed(0)\n",
    "torch.cuda.manual_seed(0)\n",
    "torch.cuda.manual_seed_all(0)\n",
    "torch.backends.cudnn.deterministic = True\n",
    "torch.backends.cudnn.benchmark = False"
   ]
  },
  {
   "cell_type": "markdown",
   "metadata": {
    "id": "UBlBgPdSc3WS"
   },
   "source": [
    "## Exploring the PeMS-M dataset"
   ]
  },
  {
   "cell_type": "code",
   "execution_count": null,
   "metadata": {
    "id": "BAOD0rIuc3WS",
    "tags": []
   },
   "outputs": [],
   "source": [
    "from io import BytesIO\n",
    "from urllib.request import urlopen\n",
    "from zipfile import ZipFile\n",
    "\n",
    "url = 'https://github.com/VeritasYin/STGCN_IJCAI-18/raw/master/dataset/PeMSD7_Full.zip'\n",
    "with urlopen(url) as zurl:\n",
    "    with ZipFile(BytesIO(zurl.read())) as zfile:\n",
    "        zfile.extractall('../data/PeMSD7')"
   ]
  },
  {
   "cell_type": "code",
   "execution_count": null,
   "metadata": {
    "id": "-LaR92kU5vMM",
    "tags": []
   },
   "outputs": [],
   "source": [
    "import pandas as pd\n",
    "\n",
    "speeds = pd.read_csv('../data/PeMSD7/PeMSD7_V_228.csv', names=range(0,228))\n",
    "distances = pd.read_csv('../data/PeMSD7/PeMSD7_W_228.csv', names=range(0,228))"
   ]
  },
  {
   "cell_type": "code",
   "execution_count": null,
   "metadata": {
    "colab": {
     "base_uri": "https://localhost:8080/",
     "height": 482
    },
    "id": "DqxRw7P2c3WT",
    "outputId": "d65550da-1d64-4245-ed60-28f7c47d1732",
    "tags": []
   },
   "outputs": [],
   "source": [
    "import numpy as np\n",
    "import matplotlib.pyplot as plt\n",
    "\n",
    "plt.figure(figsize=(10,5), dpi=100)\n",
    "plt.plot(speeds)\n",
    "plt.grid(linestyle=':')\n",
    "plt.xlabel('Time (5 min)')\n",
    "plt.ylabel('Traffic speed')"
   ]
  },
  {
   "cell_type": "code",
   "execution_count": null,
   "metadata": {
    "colab": {
     "base_uri": "https://localhost:8080/",
     "height": 482
    },
    "id": "pGdmt-dL5vKV",
    "outputId": "02b17281-159e-4b03-c4c4-fd93fa8090db",
    "tags": []
   },
   "outputs": [],
   "source": [
    "# Plot mean/std traffic speed\n",
    "mean = speeds.mean(axis=1)\n",
    "std = speeds.std(axis=1)\n",
    "\n",
    "plt.figure(figsize=(10,5), dpi=100)\n",
    "plt.plot(mean, 'k-')\n",
    "plt.grid(linestyle=':')\n",
    "plt.fill_between(mean.index, mean-std, mean+std, color='r', alpha=0.1)\n",
    "plt.xlabel('Time (5 min)')\n",
    "plt.ylabel('Traffic speed')"
   ]
  },
  {
   "cell_type": "code",
   "execution_count": null,
   "metadata": {
    "colab": {
     "base_uri": "https://localhost:8080/",
     "height": 402
    },
    "id": "pKXVmwXnc3WU",
    "outputId": "0b78ad3e-1e06-4cb1-aa5d-1eaf82278673",
    "tags": []
   },
   "outputs": [],
   "source": [
    "# We can also visualize the correlation between the timeseries in different routes\n",
    "fig, (ax1, ax2) = plt.subplots(1, 2, figsize=(8, 8))\n",
    "fig.tight_layout(pad=3.0)\n",
    "ax1.matshow(distances)\n",
    "ax1.set_xlabel(\"Sensor station\")\n",
    "ax1.set_ylabel(\"Sensor station\")\n",
    "ax1.title.set_text(\"Distance matrix\")\n",
    "ax2.matshow(-np.corrcoef(speeds.T))\n",
    "ax2.set_xlabel(\"Sensor station\")\n",
    "ax2.set_ylabel(\"Sensor station\")\n",
    "ax2.title.set_text(\"Correlation matrix\")"
   ]
  },
  {
   "cell_type": "markdown",
   "metadata": {
    "id": "U9cUFUEQc3WU"
   },
   "source": [
    "## Processing the dataset"
   ]
  },
  {
   "cell_type": "code",
   "execution_count": null,
   "metadata": {
    "id": "k4SDDWjH51Pl",
    "tags": []
   },
   "outputs": [],
   "source": [
    "def compute_adj(distances, sigma2=0.1, epsilon=0.5):\n",
    "    d = distances.to_numpy() / 10000.\n",
    "    d2 = d * d\n",
    "    n = distances.shape[0]\n",
    "    w_mask = np.ones([n, n]) - np.identity(n)\n",
    "    return np.exp(-d2 / sigma2) * (np.exp(-d2 / sigma2) >= epsilon) * w_mask\n",
    "\n",
    "adj = compute_adj(distances)"
   ]
  },
  {
   "cell_type": "code",
   "execution_count": null,
   "metadata": {
    "colab": {
     "base_uri": "https://localhost:8080/",
     "height": 683
    },
    "id": "3oLFf4TOCagM",
    "outputId": "263bb4ac-f8ad-4e56-a952-8a7b58dea9a1",
    "tags": []
   },
   "outputs": [],
   "source": [
    "plt.figure(figsize=(8, 8))\n",
    "cax = plt.matshow(adj, False)\n",
    "plt.colorbar(cax)\n",
    "plt.xlabel(\"Sensor station\")\n",
    "plt.ylabel(\"Sensor station\")"
   ]
  },
  {
   "cell_type": "code",
   "execution_count": null,
   "metadata": {
    "colab": {
     "base_uri": "https://localhost:8080/",
     "height": 475
    },
    "id": "9xNRTv_w_x51",
    "outputId": "f0c588c2-772d-460a-9323-69d6b78f5ee4",
    "tags": []
   },
   "outputs": [],
   "source": [
    "import matplotlib.pyplot as plt\n",
    "import networkx as nx\n",
    "\n",
    "def plot_graph(adj):\n",
    "    plt.figure(figsize=(10,5))\n",
    "    rows, cols = np.where(adj > 0)\n",
    "    edges = zip(rows.tolist(), cols.tolist())\n",
    "    G = nx.Graph()\n",
    "    G.add_edges_from(edges)\n",
    "    nx.draw(G, with_labels=True)\n",
    "    plt.show()\n",
    "\n",
    "plot_graph(adj)"
   ]
  },
  {
   "cell_type": "code",
   "execution_count": null,
   "metadata": {
    "id": "JKeL3vFUhN_c",
    "tags": []
   },
   "outputs": [],
   "source": [
    "# Apply z-score\n",
    "def zscore(x, mean, std):\n",
    "    return (x - mean) / std\n",
    "\n",
    "speeds_norm = zscore(speeds, speeds.mean(axis=0), speeds.std(axis=0))"
   ]
  },
  {
   "cell_type": "code",
   "execution_count": null,
   "metadata": {
    "colab": {
     "base_uri": "https://localhost:8080/"
    },
    "id": "wvFLjtvShPJg",
    "outputId": "8f7bea35-07df-43c9-c16d-203d837d871b",
    "tags": []
   },
   "outputs": [],
   "source": [
    "speeds_norm.shape"
   ]
  },
  {
   "cell_type": "code",
   "execution_count": null,
   "metadata": {
    "id": "0tGtbEVAicru",
    "tags": []
   },
   "outputs": [],
   "source": [
    "speeds_train_x = speeds_norm[:12]\n",
    "speeds_train_y = speeds_norm[12:15]\n",
    "speeds_test_x = speeds_norm[15:15+12]\n",
    "speeds_test_y = speeds_norm[15+12:15+12+3]"
   ]
  },
  {
   "cell_type": "code",
   "execution_count": null,
   "metadata": {
    "colab": {
     "base_uri": "https://localhost:8080/"
    },
    "id": "MPEbjN7ejB74",
    "outputId": "094084ac-e67d-469d-b5fc-e3588bc7ea06",
    "tags": []
   },
   "outputs": [],
   "source": [
    "speeds_train_x.shape, speeds_train_y.shape, speeds_test_x.shape, speeds_test_y.shape"
   ]
  },
  {
   "cell_type": "code",
   "execution_count": null,
   "metadata": {
    "colab": {
     "base_uri": "https://localhost:8080/"
    },
    "id": "40sn9P4jjMrf",
    "outputId": "cb8c037f-0979-4b90-936c-964f5d97760c",
    "tags": []
   },
   "outputs": [],
   "source": [
    "train_xs = speeds_train_x.to_numpy().reshape((4, 3, 228)).mean(1).T\n",
    "test_xs = speeds_test_x.to_numpy().reshape((4, 3, 228)).mean(1).T\n",
    "train_xs.shape, test_xs.shape"
   ]
  },
  {
   "cell_type": "code",
   "execution_count": null,
   "metadata": {
    "colab": {
     "base_uri": "https://localhost:8080/"
    },
    "id": "fbtb1MxhlC2g",
    "outputId": "9c098cce-508c-4a69-d09b-79c3856dd6f7",
    "tags": []
   },
   "outputs": [],
   "source": [
    "train_ys = speeds_train_y.mean(0)\n",
    "test_ys = speeds_test_y.mean(0)\n",
    "train_ys.head()"
   ]
  },
  {
   "cell_type": "code",
   "execution_count": null,
   "metadata": {
    "colab": {
     "base_uri": "https://localhost:8080/"
    },
    "id": "Dly3YN4LGNKD",
    "outputId": "440a180b-d6b8-4f61-99c6-be15cf451eef",
    "tags": []
   },
   "outputs": [],
   "source": [
    "# Create dataset\n",
    "# lags = 24\n",
    "# horizon = 48\n",
    "# xs = []\n",
    "# ys = []\n",
    "# for i in range(lags, speeds_norm.shape[0]-horizon):\n",
    "#     xs.append(speeds_norm.to_numpy()[i-lags:i].T)\n",
    "#     ys.append(speeds_norm.to_numpy()[i+horizon-1])\n",
    "\n",
    "\n",
    "\n",
    "# Convert adjacency matrix to edge_index (COO format)\n",
    "edge_index = (np.array(adj) > 0).nonzero()\n",
    "edge_index"
   ]
  },
  {
   "cell_type": "code",
   "execution_count": null,
   "metadata": {
    "colab": {
     "base_uri": "https://localhost:8080/"
    },
    "id": "nBb-CSaBIu9G",
    "outputId": "5a798c8f-d4d6-4e2c-fc5b-f5d8fff2ebc5",
    "tags": []
   },
   "outputs": [],
   "source": [
    "from torch_geometric_temporal.signal import StaticGraphTemporalSignal\n",
    "\n",
    "train_dataset = StaticGraphTemporalSignal(edge_index, adj[adj > 0], np.array([train_xs]), np.array([train_ys]))\n",
    "test_dataset = StaticGraphTemporalSignal(edge_index, adj[adj > 0], np.array([test_xs]), np.array([test_ys]))\n",
    "train_dataset[0]"
   ]
  },
  {
   "cell_type": "code",
   "execution_count": null,
   "metadata": {
    "colab": {
     "base_uri": "https://localhost:8080/"
    },
    "id": "J7fYgkJKuYf1",
    "outputId": "1120f0a6-625a-4686-b36b-4afa1d9a588b",
    "tags": []
   },
   "outputs": [],
   "source": [
    "test_dataset[0]"
   ]
  },
  {
   "cell_type": "code",
   "execution_count": null,
   "metadata": {
    "id": "ry16ZQEFOvQN"
   },
   "outputs": [],
   "source": [
    "# from torch_geometric_temporal.signal import temporal_signal_split\n",
    "\n",
    "# train_dataset, test_dataset = temporal_signal_split(dataset, train_ratio=0.8)"
   ]
  },
  {
   "cell_type": "markdown",
   "metadata": {
    "id": "F5P9TB1jc3WV"
   },
   "source": [
    "## Implementing the A3T-GCN architecture"
   ]
  },
  {
   "cell_type": "code",
   "execution_count": null,
   "metadata": {
    "id": "07__aV23v9rb",
    "tags": []
   },
   "outputs": [],
   "source": [
    "from torch_geometric_temporal.nn.recurrent import A3TGCN\n",
    "\n",
    "\n",
    "class TemporalGNN(torch.nn.Module):\n",
    "    def __init__(self, dim_in, periods):\n",
    "        super().__init__()\n",
    "        self.tgnn = A3TGCN(in_channels=dim_in, out_channels=32, periods=periods)\n",
    "        self.linear = torch.nn.Linear(32, periods)\n",
    "\n",
    "    def forward(self, x, edge_index, edge_attr):\n",
    "        h = self.tgnn(x, edge_index, edge_attr).relu()\n",
    "        h = self.linear(h)\n",
    "        return h"
   ]
  },
  {
   "cell_type": "code",
   "execution_count": null,
   "metadata": {
    "colab": {
     "base_uri": "https://localhost:8080/"
    },
    "id": "VkrEV09dRBzQ",
    "outputId": "3d503e54-ca19-4995-dfbc-240dd67f8d5b",
    "tags": []
   },
   "outputs": [],
   "source": [
    "model = TemporalGNN(4, 1).to('cpu')\n",
    "optimizer = torch.optim.Adam(model.parameters(), lr=0.005)\n",
    "model.train()\n",
    "print(model)\n",
    "\n",
    "# Training\n",
    "for epoch in range(30):\n",
    "    loss = 0\n",
    "    step = 0\n",
    "    # for i, snapshot in enumerate(train_dataset):\n",
    "    snapshot = train_dataset[0]\n",
    "    # print(snapshot.x.shape, snapshot.x.unsqueeze(2).shape, snapshot.edge_index.shape, snapshot.edge_attr.shape)\n",
    "    y_pred = model(snapshot.x.unsqueeze(2), snapshot.edge_index, snapshot.edge_attr)\n",
    "    loss += torch.mean((y_pred-snapshot.y)**2)\n",
    "    step += 1\n",
    "    loss = loss / (step + 1)\n",
    "    loss.backward()\n",
    "    optimizer.step()\n",
    "    optimizer.zero_grad()\n",
    "    if epoch % 5 == 0:\n",
    "        print(f\"Epoch {epoch:>2} | Train MSE: {loss:.4f}\")"
   ]
  },
  {
   "cell_type": "code",
   "execution_count": null,
   "metadata": {
    "id": "RfWWzJyUd89z",
    "tags": []
   },
   "outputs": [],
   "source": [
    "def inverse_zscore(x, mean, std):\n",
    "    return x * std + mean\n",
    "\n",
    "y_test = []\n",
    "for snapshot in test_dataset:\n",
    "    y_hat = snapshot.y.numpy()\n",
    "    y_hat = inverse_zscore(y_hat, speeds.mean(axis=0), speeds.std(axis=0))\n",
    "    y_test = np.append(y_test, y_hat)\n",
    "\n",
    "gnn_pred = []\n",
    "model.eval()\n",
    "for snapshot in test_dataset:\n",
    "    snapshot = snapshot\n",
    "    y_hat = model(snapshot.x.unsqueeze(2), snapshot.edge_index, snapshot.edge_weight).squeeze().detach().numpy()\n",
    "    y_hat = inverse_zscore(y_hat, speeds.mean(axis=0), speeds.std(axis=0))\n",
    "    gnn_pred = np.append(gnn_pred, y_hat)"
   ]
  },
  {
   "cell_type": "code",
   "execution_count": null,
   "metadata": {
    "colab": {
     "base_uri": "https://localhost:8080/"
    },
    "id": "YrGqfjE3Bb0u",
    "outputId": "dd7bef10-7142-4fe9-a430-39cb9e2a47cd",
    "tags": []
   },
   "outputs": [],
   "source": [
    "def MAE(real, pred):\n",
    "    return np.mean(np.abs(pred - real))\n",
    "\n",
    "def RMSE(real, pred):\n",
    "    return np.sqrt(np.mean((pred - real) ** 2))\n",
    "\n",
    "def MAPE(real, pred):\n",
    "    return np.mean(np.abs(pred - real) / (real + 1e-5))\n",
    "\n",
    "print(f'GNN MAE  = {MAE(gnn_pred, y_test):.4f}')\n",
    "print(f'GNN RMSE = {RMSE(gnn_pred, y_test):.4f}')\n",
    "print(f'GNN MAPE = {MAPE(gnn_pred, y_test):.4f}')"
   ]
  },
  {
   "cell_type": "code",
   "execution_count": null,
   "metadata": {
    "colab": {
     "base_uri": "https://localhost:8080/"
    },
    "id": "UIQF9mJ8XZTP",
    "outputId": "1e14e450-186c-49b0-8846-e7f3b05ef1d9",
    "tags": []
   },
   "outputs": [],
   "source": [
    "rw_pred = []\n",
    "for snapshot in test_dataset:\n",
    "    y_hat = snapshot.x[:,-1].squeeze().detach().numpy()\n",
    "    y_hat = inverse_zscore(y_hat, speeds.mean(axis=0), speeds.std(axis=0))\n",
    "    rw_pred = np.append(rw_pred, y_hat)\n",
    "\n",
    "print(f'RW MAE  = {MAE(rw_pred, y_test):.4f}')\n",
    "print(f'RW RMSE = {RMSE(rw_pred, y_test):.4f}')\n",
    "print(f'RW MAPE = {MAPE(rw_pred, y_test):.4f}')"
   ]
  },
  {
   "cell_type": "code",
   "execution_count": null,
   "metadata": {
    "colab": {
     "base_uri": "https://localhost:8080/"
    },
    "id": "sJnP5Oto2TVQ",
    "outputId": "53b3d27f-57a4-47b8-ee7d-2b1ba024e7c3",
    "tags": []
   },
   "outputs": [],
   "source": [
    "ha_pred = []\n",
    "# for i in range(lags, speeds_norm.shape[0]-horizon):\n",
    "for snapshot in test_dataset:\n",
    "    y_hat = snapshot.x.squeeze().detach().numpy().mean(axis=1)\n",
    "    y_hat = inverse_zscore(y_hat, speeds.mean(axis=0), speeds.std(axis=0))\n",
    "    ha_pred.append(y_hat)\n",
    "ha_pred = np.array(ha_pred).flatten()[-len(y_test):]\n",
    "\n",
    "print(f'HA MAE  = {MAE(ha_pred, y_test):.4f}')\n",
    "print(f'HA RMSE = {RMSE(ha_pred, y_test):.4f}')\n",
    "print(f'HA MAPE = {MAPE(ha_pred, y_test):.4f}')"
   ]
  },
  {
   "cell_type": "code",
   "execution_count": null,
   "metadata": {
    "colab": {
     "base_uri": "https://localhost:8080/",
     "height": 1000
    },
    "id": "HJsIs7Y9WUMG",
    "outputId": "fbdf8545-442c-4da5-d76f-7737263776c1",
    "tags": []
   },
   "outputs": [],
   "source": [
    "y_preds = [inverse_zscore(model(snapshot.x.unsqueeze(2), snapshot.edge_index, snapshot.edge_weight).squeeze().detach().numpy(), speeds.mean(axis=0), speeds.std(axis=0)).mean() for snapshot in test_dataset]\n",
    "\n",
    "mean = speeds.mean(axis=1)\n",
    "std = speeds.std(axis=1)\n",
    "\n",
    "plt.figure(figsize=(10,5))\n",
    "plt.plot(np.array(mean), 'k-', label='Mean')\n",
    "plt.plot(range(len(speeds)-len(y_preds), len(speeds)), y_preds, 'r-', label='Prediction')\n",
    "plt.grid(linestyle=':')\n",
    "plt.fill_between(mean.index, mean-std, mean+std, color='r', alpha=0.1)\n",
    "plt.axvline(x=len(speeds)-len(y_preds), color='b', linestyle='--')\n",
    "plt.xlabel('Time (5 min)')\n",
    "plt.ylabel('Traffic speed to predict')\n",
    "plt.legend(loc='upper right')"
   ]
  },
  {
   "cell_type": "code",
   "execution_count": null,
   "metadata": {},
   "outputs": [],
   "source": []
  }
 ],
 "metadata": {
  "colab": {
   "provenance": []
  },
  "kernelspec": {
   "display_name": "t4c22_pygt",
   "language": "python",
   "name": "t4c22_pygt"
  },
  "language_info": {
   "codemirror_mode": {
    "name": "ipython",
    "version": 3
   },
   "file_extension": ".py",
   "mimetype": "text/x-python",
   "name": "python",
   "nbconvert_exporter": "python",
   "pygments_lexer": "ipython3",
   "version": "3.8.13"
  },
  "vscode": {
   "interpreter": {
    "hash": "7fa0016a911d70e86532c5706c9b4690ef8aee26a1d06018a1e37e463667ff8c"
   }
  }
 },
 "nbformat": 4,
 "nbformat_minor": 4
}
