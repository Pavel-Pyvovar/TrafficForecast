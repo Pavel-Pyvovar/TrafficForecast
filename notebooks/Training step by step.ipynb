{
 "cells": [
  {
   "cell_type": "code",
   "execution_count": null,
   "id": "9cfe44e2-24ee-493e-bc97-ed5dcca6f8aa",
   "metadata": {
    "tags": []
   },
   "outputs": [],
   "source": [
    "import sys"
   ]
  },
  {
   "cell_type": "code",
   "execution_count": null,
   "id": "97031eff-20d6-4d99-b7aa-3622c0dbcff0",
   "metadata": {
    "tags": []
   },
   "outputs": [],
   "source": [
    "sys.path.append(\"../Traffic4cast\")"
   ]
  },
  {
   "cell_type": "code",
   "execution_count": null,
   "id": "5e9008b6-094e-4648-943e-e2afd63bb3d8",
   "metadata": {
    "tags": []
   },
   "outputs": [],
   "source": [
    "sys.path"
   ]
  },
  {
   "cell_type": "code",
   "execution_count": null,
   "id": "62b63e8a-0c5f-4f39-8c42-41b768fb6734",
   "metadata": {
    "tags": []
   },
   "outputs": [],
   "source": [
    "import os\n",
    "import argparse\n",
    "\n",
    "import statistics\n",
    "from collections import defaultdict\n",
    "\n",
    "import pandas as pd\n",
    "import pyarrow as pa\n",
    "import pyarrow.parquet as pq\n",
    "import torch\n",
    "import torch.nn.functional as F\n",
    "import torch_geometric\n",
    "import tqdm\n",
    "from torch import nn\n",
    "from pathlib import Path\n",
    "import numpy as np\n",
    "import random\n",
    "from sklearn.model_selection import KFold\n",
    "\n",
    "import t4c22\n",
    "from t4c22.metric.masked_crossentropy import get_weights_from_class_fractions\n",
    "from t4c22.misc.t4c22_logging import t4c_apply_basic_logging_config\n",
    "from t4c22.t4c22_config import class_fractions\n",
    "from t4c22.t4c22_config import load_basedir\n",
    "from t4c22.dataloading.t4c22_dataset_geometric import T4c22GeometricDataset\n",
    "\n",
    "t4c_apply_basic_logging_config(loglevel=\"DEBUG\")\n",
    "\n",
    "BASEDIR = load_basedir(fn=\"t4c22_config.json\", pkg=t4c22)"
   ]
  },
  {
   "cell_type": "code",
   "execution_count": null,
   "id": "30d32676-90d5-4740-98ba-0b326a5b16a4",
   "metadata": {
    "tags": []
   },
   "outputs": [],
   "source": [
    "torch.__version__"
   ]
  },
  {
   "cell_type": "code",
   "execution_count": null,
   "id": "cd0e617f-bd44-4e96-98c3-cddc422e8cca",
   "metadata": {
    "tags": []
   },
   "outputs": [],
   "source": [
    "torch.cuda.is_available()"
   ]
  },
  {
   "cell_type": "code",
   "execution_count": null,
   "id": "3f486888-0568-4854-8c05-83f4d90e242c",
   "metadata": {
    "tags": []
   },
   "outputs": [],
   "source": [
    "HIDDEN_CHANNELS = 32\n",
    "NUM_LAYERS = 3\n",
    "NUM_EDGE_CLASSES = 3\n",
    "NUM_FEATURES = 4\n",
    "DROPOUT = 0.0\n",
    "BATCH_SIZE = 2\n",
    "CITY = \"london\"\n",
    "nan_to_num_map = {\"london\": -1.21, \"melbourne\": -0.8, \"madrid\": -0.56}\n",
    "SEED = 1234\n",
    "torch.manual_seed(SEED)\n",
    "np.random.seed(SEED)\n",
    "random.seed(SEED)\n",
    "torch.cuda.manual_seed(SEED)\n",
    "device = torch.device(\"cuda\", 0)"
   ]
  },
  {
   "cell_type": "code",
   "execution_count": null,
   "id": "4df1618f-61d7-46ef-8118-7c388aaf7187",
   "metadata": {
    "tags": []
   },
   "outputs": [],
   "source": [
    "BASEDIR"
   ]
  },
  {
   "cell_type": "code",
   "execution_count": null,
   "id": "9b8fe633-a36f-4987-91ad-70c99a02e0db",
   "metadata": {
    "tags": []
   },
   "outputs": [],
   "source": [
    "class RecLinear(nn.Module):\n",
    "    def __init__(self, num_edges, num_nodes, num_attrs, in_channels, hidden_channels, out_channels, num_layers,\n",
    "                 dropout):\n",
    "\n",
    "        super(RecLinear, self).__init__()\n",
    "\n",
    "        self.embed = nn.Embedding(num_edges, hidden_channels)\n",
    "        self.node_embed = nn.Embedding(num_nodes, hidden_channels)\n",
    "        self.node_embed1 = nn.Embedding(num_nodes, 4)\n",
    "        self.time_embed = nn.Embedding(96, hidden_channels)\n",
    "        self.week_embed = nn.Embedding(7, hidden_channels)\n",
    "        self.node_index = torch.arange(0, num_nodes).to(device)\n",
    "\n",
    "        self.node_lin = nn.Linear(in_channels, hidden_channels)\n",
    "        self.node_lin1 = nn.Linear(hidden_channels * 2, hidden_channels)\n",
    "        self.attr_lin = nn.Linear(num_attrs, hidden_channels)\n",
    "        self.attr_lin1 = nn.Sequential(nn.Linear(num_attrs, hidden_channels), nn.LeakyReLU(),\n",
    "                                       nn.Linear(hidden_channels, hidden_channels))\n",
    "        self.lins = torch.nn.ModuleList()\n",
    "        self.lins.append(torch.nn.Linear(hidden_channels * 6, hidden_channels))\n",
    "        for _ in range(num_layers - 2):\n",
    "            self.lins.append(torch.nn.Linear(hidden_channels, hidden_channels))\n",
    "        self.lins.append(torch.nn.Linear(hidden_channels, out_channels))\n",
    "\n",
    "        self.fc1 = nn.Linear(num_nodes, 256)\n",
    "        self.fc2 = nn.Linear(256, 32)  # mean vector\n",
    "        self.fc3 = nn.Linear(256, 32)  # standard deviation vector\n",
    "        self.fc4 = nn.Linear(32, 256)\n",
    "        self.fc5 = nn.Linear(256, num_nodes)\n",
    "\n",
    "        from torch_geometric.nn import GATv2Conv as GCNConv\n",
    "\n",
    "        self.conv1 = torch.nn.ModuleList()\n",
    "        for i in range(3):\n",
    "            self.conv1.append(GCNConv(hidden_channels, hidden_channels, edge_dim=hidden_channels))\n",
    "\n",
    "        self.conv2 = torch.nn.ModuleList()\n",
    "        for i in range(3):\n",
    "            self.conv2.append(GCNConv(hidden_channels, hidden_channels, edge_dim=hidden_channels))\n",
    "\n",
    "        self.gcn_lin1 = nn.Linear(hidden_channels * 2, hidden_channels)\n",
    "        self.gcn_lin2 = nn.Linear(hidden_channels * 2, hidden_channels)\n",
    "\n",
    "    def gelu(self, x):\n",
    "        return 0.5 * x * (1 + F.tanh(np.sqrt(2 / np.pi) * (x + 0.044715 * torch.pow(x, 3))))\n",
    "\n",
    "    # coding process\n",
    "    def encode(self, x):\n",
    "        h = self.gelu(self.fc1(x))\n",
    "        return self.fc2(h), self.fc3(h)\n",
    "\n",
    "    # Gaussian sampling\n",
    "    def reparameterize(self, mu, log_var):\n",
    "        std = torch.exp(log_var / 2)\n",
    "        eps = torch.randn_like(std)\n",
    "        return mu + eps * std\n",
    "\n",
    "    # decoding process\n",
    "    def decode(self, z):\n",
    "        h = self.gelu(self.fc4(z))\n",
    "        h = self.fc5(h)\n",
    "        return h\n",
    "\n",
    "    def reset_parameters(self):\n",
    "        self.embed.reset_parameters()\n",
    "        self.node_embed.reset_parameters()\n",
    "        self.node_embed1.reset_parameters()\n",
    "        self.time_embed.reset_parameters()\n",
    "        self.node_lin.reset_parameters()\n",
    "        self.node_lin1.reset_parameters()\n",
    "        self.attr_lin.reset_parameters()\n",
    "        self.fc1.reset_parameters()\n",
    "        self.fc2.reset_parameters()\n",
    "        self.fc3.reset_parameters()\n",
    "        self.fc4.reset_parameters()\n",
    "        self.fc5.reset_parameters()\n",
    "        for lin in self.lins:\n",
    "            lin.reset_parameters()\n",
    "        for lin in self.conv1:\n",
    "            lin.reset_parameters()\n",
    "        for lin in self.conv2:\n",
    "            lin.reset_parameters()\n",
    "        self.gcn_lin1.reset_parameters()\n",
    "        self.gcn_lin2.reset_parameters()\n",
    "\n",
    "    def forward(self, index, edge_index, x, attr, cur_t, cur_w):\n",
    "        mask_idx = (torch.sum(x, dim=1, keepdim=True) != nan_to_num_map[CITY] * 4).type(torch.float)\n",
    "\n",
    "        xmax = 23.91\n",
    "        xmin = nan_to_num_map[CITY]\n",
    "        x_norm = (x - xmin) / (xmax - xmin)\n",
    "\n",
    "        ratio = 0.8 + 0.4 * np.random.rand(1)[0]\n",
    "\n",
    "        x_norm = x_norm * ratio\n",
    "\n",
    "        drop_idx = (torch.rand_like(x_norm[:, 0:1]) > 0.4).type(torch.float)\n",
    "        x_norm = x_norm * drop_idx\n",
    "\n",
    "        x_norm = torch.transpose(x_norm, 0, 1)\n",
    "        mu, log_var = self.encode(x_norm)\n",
    "        z = self.reparameterize(mu, log_var)\n",
    "        x_rec = self.decode(z)\n",
    "\n",
    "        x_rec = x_rec / ratio\n",
    "\n",
    "        x_rec = torch.transpose(x_rec, 0, 1)\n",
    "        x_rec = x_rec * (xmax - xmin) + xmin\n",
    "        x_rec1 = mask_idx * x + (1 - mask_idx) * x_rec\n",
    "\n",
    "        attr1 = self.attr_lin(attr)\n",
    "        embed = self.embed(index)\n",
    "\n",
    "        node_embed = self.node_embed(self.node_index)\n",
    "        pre_data = node_embed\n",
    "        for conv in self.conv1:\n",
    "            node_embed = conv(node_embed, edge_index, attr1)\n",
    "            node_embed = self.gelu(node_embed) + pre_data\n",
    "\n",
    "        data = self.gelu(self.node_lin(x_rec1))\n",
    "        pre_data = data\n",
    "        for conv in self.conv2:\n",
    "            data = conv(data, edge_index, attr1)\n",
    "            data = self.gelu(data) + pre_data\n",
    "\n",
    "        x_i = torch.index_select(data, 0, edge_index[0])\n",
    "        x_j = torch.index_select(data, 0, edge_index[1])\n",
    "        x = torch.concat([x_i, x_j], dim=1)\n",
    "        x = self.gcn_lin1(x)\n",
    "\n",
    "        x_i = torch.index_select(node_embed, 0, edge_index[0])\n",
    "        x_j = torch.index_select(node_embed, 0, edge_index[1])\n",
    "        x1 = torch.concat([x_i, x_j], dim=1)\n",
    "        x1 = self.gcn_lin2(x1)\n",
    "\n",
    "        time_embed = self.time_embed(cur_t.long())\n",
    "        week_embed = self.week_embed(cur_w.long())\n",
    "\n",
    "        xf = torch.cat([embed, self.attr_lin1(attr), x, x1, time_embed, week_embed], dim=1)\n",
    "\n",
    "        for lin in self.lins[:-1]:\n",
    "            xf = lin(xf)\n",
    "            xf = self.gelu(xf)\n",
    "\n",
    "        xf = self.lins[-1](xf)\n",
    "\n",
    "        return xf, x_rec"
   ]
  },
  {
   "cell_type": "code",
   "execution_count": null,
   "id": "9d49df10-30e0-4841-b224-fb6a5d4f3e23",
   "metadata": {
    "tags": []
   },
   "outputs": [],
   "source": [
    "dataset = T4c22GeometricDataset(root=BASEDIR, city=CITY,\n",
    "    edge_attributes=[\"speed_kph\", \"parsed_maxspeed\", \"length_meters\", \"counter_distance\",\n",
    "        'num_lanes', 'mean_pop', 'catering', 'leisure', 'shopping', 'tourism', 'traffic', 'transport',\n",
    "        'pois_total', 'greeneries', 'water_bodies', 'built_up', 'other', \"importance\", \"highway\", \"oneway\",],\n",
    "    split=\"train\", fill=-1, normalize=\"zs\", cachedir=Path(f\"{BASEDIR}/cache\"), idx=0)"
   ]
  },
  {
   "cell_type": "code",
   "execution_count": null,
   "id": "3dabc33f-353e-424a-b5ff-a0174692e795",
   "metadata": {
    "tags": []
   },
   "outputs": [],
   "source": [
    "dataset.__dict__.keys()"
   ]
  },
  {
   "cell_type": "code",
   "execution_count": null,
   "id": "d516962b-2624-467f-ae41-bb44e8191466",
   "metadata": {
    "tags": []
   },
   "outputs": [],
   "source": [
    "dataset[0]"
   ]
  },
  {
   "cell_type": "code",
   "execution_count": null,
   "id": "7e3cb634-ce74-41ca-a63e-f854357ae8b9",
   "metadata": {
    "tags": []
   },
   "outputs": [],
   "source": [
    "len(dataset)"
   ]
  },
  {
   "cell_type": "code",
   "execution_count": null,
   "id": "fd154622-2c8f-46ea-a38f-98354cb82d51",
   "metadata": {
    "tags": []
   },
   "outputs": [],
   "source": [
    "dataset[-1]"
   ]
  },
  {
   "cell_type": "code",
   "execution_count": null,
   "id": "275ed807-1874-4330-8d6b-93f28046a0b3",
   "metadata": {
    "tags": []
   },
   "outputs": [],
   "source": [
    "dataset.edge_attr.shape"
   ]
  },
  {
   "cell_type": "code",
   "execution_count": null,
   "id": "827188f4-a143-4a9d-ba78-626834b19c8c",
   "metadata": {
    "tags": []
   },
   "outputs": [],
   "source": [
    "test_dataset = T4c22GeometricDataset(root=BASEDIR, city=CITY,\n",
    "                                     edge_attributes=[\"speed_kph\", \"parsed_maxspeed\", \"length_meters\",\n",
    "                                                      \"counter_distance\", \"importance\", \"highway\", \"oneway\", ],\n",
    "                                     split=\"test\", fill=-1,\n",
    "                                     normalize=\"sz\", cachedir=Path(f\"{BASEDIR}/cache\"), idx=0)"
   ]
  },
  {
   "cell_type": "code",
   "execution_count": null,
   "id": "82b919c0-e89d-4ea7-8f2f-3e83b4f9b519",
   "metadata": {
    "tags": []
   },
   "outputs": [],
   "source": [
    "print(\"Dataset Size\\t\", len(dataset))\n",
    "print(\"Test Dataset Size\\t\", len(test_dataset))\n",
    "print(\"The statistics of training set are: Min [%d]\\tMax [%d]\\tMean [%.4f]\\tStd[%.4f]\" % (\n",
    "    dataset.min_volume, dataset.max_volume, dataset.mean_volume, dataset.std))"
   ]
  },
  {
   "cell_type": "code",
   "execution_count": null,
   "id": "61ccd6ee-217b-4ef6-8520-ab9d35da62e7",
   "metadata": {
    "tags": []
   },
   "outputs": [],
   "source": [
    "spl = int(((0.8 * len(dataset)) // 2) * 2)\n",
    "train_dataset, val_dataset = torch.utils.data.random_split(dataset, [spl, len(dataset) - spl])\n",
    "print(\"Train Dataset Size\\t\", len(train_dataset))\n",
    "print(\"Validation Dataset Size\\t\", len(val_dataset))"
   ]
  },
  {
   "cell_type": "code",
   "execution_count": null,
   "id": "066f341a-02d9-410e-a8e0-02b1acec9f91",
   "metadata": {
    "tags": []
   },
   "outputs": [],
   "source": [
    "train_dataset.dataset"
   ]
  },
  {
   "cell_type": "code",
   "execution_count": null,
   "id": "2ddc2664-7ba4-47c1-a8fa-2537dae4ff56",
   "metadata": {
    "tags": []
   },
   "outputs": [],
   "source": [
    "next(iter(train_dataset))"
   ]
  },
  {
   "cell_type": "code",
   "execution_count": null,
   "id": "67c99c93-4977-4b13-9e17-3f6e89b4e11a",
   "metadata": {
    "tags": []
   },
   "outputs": [],
   "source": [
    "next(iter(train_dataset))"
   ]
  },
  {
   "cell_type": "code",
   "execution_count": null,
   "id": "7fe01c5f-0b77-404b-9667-4fa77dcb1651",
   "metadata": {
    "tags": []
   },
   "outputs": [],
   "source": [
    "city_class_fractions = class_fractions[CITY]\n",
    "city_class_weights = torch.tensor(\n",
    "    get_weights_from_class_fractions(\n",
    "        [city_class_fractions['green'], city_class_fractions['yellow'],\n",
    "         city_class_fractions['red']])).float()\n",
    "print(\"City Class Weight\\t\", city_class_weights)"
   ]
  },
  {
   "cell_type": "code",
   "execution_count": null,
   "id": "2b754cd6-852c-4984-941a-10931492c226",
   "metadata": {
    "tags": []
   },
   "outputs": [],
   "source": [
    "city_class_weights = city_class_weights.to(device)\n",
    "edge_index = dataset.edge_index.to(device)\n",
    "edge_attr = dataset.edge_attr.to(device)"
   ]
  },
  {
   "cell_type": "code",
   "execution_count": null,
   "id": "ef0f0366-f7fa-4644-a41b-aa020f0599f6",
   "metadata": {
    "tags": []
   },
   "outputs": [],
   "source": [
    "num_edges = edge_index.shape[1]\n",
    "num_attrs = edge_attr.shape[1]\n",
    "num_nodes = np.max(edge_index.cpu().numpy()) + 1\n",
    "print('num_nodes', num_nodes, \"num_edges\", num_edges, \"num_attrs\", num_attrs)"
   ]
  },
  {
   "cell_type": "code",
   "execution_count": null,
   "id": "3410df6a-3c13-41fa-8069-d84d3660915e",
   "metadata": {
    "tags": []
   },
   "outputs": [],
   "source": [
    "index = torch.arange(0, num_edges).to(device)"
   ]
  },
  {
   "cell_type": "code",
   "execution_count": null,
   "id": "3017a4b6-bc53-4040-a971-314a7a648ad5",
   "metadata": {
    "tags": []
   },
   "outputs": [],
   "source": [
    "model = RecLinear(num_edges, num_nodes, num_attrs, NUM_FEATURES, HIDDEN_CHANNELS,\n",
    "                  NUM_EDGE_CLASSES, NUM_LAYERS, DROPOUT).to(device)"
   ]
  },
  {
   "cell_type": "code",
   "execution_count": null,
   "id": "57639ff2-d3ef-451a-850c-0329db9db114",
   "metadata": {
    "tags": []
   },
   "outputs": [],
   "source": [
    "kfold = KFold(n_splits=5, shuffle=True)"
   ]
  },
  {
   "cell_type": "code",
   "execution_count": null,
   "id": "0ae33b43-bcc1-4be9-ac80-7e6d36178cc7",
   "metadata": {
    "tags": []
   },
   "outputs": [],
   "source": [
    "for fold, (train_ids, test_ids) in enumerate(kfold.split(dataset)):\n",
    "    print(fold, len(train_ids), len(test_ids))\n",
    "    print(train_ids[:5])"
   ]
  },
  {
   "cell_type": "code",
   "execution_count": null,
   "id": "2a230b15-5c7f-4b4b-b033-8cc2dcceb2b7",
   "metadata": {
    "tags": []
   },
   "outputs": [],
   "source": [
    "train_ids, test_ids = next(iter(kfold.split(dataset)))"
   ]
  },
  {
   "cell_type": "code",
   "execution_count": null,
   "id": "98ad4f1b-4a83-4c78-b2c3-81def609d70a",
   "metadata": {
    "tags": []
   },
   "outputs": [],
   "source": [
    "len(dataset)"
   ]
  },
  {
   "cell_type": "code",
   "execution_count": null,
   "id": "3691174c-2669-40b2-97e6-ef84fedd7558",
   "metadata": {
    "tags": []
   },
   "outputs": [],
   "source": [
    "len(train_ids), len(test_ids)"
   ]
  },
  {
   "cell_type": "code",
   "execution_count": null,
   "id": "84308b6f-18a7-41a6-8e8f-e18b0a61a4f9",
   "metadata": {
    "tags": []
   },
   "outputs": [],
   "source": [
    "model.reset_parameters()\n",
    "optimizer = torch.optim.AdamW(model.parameters(), lr=1e-3, weight_decay=1e-3)\n",
    "loss_f = torch.nn.CrossEntropyLoss(weight=city_class_weights, ignore_index=-1)\n",
    "loss_mse = torch.nn.MSELoss()\n",
    "\n",
    "min_loss = 10000\n",
    "\n",
    "# print(\"fold\", fold)\n",
    "train_subsampler = torch.utils.data.SubsetRandomSampler(train_ids)\n",
    "test_subsampler = torch.utils.data.SubsetRandomSampler(test_ids)"
   ]
  },
  {
   "cell_type": "code",
   "execution_count": null,
   "id": "d6a3bc3c-451a-405f-9f54-2efbfeb1ea38",
   "metadata": {
    "tags": []
   },
   "outputs": [],
   "source": [
    "train_subsampler"
   ]
  },
  {
   "cell_type": "code",
   "execution_count": null,
   "id": "01af2e53-ebeb-4364-ae25-6dcde561412b",
   "metadata": {
    "tags": []
   },
   "outputs": [],
   "source": [
    "model.train()"
   ]
  },
  {
   "cell_type": "code",
   "execution_count": null,
   "id": "bc9c3d47-bb49-40bd-93b2-f76868ac4b40",
   "metadata": {
    "tags": []
   },
   "outputs": [],
   "source": [
    "losses = []\n",
    "optimizer.zero_grad()"
   ]
  },
  {
   "cell_type": "code",
   "execution_count": null,
   "id": "67e6bdb4-60ef-4da9-b63a-2496fb014821",
   "metadata": {
    "tags": []
   },
   "outputs": [],
   "source": [
    "pbar = tqdm.tqdm(\n",
    "    torch_geometric.loader.dataloader.DataLoader(dataset, batch_size=BATCH_SIZE,\n",
    "                                                 num_workers=2, sampler=train_subsampler),\n",
    "    \"train\",\n",
    "    total=len(train_dataset) // BATCH_SIZE, )"
   ]
  },
  {
   "cell_type": "code",
   "execution_count": null,
   "id": "9fb7aa21-f57e-4cda-a2b5-1f1a51a82bf5",
   "metadata": {
    "tags": []
   },
   "outputs": [],
   "source": [
    "count = 0\n",
    "for data in pbar:\n",
    "    data = data.to(device)\n",
    "    data.x[data.x > 23.91] = 23.91\n",
    "    data.x[data.x == -1] = nan_to_num_map[CITY]\n",
    "    loss = 0.\n",
    "    print(data)\n",
    "    break"
   ]
  },
  {
   "cell_type": "code",
   "execution_count": null,
   "id": "78185639-90e9-48f9-b42a-70e3402d8175",
   "metadata": {
    "tags": []
   },
   "outputs": [],
   "source": [
    "data"
   ]
  },
  {
   "cell_type": "code",
   "execution_count": null,
   "id": "b98c1e4a-e968-4602-8ea7-87544b30dd79",
   "metadata": {},
   "outputs": [],
   "source": [
    "if (count == 0):\n",
    "    lens = data.x.shape[0] // BATCH_SIZE\n",
    "    lens1 = data.y.shape[0] // BATCH_SIZE\n",
    "    count += 1"
   ]
  },
  {
   "cell_type": "code",
   "execution_count": null,
   "id": "c0c80c6a-1688-4d06-a04c-43824ccd4cbb",
   "metadata": {
    "tags": []
   },
   "outputs": [],
   "source": [
    "lens, lens1"
   ]
  },
  {
   "cell_type": "code",
   "execution_count": null,
   "id": "e95629c5-2305-4cae-bb43-0c710c5de921",
   "metadata": {
    "tags": []
   },
   "outputs": [],
   "source": [
    "data.y.shape[0] // lens1"
   ]
  },
  {
   "cell_type": "code",
   "execution_count": null,
   "id": "f1c45895-238a-40d9-97af-27a93d9311e7",
   "metadata": {
    "tags": []
   },
   "outputs": [],
   "source": [
    "edge_index[0]"
   ]
  },
  {
   "cell_type": "code",
   "execution_count": null,
   "id": "3685b2ff-b9b8-4173-8efc-a1549bbe1c0c",
   "metadata": {
    "tags": []
   },
   "outputs": [],
   "source": [
    "data.t[0]"
   ]
  },
  {
   "cell_type": "code",
   "execution_count": null,
   "id": "8be0e8f9-4049-42a2-b689-bbb7b37be1fc",
   "metadata": {
    "tags": []
   },
   "outputs": [],
   "source": [
    "data.t[1]"
   ]
  },
  {
   "cell_type": "code",
   "execution_count": null,
   "id": "5955fbd8-1173-47a3-8fb2-87ba49ec93d9",
   "metadata": {
    "tags": []
   },
   "outputs": [],
   "source": [
    "data.week[0], data.week[1]"
   ]
  },
  {
   "cell_type": "code",
   "execution_count": null,
   "id": "fbcd7725-2a22-436d-a7ce-f88623a8916d",
   "metadata": {
    "tags": []
   },
   "outputs": [],
   "source": [
    "i = 0\n",
    "data.y[i * lens1:(i + 1) * lens1]"
   ]
  },
  {
   "cell_type": "code",
   "execution_count": null,
   "id": "20003523-0d19-4cb2-800d-42bc81488e7d",
   "metadata": {
    "tags": []
   },
   "outputs": [],
   "source": [
    "data.x[i * lens:(i + 1) * lens]"
   ]
  },
  {
   "cell_type": "code",
   "execution_count": null,
   "id": "16c20d38-8793-4e58-be26-d064b874ac25",
   "metadata": {
    "tags": []
   },
   "outputs": [],
   "source": [
    "for i in range(data.y.shape[0] // lens1):\n",
    "    t = data.t[i]\n",
    "    cur_t = torch.ones_like(edge_index[0]) * t\n",
    "    week = data.week[i]\n",
    "    cur_week = torch.ones_like(edge_index[0]) * week\n",
    "\n",
    "    y = data.y[i * lens1:(i + 1) * lens1].nan_to_num(-1)\n",
    "    x = data.x[i * lens:(i + 1) * lens]\n",
    "    y_hat, x_rec = model(index, edge_index, x,\n",
    "                         edge_attr, cur_t, cur_week)\n",
    "    y = y.long()\n",
    "\n",
    "    train_index = torch.nonzero(torch.sum(x, dim=1) != nan_to_num_map[CITY] * 4).squeeze()\n",
    "\n",
    "    rec_loss = loss_mse(x[train_index], x_rec[train_index])\n",
    "    acc_loss = loss_f(y_hat, y)\n",
    "\n",
    "    loss += rec_loss + acc_loss"
   ]
  },
  {
   "cell_type": "code",
   "execution_count": null,
   "id": "f2e90c54-a1b1-4cc3-ac52-903716a1443f",
   "metadata": {
    "tags": []
   },
   "outputs": [],
   "source": [
    "edge_index"
   ]
  },
  {
   "cell_type": "code",
   "execution_count": null,
   "id": "9e004378-3ea9-43cd-a619-2ad153a57cdf",
   "metadata": {
    "tags": []
   },
   "outputs": [],
   "source": [
    "x"
   ]
  },
  {
   "cell_type": "code",
   "execution_count": null,
   "id": "1c089336-74f7-4f4b-a728-eef284f3cb9f",
   "metadata": {
    "tags": []
   },
   "outputs": [],
   "source": [
    "edge_attr"
   ]
  },
  {
   "cell_type": "code",
   "execution_count": null,
   "id": "6838c332-cb5e-43ee-8077-cfd928528dcb",
   "metadata": {
    "tags": []
   },
   "outputs": [],
   "source": [
    "edge_attr.shape"
   ]
  },
  {
   "cell_type": "code",
   "execution_count": null,
   "id": "e8e8699c-3213-4a1f-abf9-64b62b2a6ea3",
   "metadata": {},
   "outputs": [],
   "source": [
    "cur_t"
   ]
  },
  {
   "cell_type": "code",
   "execution_count": null,
   "id": "32fff507-0cce-4827-8fb8-e93759cec30e",
   "metadata": {
    "tags": []
   },
   "outputs": [],
   "source": [
    "cur_week"
   ]
  },
  {
   "cell_type": "code",
   "execution_count": null,
   "id": "8f1ac4a3-c828-4b08-a9ae-968d3a25a661",
   "metadata": {
    "tags": []
   },
   "outputs": [],
   "source": [
    "week"
   ]
  },
  {
   "cell_type": "code",
   "execution_count": null,
   "id": "f0df72e9-ff40-43f2-a374-f8403c28870e",
   "metadata": {
    "tags": []
   },
   "outputs": [],
   "source": [
    "mask_idx = (torch.sum(x, dim=1, keepdim=True) != nan_to_num_map[CITY] * 4).type(torch.float)"
   ]
  },
  {
   "cell_type": "code",
   "execution_count": null,
   "id": "4b053758-3020-484c-b7c3-c58f867b1ce0",
   "metadata": {
    "tags": []
   },
   "outputs": [],
   "source": [
    "torch.sum(x, dim=1, keepdim=True).shape"
   ]
  },
  {
   "cell_type": "code",
   "execution_count": null,
   "id": "4c5f5b28-5b9b-4b2f-a94e-f98e7993244d",
   "metadata": {
    "tags": []
   },
   "outputs": [],
   "source": [
    "xmax = 23.91\n",
    "xmin = nan_to_num_map[CITY]\n",
    "x_norm = (x - xmin) / (xmax - xmin)"
   ]
  },
  {
   "cell_type": "code",
   "execution_count": null,
   "id": "c1d0ca5d-69a4-4656-83f5-85b05af77950",
   "metadata": {
    "tags": []
   },
   "outputs": [],
   "source": [
    "x_norm"
   ]
  },
  {
   "cell_type": "code",
   "execution_count": null,
   "id": "13fd53bd-a03a-4934-b5a5-ef5d6324b5d6",
   "metadata": {
    "tags": []
   },
   "outputs": [],
   "source": [
    "ratio = 0.8 + 0.4 * np.random.rand(1)[0]\n",
    "ratio"
   ]
  },
  {
   "cell_type": "code",
   "execution_count": null,
   "id": "14682dbb-741c-4e9d-9df8-2c784d0f2c3b",
   "metadata": {
    "tags": []
   },
   "outputs": [],
   "source": [
    "x_norm = x_norm * ratio"
   ]
  },
  {
   "cell_type": "code",
   "execution_count": null,
   "id": "edf5442f-5d31-4f75-9f03-70ed40e3fe35",
   "metadata": {
    "tags": []
   },
   "outputs": [],
   "source": [
    "torch.rand_like(x_norm[:, 0:1])"
   ]
  },
  {
   "cell_type": "code",
   "execution_count": null,
   "id": "49820a84-2b9c-4007-a810-df9b7d143150",
   "metadata": {
    "tags": []
   },
   "outputs": [],
   "source": [
    "drop_idx = (torch.rand_like(x_norm[:, 0:1]) > 0.4).type(torch.float)\n",
    "drop_idx"
   ]
  },
  {
   "cell_type": "code",
   "execution_count": null,
   "id": "32efd1f8-428b-4f84-b2c8-d4d1472b09e7",
   "metadata": {
    "tags": []
   },
   "outputs": [],
   "source": [
    "x_norm = x_norm * drop_idx"
   ]
  },
  {
   "cell_type": "code",
   "execution_count": null,
   "id": "726ae28b-0104-4ce7-885a-e0a202daa2e1",
   "metadata": {
    "tags": []
   },
   "outputs": [],
   "source": [
    "x_norm.shape"
   ]
  },
  {
   "cell_type": "code",
   "execution_count": null,
   "id": "1087f0a1-2bbe-4bfd-a4a9-ecbe6982aede",
   "metadata": {
    "tags": []
   },
   "outputs": [],
   "source": [
    "x_norm = torch.transpose(x_norm, 0, 1)\n",
    "x_norm.shape"
   ]
  },
  {
   "cell_type": "code",
   "execution_count": null,
   "id": "c4a06430-21cd-4a2c-9596-2a9accfc2afa",
   "metadata": {
    "tags": []
   },
   "outputs": [],
   "source": [
    "mu, log_var = model.encode(x_norm)"
   ]
  },
  {
   "cell_type": "code",
   "execution_count": null,
   "id": "6c7f0159-e110-445b-8c71-06d4d3d56850",
   "metadata": {
    "tags": []
   },
   "outputs": [],
   "source": [
    "z = model.reparameterize(mu, log_var)"
   ]
  },
  {
   "cell_type": "code",
   "execution_count": null,
   "id": "fa061873-f2f9-431f-9322-a09438cd69b9",
   "metadata": {
    "tags": []
   },
   "outputs": [],
   "source": [
    "x_rec = model.decode(z)"
   ]
  },
  {
   "cell_type": "code",
   "execution_count": null,
   "id": "8ecbf24b-860f-490f-8eca-94a6ca627872",
   "metadata": {
    "tags": []
   },
   "outputs": [],
   "source": [
    "x_rec"
   ]
  },
  {
   "cell_type": "code",
   "execution_count": null,
   "id": "3f2e4deb-744e-4a3b-aa3f-d2347096d307",
   "metadata": {
    "tags": []
   },
   "outputs": [],
   "source": [
    "x_rec = x_rec / ratio"
   ]
  },
  {
   "cell_type": "code",
   "execution_count": null,
   "id": "8e704bdc-34e0-4dc6-a410-8145bfb2c6db",
   "metadata": {
    "tags": []
   },
   "outputs": [],
   "source": [
    "x_rec = torch.transpose(x_rec, 0, 1)\n",
    "x_rec.shape"
   ]
  },
  {
   "cell_type": "code",
   "execution_count": null,
   "id": "e07a2f8b-d578-44c4-bf25-ab3901661e5d",
   "metadata": {
    "tags": []
   },
   "outputs": [],
   "source": [
    "x_rec = x_rec * (xmax - xmin) + xmin"
   ]
  },
  {
   "cell_type": "code",
   "execution_count": null,
   "id": "6ad00e04-dcd9-4731-8668-4c0957ba1e97",
   "metadata": {
    "tags": []
   },
   "outputs": [],
   "source": [
    "x_rec"
   ]
  },
  {
   "cell_type": "code",
   "execution_count": null,
   "id": "2c839ed8-4bdd-4109-9bd0-73415fb05280",
   "metadata": {
    "tags": []
   },
   "outputs": [],
   "source": [
    "x_rec1 = mask_idx * x + (1 - mask_idx) * x_rec"
   ]
  },
  {
   "cell_type": "code",
   "execution_count": null,
   "id": "b5f6c4fd-cb10-4d1f-b2f8-623307b837ac",
   "metadata": {
    "tags": []
   },
   "outputs": [],
   "source": [
    "x_rec1"
   ]
  },
  {
   "cell_type": "code",
   "execution_count": null,
   "id": "cc957824-3983-415f-91e2-8af52e866bb7",
   "metadata": {
    "tags": []
   },
   "outputs": [],
   "source": [
    "y"
   ]
  },
  {
   "cell_type": "code",
   "execution_count": null,
   "id": "9337a33e-5d50-4b67-8398-79446c9cca24",
   "metadata": {
    "tags": []
   },
   "outputs": [],
   "source": [
    "y.unique()"
   ]
  },
  {
   "cell_type": "code",
   "execution_count": null,
   "id": "1afb420a-ea7a-418f-9211-066da34e2c04",
   "metadata": {
    "tags": []
   },
   "outputs": [],
   "source": [
    "x"
   ]
  },
  {
   "cell_type": "markdown",
   "id": "84a0fe3f-b01a-4428-93b0-d50d74573dab",
   "metadata": {},
   "source": [
    "# Testing inference mode"
   ]
  },
  {
   "cell_type": "code",
   "execution_count": null,
   "id": "4351c757-4599-48f2-9a6f-68934a7d2099",
   "metadata": {
    "tags": []
   },
   "outputs": [],
   "source": [
    "model.eval()"
   ]
  },
  {
   "cell_type": "code",
   "execution_count": null,
   "id": "960526cc-5c4f-4409-aa4d-c5a839af0fa5",
   "metadata": {
    "tags": []
   },
   "outputs": [],
   "source": [
    "idx = 0\n",
    "data = next(iter(test_dataset))\n",
    "data"
   ]
  },
  {
   "cell_type": "code",
   "execution_count": null,
   "id": "100880b1-1632-4a88-a5a7-4486d5038717",
   "metadata": {
    "tags": []
   },
   "outputs": [],
   "source": [
    "data = data.to(device)"
   ]
  },
  {
   "cell_type": "code",
   "execution_count": null,
   "id": "2108897b-b407-4c6c-a913-4bfb9d0f66f0",
   "metadata": {
    "tags": []
   },
   "outputs": [],
   "source": [
    "data.x"
   ]
  },
  {
   "cell_type": "code",
   "execution_count": null,
   "id": "d62fb7bd-17ab-4304-9410-4ee59fb44990",
   "metadata": {
    "tags": []
   },
   "outputs": [],
   "source": [
    "data.x[data.x > 23.91] = 23.91\n",
    "data.x"
   ]
  },
  {
   "cell_type": "code",
   "execution_count": null,
   "id": "950db58e-b3c8-4047-a310-aa21476f9e39",
   "metadata": {
    "tags": []
   },
   "outputs": [],
   "source": [
    "data.x[data.x == -1] = nan_to_num_map[CITY]\n",
    "data.x"
   ]
  },
  {
   "cell_type": "code",
   "execution_count": null,
   "id": "3ad2a7b0-0877-4ddd-ba10-304324879146",
   "metadata": {
    "tags": []
   },
   "outputs": [],
   "source": [
    "t = data.t\n",
    "t"
   ]
  },
  {
   "cell_type": "code",
   "execution_count": null,
   "id": "3a659a51-cd07-4d81-b78c-011a0dd055bf",
   "metadata": {
    "tags": []
   },
   "outputs": [],
   "source": [
    "cur_t = torch.ones_like(edge_index[0]) * t\n",
    "cur_t"
   ]
  },
  {
   "cell_type": "code",
   "execution_count": null,
   "id": "98d10c16-9540-48ee-bf3f-c827040a8667",
   "metadata": {
    "tags": []
   },
   "outputs": [],
   "source": [
    "week = data.week\n",
    "week"
   ]
  },
  {
   "cell_type": "code",
   "execution_count": null,
   "id": "7c0dbf28-12c7-49f8-8634-b395a4185f71",
   "metadata": {
    "tags": []
   },
   "outputs": [],
   "source": [
    "cur_week = torch.ones_like(edge_index[0]) * week"
   ]
  },
  {
   "cell_type": "code",
   "execution_count": null,
   "id": "98a1af1e-819b-479a-bc01-c1b56bc0ec5d",
   "metadata": {
    "tags": []
   },
   "outputs": [],
   "source": [
    "save_path = \"save/cc/class_L3_H32_F-1_Nzs_B2_e20/london_2/\"\n",
    "y_pred = 0.\n",
    "for fold in range(5):\n",
    "    for mm in range(16, 21):\n",
    "        print(f\"{save_path}model_{fold}_{mm:03d}.pt\")\n",
    "        model.load_state_dict(torch.load(f\"{save_path}model_{fold}_{mm:03d}.pt\", map_location='cuda:0'))\n",
    "        model.eval()\n",
    "        for ii in range(5):\n",
    "            y_hat, _ = model(index, edge_index, data.x, edge_attr, cur_t, cur_week)\n",
    "            y_hat = y_hat.detach()\n",
    "            print(y_hat.shape, y_hat[:5])\n",
    "            y_pred += y_hat\n",
    "        break\n",
    "y_pred /= 125."
   ]
  },
  {
   "cell_type": "code",
   "execution_count": null,
   "id": "0a09b12e-c6b3-42db-854f-482b3be30376",
   "metadata": {
    "tags": []
   },
   "outputs": [],
   "source": [
    "y_pred"
   ]
  },
  {
   "cell_type": "code",
   "execution_count": null,
   "id": "7d87d15b-5d29-4050-8576-d4a76e454658",
   "metadata": {
    "tags": []
   },
   "outputs": [],
   "source": [
    "df = test_dataset.torch_road_graph_mapping._torch_to_df_cc(data=y_pred, day=\"test\", t=idx)"
   ]
  },
  {
   "cell_type": "code",
   "execution_count": null,
   "id": "dd89c886-0e8c-4786-8e2c-033e8b737d3c",
   "metadata": {
    "tags": []
   },
   "outputs": [],
   "source": [
    "df.head()"
   ]
  },
  {
   "cell_type": "code",
   "execution_count": null,
   "id": "7151c6c2-3ca8-467c-90e1-cd65b8f1b3f1",
   "metadata": {
    "tags": []
   },
   "outputs": [],
   "source": [
    "dfs = []\n",
    "for idx, data in tqdm.tqdm(enumerate(test_dataset), total=len(test_dataset)):\n",
    "    data = data.to(device)\n",
    "    data.x[data.x > 23.91] = 23.91\n",
    "    data.x[data.x == -1] = nan_to_num_map[opt['city']]\n",
    "\n",
    "    t = data.t\n",
    "    cur_t = torch.ones_like(edge_index[0]) * t\n",
    "    week = data.week\n",
    "    cur_week = torch.ones_like(edge_index[0]) * week\n",
    "\n",
    "    if (opt['city'] == 'melbourne'):\n",
    "        y_pred = 0.\n",
    "        for fold in range(5):\n",
    "            model.load_state_dict(torch.load(f\"{opt['save_path']}model_best_{fold}.pt\", map_location='cuda:0'))\n",
    "            model.eval()\n",
    "            for ii in range(5):\n",
    "                y_hat, _ = model(index, edge_index, data.x, edge_attr, cur_t, cur_week)\n",
    "                y_hat = y_hat.detach()\n",
    "                y_pred += y_hat\n",
    "        y_pred /= 25.\n",
    "    else:\n",
    "        y_pred = 0.\n",
    "        for fold in range(5):\n",
    "            for mm in range(16, 21):\n",
    "                model.load_state_dict(torch.load(f\"{opt['save_path']}model_{fold}_{mm:03d}.pt\", map_location='cuda:0'))\n",
    "                model.eval()\n",
    "                for ii in range(5):\n",
    "                    y_hat, _ = model(index, edge_index, data.x, edge_attr, cur_t, cur_week)\n",
    "                    y_hat = y_hat.detach()\n",
    "                    y_pred += y_hat\n",
    "        y_pred /= 125.\n",
    "\n",
    "    df = test_dataset.torch_road_graph_mapping._torch_to_df_cc(data=y_pred, day=\"test\", t=idx)\n",
    "    dfs.append(df)\n",
    "df = pd.concat(dfs)\n",
    "df[\"test_idx\"] = df[\"t\"]\n",
    "del df[\"day\"]\n",
    "del df[\"t\"]\n",
    "\n",
    "submission = df\n",
    "# print(submission.head(20))\n",
    "\n",
    "# (BASEDIR / \"submissions\" / opt['submission_name'] / opt['city'] / \"labels\").mkdir(exist_ok=True, parents=True)\n",
    "# table = pa.Table.from_pandas(submission)\n",
    "# pq.write_table(table, BASEDIR / \"submissions\" / opt['submission_name'] / opt[\n",
    "#     'city'] / \"labels\" / f\"cc_labels_test.parquet\", compression=\"snappy\")\n"
   ]
  },
  {
   "cell_type": "code",
   "execution_count": null,
   "id": "ce312ac7-7aba-498d-bcf4-ccc1a34b9805",
   "metadata": {},
   "outputs": [],
   "source": [
    "df"
   ]
  },
  {
   "cell_type": "code",
   "execution_count": null,
   "id": "3c339e7f-8b53-423d-bc7f-cafe667a9908",
   "metadata": {},
   "outputs": [],
   "source": []
  }
 ],
 "metadata": {
  "kernelspec": {
   "display_name": "t4c22",
   "language": "python",
   "name": "t4c22"
  },
  "language_info": {
   "codemirror_mode": {
    "name": "ipython",
    "version": 3
   },
   "file_extension": ".py",
   "mimetype": "text/x-python",
   "name": "python",
   "nbconvert_exporter": "python",
   "pygments_lexer": "ipython3",
   "version": "3.8.13"
  }
 },
 "nbformat": 4,
 "nbformat_minor": 5
}
