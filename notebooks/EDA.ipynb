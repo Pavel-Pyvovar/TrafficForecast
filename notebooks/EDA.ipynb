{
 "cells": [
  {
   "cell_type": "code",
   "execution_count": 14,
   "id": "6d98326f-8bfa-475e-bf3c-d549db37b493",
   "metadata": {
    "tags": []
   },
   "outputs": [],
   "source": [
    "import sys\n",
    "sys.path.append(\"..\")"
   ]
  },
  {
   "cell_type": "code",
   "execution_count": 55,
   "id": "5397d92c-d8e3-4c11-ad63-bc20aad37c35",
   "metadata": {
    "tags": []
   },
   "outputs": [],
   "source": [
    "from collections import defaultdict\n",
    "\n",
    "import numpy as np\n",
    "import pandas as pd\n",
    "import torch"
   ]
  },
  {
   "cell_type": "markdown",
   "id": "4e6c8b85-0917-4575-87a6-2261f7321314",
   "metadata": {
    "tags": []
   },
   "source": [
    "# Exploring vehicle counter data"
   ]
  },
  {
   "cell_type": "code",
   "execution_count": 37,
   "id": "13608dab-3eb3-40fe-ade5-95a2f650b3d5",
   "metadata": {
    "tags": []
   },
   "outputs": [
    {
     "name": "stdout",
     "output_type": "stream",
     "text": [
      "counters_2020-01-27.parquet\n",
      "counters_2020-01-28.parquet\n",
      "counters_2020-01-29.parquet\n",
      "counters_2020-01-30.parquet\n",
      "counters_2020-01-31.parquet\n"
     ]
    }
   ],
   "source": [
    "ls ../data/train/london/input | tail -n 5"
   ]
  },
  {
   "cell_type": "code",
   "execution_count": 63,
   "id": "d930cfd1-b2a2-4565-b2ad-6f43c7834dca",
   "metadata": {
    "tags": []
   },
   "outputs": [],
   "source": [
    "df = pd.read_parquet(\"../data/train/london/input/counters_2020-01-27.parquet\")"
   ]
  },
  {
   "cell_type": "code",
   "execution_count": 64,
   "id": "2ec0511c-7bcc-4fba-9898-68198d56fdb8",
   "metadata": {
    "tags": []
   },
   "outputs": [
    {
     "data": {
      "text/html": [
       "<div>\n",
       "<style scoped>\n",
       "    .dataframe tbody tr th:only-of-type {\n",
       "        vertical-align: middle;\n",
       "    }\n",
       "\n",
       "    .dataframe tbody tr th {\n",
       "        vertical-align: top;\n",
       "    }\n",
       "\n",
       "    .dataframe thead th {\n",
       "        text-align: right;\n",
       "    }\n",
       "</style>\n",
       "<table border=\"1\" class=\"dataframe\">\n",
       "  <thead>\n",
       "    <tr style=\"text-align: right;\">\n",
       "      <th></th>\n",
       "      <th>node_id</th>\n",
       "      <th>day</th>\n",
       "      <th>t</th>\n",
       "      <th>volumes_1h</th>\n",
       "    </tr>\n",
       "  </thead>\n",
       "  <tbody>\n",
       "    <tr>\n",
       "      <th>2396</th>\n",
       "      <td>101818</td>\n",
       "      <td>2020-01-27</td>\n",
       "      <td>0</td>\n",
       "      <td>[nan, 84.0, 96.0, 58.0]</td>\n",
       "    </tr>\n",
       "    <tr>\n",
       "      <th>2397</th>\n",
       "      <td>101818</td>\n",
       "      <td>2020-01-27</td>\n",
       "      <td>1</td>\n",
       "      <td>[84.0, 96.0, 58.0, 54.0]</td>\n",
       "    </tr>\n",
       "    <tr>\n",
       "      <th>2398</th>\n",
       "      <td>101818</td>\n",
       "      <td>2020-01-27</td>\n",
       "      <td>2</td>\n",
       "      <td>[96.0, 58.0, 54.0, nan]</td>\n",
       "    </tr>\n",
       "    <tr>\n",
       "      <th>2399</th>\n",
       "      <td>101818</td>\n",
       "      <td>2020-01-27</td>\n",
       "      <td>3</td>\n",
       "      <td>[58.0, 54.0, nan, nan]</td>\n",
       "    </tr>\n",
       "    <tr>\n",
       "      <th>2400</th>\n",
       "      <td>101818</td>\n",
       "      <td>2020-01-27</td>\n",
       "      <td>4</td>\n",
       "      <td>[54.0, nan, nan, nan]</td>\n",
       "    </tr>\n",
       "  </tbody>\n",
       "</table>\n",
       "</div>"
      ],
      "text/plain": [
       "      node_id         day  t                volumes_1h\n",
       "2396   101818  2020-01-27  0   [nan, 84.0, 96.0, 58.0]\n",
       "2397   101818  2020-01-27  1  [84.0, 96.0, 58.0, 54.0]\n",
       "2398   101818  2020-01-27  2   [96.0, 58.0, 54.0, nan]\n",
       "2399   101818  2020-01-27  3    [58.0, 54.0, nan, nan]\n",
       "2400   101818  2020-01-27  4     [54.0, nan, nan, nan]"
      ]
     },
     "execution_count": 64,
     "metadata": {},
     "output_type": "execute_result"
    }
   ],
   "source": [
    "df.head()"
   ]
  },
  {
   "cell_type": "code",
   "execution_count": 65,
   "id": "c23426d1-fdce-4b04-93b9-c3cac30181e5",
   "metadata": {
    "tags": []
   },
   "outputs": [
    {
     "data": {
      "text/plain": [
       "(335328, 4)"
      ]
     },
     "execution_count": 65,
     "metadata": {},
     "output_type": "execute_result"
    }
   ],
   "source": [
    "df.shape"
   ]
  },
  {
   "cell_type": "code",
   "execution_count": 66,
   "id": "58fff75a-f3d9-4c51-98fa-c3dd4024a04b",
   "metadata": {
    "tags": []
   },
   "outputs": [
    {
     "data": {
      "text/html": [
       "<div>\n",
       "<style scoped>\n",
       "    .dataframe tbody tr th:only-of-type {\n",
       "        vertical-align: middle;\n",
       "    }\n",
       "\n",
       "    .dataframe tbody tr th {\n",
       "        vertical-align: top;\n",
       "    }\n",
       "\n",
       "    .dataframe thead th {\n",
       "        text-align: right;\n",
       "    }\n",
       "</style>\n",
       "<table border=\"1\" class=\"dataframe\">\n",
       "  <thead>\n",
       "    <tr style=\"text-align: right;\">\n",
       "      <th></th>\n",
       "      <th>node_id</th>\n",
       "      <th>day</th>\n",
       "      <th>t</th>\n",
       "      <th>volumes_1h</th>\n",
       "    </tr>\n",
       "  </thead>\n",
       "  <tbody>\n",
       "    <tr>\n",
       "      <th>2397</th>\n",
       "      <td>101818</td>\n",
       "      <td>2020-01-27</td>\n",
       "      <td>1</td>\n",
       "      <td>[84.0, 96.0, 58.0, 54.0]</td>\n",
       "    </tr>\n",
       "    <tr>\n",
       "      <th>5369</th>\n",
       "      <td>101831</td>\n",
       "      <td>2020-01-27</td>\n",
       "      <td>1</td>\n",
       "      <td>[182.0, 140.0, 109.0, 104.0]</td>\n",
       "    </tr>\n",
       "    <tr>\n",
       "      <th>8341</th>\n",
       "      <td>101839</td>\n",
       "      <td>2020-01-27</td>\n",
       "      <td>1</td>\n",
       "      <td>[117.0, 96.0, 80.0, 84.0]</td>\n",
       "    </tr>\n",
       "    <tr>\n",
       "      <th>11313</th>\n",
       "      <td>101843</td>\n",
       "      <td>2020-01-27</td>\n",
       "      <td>1</td>\n",
       "      <td>[212.0, 194.0, 157.0, 151.0]</td>\n",
       "    </tr>\n",
       "    <tr>\n",
       "      <th>14285</th>\n",
       "      <td>101870</td>\n",
       "      <td>2020-01-27</td>\n",
       "      <td>1</td>\n",
       "      <td>[502.0, 465.0, 386.0, 298.0]</td>\n",
       "    </tr>\n",
       "    <tr>\n",
       "      <th>...</th>\n",
       "      <td>...</td>\n",
       "      <td>...</td>\n",
       "      <td>...</td>\n",
       "      <td>...</td>\n",
       "    </tr>\n",
       "    <tr>\n",
       "      <th>10309505</th>\n",
       "      <td>9160193909980290120</td>\n",
       "      <td>2020-01-27</td>\n",
       "      <td>1</td>\n",
       "      <td>[247.0, 249.0, 252.0, 222.0]</td>\n",
       "    </tr>\n",
       "    <tr>\n",
       "      <th>10312477</th>\n",
       "      <td>9179255819075450292</td>\n",
       "      <td>2020-01-27</td>\n",
       "      <td>1</td>\n",
       "      <td>[0.0, 0.0, 0.0, 0.0]</td>\n",
       "    </tr>\n",
       "    <tr>\n",
       "      <th>10315449</th>\n",
       "      <td>9179908236179360682</td>\n",
       "      <td>2020-01-27</td>\n",
       "      <td>1</td>\n",
       "      <td>[238.0, 253.0, 246.0, 205.0]</td>\n",
       "    </tr>\n",
       "    <tr>\n",
       "      <th>10318421</th>\n",
       "      <td>9193791959321534875</td>\n",
       "      <td>2020-01-27</td>\n",
       "      <td>1</td>\n",
       "      <td>[308.0, 281.0, 267.0, 259.0]</td>\n",
       "    </tr>\n",
       "    <tr>\n",
       "      <th>10321485</th>\n",
       "      <td>9206673423374839908</td>\n",
       "      <td>2020-01-27</td>\n",
       "      <td>1</td>\n",
       "      <td>[6.0, 9.0, 10.0, 7.0]</td>\n",
       "    </tr>\n",
       "  </tbody>\n",
       "</table>\n",
       "<p>3493 rows × 4 columns</p>\n",
       "</div>"
      ],
      "text/plain": [
       "                      node_id         day  t                    volumes_1h\n",
       "2397                   101818  2020-01-27  1      [84.0, 96.0, 58.0, 54.0]\n",
       "5369                   101831  2020-01-27  1  [182.0, 140.0, 109.0, 104.0]\n",
       "8341                   101839  2020-01-27  1     [117.0, 96.0, 80.0, 84.0]\n",
       "11313                  101843  2020-01-27  1  [212.0, 194.0, 157.0, 151.0]\n",
       "14285                  101870  2020-01-27  1  [502.0, 465.0, 386.0, 298.0]\n",
       "...                       ...         ... ..                           ...\n",
       "10309505  9160193909980290120  2020-01-27  1  [247.0, 249.0, 252.0, 222.0]\n",
       "10312477  9179255819075450292  2020-01-27  1          [0.0, 0.0, 0.0, 0.0]\n",
       "10315449  9179908236179360682  2020-01-27  1  [238.0, 253.0, 246.0, 205.0]\n",
       "10318421  9193791959321534875  2020-01-27  1  [308.0, 281.0, 267.0, 259.0]\n",
       "10321485  9206673423374839908  2020-01-27  1         [6.0, 9.0, 10.0, 7.0]\n",
       "\n",
       "[3493 rows x 4 columns]"
      ]
     },
     "execution_count": 66,
     "metadata": {},
     "output_type": "execute_result"
    }
   ],
   "source": [
    "df[(df.day == \"2020-01-27\") & (df.t == 1)]"
   ]
  },
  {
   "cell_type": "code",
   "execution_count": 9,
   "id": "e4eb08d9-62bc-445f-ba72-95c1fe364e3c",
   "metadata": {
    "tags": []
   },
   "outputs": [
    {
     "data": {
      "text/html": [
       "<div>\n",
       "<style scoped>\n",
       "    .dataframe tbody tr th:only-of-type {\n",
       "        vertical-align: middle;\n",
       "    }\n",
       "\n",
       "    .dataframe tbody tr th {\n",
       "        vertical-align: top;\n",
       "    }\n",
       "\n",
       "    .dataframe thead th {\n",
       "        text-align: right;\n",
       "    }\n",
       "</style>\n",
       "<table border=\"1\" class=\"dataframe\">\n",
       "  <thead>\n",
       "    <tr style=\"text-align: right;\">\n",
       "      <th></th>\n",
       "      <th>node_id</th>\n",
       "      <th>day</th>\n",
       "      <th>t</th>\n",
       "      <th>volumes_1h</th>\n",
       "    </tr>\n",
       "  </thead>\n",
       "  <tbody>\n",
       "    <tr>\n",
       "      <th>0</th>\n",
       "      <td>101818</td>\n",
       "      <td>2019-07-01</td>\n",
       "      <td>4</td>\n",
       "      <td>NaN</td>\n",
       "    </tr>\n",
       "    <tr>\n",
       "      <th>0</th>\n",
       "      <td>101818</td>\n",
       "      <td>2019-07-01</td>\n",
       "      <td>4</td>\n",
       "      <td>NaN</td>\n",
       "    </tr>\n",
       "    <tr>\n",
       "      <th>0</th>\n",
       "      <td>101818</td>\n",
       "      <td>2019-07-01</td>\n",
       "      <td>4</td>\n",
       "      <td>NaN</td>\n",
       "    </tr>\n",
       "    <tr>\n",
       "      <th>0</th>\n",
       "      <td>101818</td>\n",
       "      <td>2019-07-01</td>\n",
       "      <td>4</td>\n",
       "      <td>NaN</td>\n",
       "    </tr>\n",
       "    <tr>\n",
       "      <th>1</th>\n",
       "      <td>101818</td>\n",
       "      <td>2019-07-01</td>\n",
       "      <td>5</td>\n",
       "      <td>NaN</td>\n",
       "    </tr>\n",
       "    <tr>\n",
       "      <th>1</th>\n",
       "      <td>101818</td>\n",
       "      <td>2019-07-01</td>\n",
       "      <td>5</td>\n",
       "      <td>NaN</td>\n",
       "    </tr>\n",
       "    <tr>\n",
       "      <th>1</th>\n",
       "      <td>101818</td>\n",
       "      <td>2019-07-01</td>\n",
       "      <td>5</td>\n",
       "      <td>NaN</td>\n",
       "    </tr>\n",
       "    <tr>\n",
       "      <th>1</th>\n",
       "      <td>101818</td>\n",
       "      <td>2019-07-01</td>\n",
       "      <td>5</td>\n",
       "      <td>NaN</td>\n",
       "    </tr>\n",
       "    <tr>\n",
       "      <th>2</th>\n",
       "      <td>101818</td>\n",
       "      <td>2019-07-01</td>\n",
       "      <td>6</td>\n",
       "      <td>NaN</td>\n",
       "    </tr>\n",
       "    <tr>\n",
       "      <th>2</th>\n",
       "      <td>101818</td>\n",
       "      <td>2019-07-01</td>\n",
       "      <td>6</td>\n",
       "      <td>NaN</td>\n",
       "    </tr>\n",
       "    <tr>\n",
       "      <th>2</th>\n",
       "      <td>101818</td>\n",
       "      <td>2019-07-01</td>\n",
       "      <td>6</td>\n",
       "      <td>NaN</td>\n",
       "    </tr>\n",
       "    <tr>\n",
       "      <th>2</th>\n",
       "      <td>101818</td>\n",
       "      <td>2019-07-01</td>\n",
       "      <td>6</td>\n",
       "      <td>NaN</td>\n",
       "    </tr>\n",
       "    <tr>\n",
       "      <th>3</th>\n",
       "      <td>101818</td>\n",
       "      <td>2019-07-01</td>\n",
       "      <td>7</td>\n",
       "      <td>NaN</td>\n",
       "    </tr>\n",
       "    <tr>\n",
       "      <th>3</th>\n",
       "      <td>101818</td>\n",
       "      <td>2019-07-01</td>\n",
       "      <td>7</td>\n",
       "      <td>NaN</td>\n",
       "    </tr>\n",
       "    <tr>\n",
       "      <th>3</th>\n",
       "      <td>101818</td>\n",
       "      <td>2019-07-01</td>\n",
       "      <td>7</td>\n",
       "      <td>NaN</td>\n",
       "    </tr>\n",
       "    <tr>\n",
       "      <th>3</th>\n",
       "      <td>101818</td>\n",
       "      <td>2019-07-01</td>\n",
       "      <td>7</td>\n",
       "      <td>NaN</td>\n",
       "    </tr>\n",
       "    <tr>\n",
       "      <th>4</th>\n",
       "      <td>101818</td>\n",
       "      <td>2019-07-01</td>\n",
       "      <td>8</td>\n",
       "      <td>NaN</td>\n",
       "    </tr>\n",
       "    <tr>\n",
       "      <th>4</th>\n",
       "      <td>101818</td>\n",
       "      <td>2019-07-01</td>\n",
       "      <td>8</td>\n",
       "      <td>NaN</td>\n",
       "    </tr>\n",
       "    <tr>\n",
       "      <th>4</th>\n",
       "      <td>101818</td>\n",
       "      <td>2019-07-01</td>\n",
       "      <td>8</td>\n",
       "      <td>NaN</td>\n",
       "    </tr>\n",
       "    <tr>\n",
       "      <th>4</th>\n",
       "      <td>101818</td>\n",
       "      <td>2019-07-01</td>\n",
       "      <td>8</td>\n",
       "      <td>NaN</td>\n",
       "    </tr>\n",
       "  </tbody>\n",
       "</table>\n",
       "</div>"
      ],
      "text/plain": [
       "   node_id         day  t volumes_1h\n",
       "0   101818  2019-07-01  4        NaN\n",
       "0   101818  2019-07-01  4        NaN\n",
       "0   101818  2019-07-01  4        NaN\n",
       "0   101818  2019-07-01  4        NaN\n",
       "1   101818  2019-07-01  5        NaN\n",
       "1   101818  2019-07-01  5        NaN\n",
       "1   101818  2019-07-01  5        NaN\n",
       "1   101818  2019-07-01  5        NaN\n",
       "2   101818  2019-07-01  6        NaN\n",
       "2   101818  2019-07-01  6        NaN\n",
       "2   101818  2019-07-01  6        NaN\n",
       "2   101818  2019-07-01  6        NaN\n",
       "3   101818  2019-07-01  7        NaN\n",
       "3   101818  2019-07-01  7        NaN\n",
       "3   101818  2019-07-01  7        NaN\n",
       "3   101818  2019-07-01  7        NaN\n",
       "4   101818  2019-07-01  8        NaN\n",
       "4   101818  2019-07-01  8        NaN\n",
       "4   101818  2019-07-01  8        NaN\n",
       "4   101818  2019-07-01  8        NaN"
      ]
     },
     "execution_count": 9,
     "metadata": {},
     "output_type": "execute_result"
    }
   ],
   "source": [
    "df.head().explode(\"volumes_1h\")"
   ]
  },
  {
   "cell_type": "code",
   "execution_count": 12,
   "id": "414f97cb-537a-407e-96e5-417ecd90a50a",
   "metadata": {
    "tags": []
   },
   "outputs": [
    {
     "name": "stdout",
     "output_type": "stream",
     "text": [
      "speed_classes_2019-07-01.parquet\n",
      "speed_classes_2019-07-02.parquet\n",
      "speed_classes_2019-07-03.parquet\n",
      "speed_classes_2019-07-04.parquet\n",
      "speed_classes_2019-07-05.parquet\n"
     ]
    }
   ],
   "source": [
    "ls data/speed_classes/london | head -n 5"
   ]
  },
  {
   "cell_type": "code",
   "execution_count": 13,
   "id": "627692dd-b5aa-4645-85dc-5469a0eb3c08",
   "metadata": {
    "tags": []
   },
   "outputs": [
    {
     "data": {
      "text/html": [
       "<div>\n",
       "<style scoped>\n",
       "    .dataframe tbody tr th:only-of-type {\n",
       "        vertical-align: middle;\n",
       "    }\n",
       "\n",
       "    .dataframe tbody tr th {\n",
       "        vertical-align: top;\n",
       "    }\n",
       "\n",
       "    .dataframe thead th {\n",
       "        text-align: right;\n",
       "    }\n",
       "</style>\n",
       "<table border=\"1\" class=\"dataframe\">\n",
       "  <thead>\n",
       "    <tr style=\"text-align: right;\">\n",
       "      <th></th>\n",
       "      <th>u</th>\n",
       "      <th>v</th>\n",
       "      <th>day</th>\n",
       "      <th>t</th>\n",
       "      <th>volume_class</th>\n",
       "      <th>median_speed_kph</th>\n",
       "      <th>free_flow_kph</th>\n",
       "    </tr>\n",
       "  </thead>\n",
       "  <tbody>\n",
       "    <tr>\n",
       "      <th>0</th>\n",
       "      <td>78112</td>\n",
       "      <td>25508583</td>\n",
       "      <td>2019-07-01</td>\n",
       "      <td>9</td>\n",
       "      <td>3</td>\n",
       "      <td>19.764706</td>\n",
       "      <td>36.352941</td>\n",
       "    </tr>\n",
       "    <tr>\n",
       "      <th>1</th>\n",
       "      <td>78112</td>\n",
       "      <td>25508583</td>\n",
       "      <td>2019-07-01</td>\n",
       "      <td>28</td>\n",
       "      <td>5</td>\n",
       "      <td>27.882353</td>\n",
       "      <td>36.352941</td>\n",
       "    </tr>\n",
       "    <tr>\n",
       "      <th>2</th>\n",
       "      <td>78112</td>\n",
       "      <td>25508583</td>\n",
       "      <td>2019-07-01</td>\n",
       "      <td>29</td>\n",
       "      <td>5</td>\n",
       "      <td>46.823529</td>\n",
       "      <td>36.352941</td>\n",
       "    </tr>\n",
       "    <tr>\n",
       "      <th>3</th>\n",
       "      <td>78112</td>\n",
       "      <td>25508583</td>\n",
       "      <td>2019-07-01</td>\n",
       "      <td>30</td>\n",
       "      <td>3</td>\n",
       "      <td>24.000000</td>\n",
       "      <td>36.352941</td>\n",
       "    </tr>\n",
       "    <tr>\n",
       "      <th>4</th>\n",
       "      <td>78112</td>\n",
       "      <td>25508583</td>\n",
       "      <td>2019-07-01</td>\n",
       "      <td>34</td>\n",
       "      <td>5</td>\n",
       "      <td>38.470588</td>\n",
       "      <td>36.352941</td>\n",
       "    </tr>\n",
       "  </tbody>\n",
       "</table>\n",
       "</div>"
      ],
      "text/plain": [
       "       u         v         day   t  volume_class  median_speed_kph  \\\n",
       "0  78112  25508583  2019-07-01   9             3         19.764706   \n",
       "1  78112  25508583  2019-07-01  28             5         27.882353   \n",
       "2  78112  25508583  2019-07-01  29             5         46.823529   \n",
       "3  78112  25508583  2019-07-01  30             3         24.000000   \n",
       "4  78112  25508583  2019-07-01  34             5         38.470588   \n",
       "\n",
       "   free_flow_kph  \n",
       "0      36.352941  \n",
       "1      36.352941  \n",
       "2      36.352941  \n",
       "3      36.352941  \n",
       "4      36.352941  "
      ]
     },
     "execution_count": 13,
     "metadata": {},
     "output_type": "execute_result"
    }
   ],
   "source": [
    "pd.read_parquet(\"data/speed_classes/london/speed_classes_2019-07-01.parquet\").head()"
   ]
  },
  {
   "cell_type": "code",
   "execution_count": null,
   "id": "52c09d40-37f5-4cb0-954a-36f64728c50f",
   "metadata": {
    "tags": []
   },
   "outputs": [
    {
     "name": "stdout",
     "output_type": "stream",
     "text": [
      "cc_labels_2019-07-01.parquet  cc_labels_2019-10-13.parquet\n",
      "cc_labels_2019-07-02.parquet  cc_labels_2019-10-21.parquet\n",
      "cc_labels_2019-07-03.parquet  cc_labels_2019-10-22.parquet\n",
      "cc_labels_2019-07-04.parquet  cc_labels_2019-10-23.parquet\n",
      "cc_labels_2019-07-05.parquet  cc_labels_2019-10-24.parquet\n",
      "cc_labels_2019-07-06.parquet  cc_labels_2019-10-25.parquet\n",
      "cc_labels_2019-07-07.parquet  cc_labels_2019-10-26.parquet\n",
      "cc_labels_2019-07-15.parquet  cc_labels_2019-10-27.parquet\n",
      "cc_labels_2019-07-16.parquet  cc_labels_2019-11-04.parquet\n",
      "cc_labels_2019-07-17.parquet  cc_labels_2019-11-05.parquet\n",
      "cc_labels_2019-07-18.parquet  cc_labels_2019-11-06.parquet\n",
      "cc_labels_2019-07-19.parquet  cc_labels_2019-11-07.parquet\n",
      "cc_labels_2019-07-20.parquet  cc_labels_2019-11-08.parquet\n",
      "cc_labels_2019-07-21.parquet  cc_labels_2019-11-09.parquet\n",
      "cc_labels_2019-07-29.parquet  cc_labels_2019-11-10.parquet\n",
      "cc_labels_2019-07-30.parquet  cc_labels_2019-11-18.parquet\n",
      "cc_labels_2019-07-31.parquet  cc_labels_2019-11-19.parquet\n",
      "cc_labels_2019-08-01.parquet  cc_labels_2019-11-20.parquet\n",
      "cc_labels_2019-08-02.parquet  cc_labels_2019-11-21.parquet\n",
      "cc_labels_2019-08-03.parquet  cc_labels_2019-11-22.parquet\n",
      "cc_labels_2019-08-04.parquet  cc_labels_2019-11-23.parquet\n",
      "cc_labels_2019-08-12.parquet  cc_labels_2019-11-24.parquet\n",
      "cc_labels_2019-08-13.parquet  cc_labels_2019-12-02.parquet\n",
      "cc_labels_2019-08-14.parquet  cc_labels_2019-12-03.parquet\n",
      "cc_labels_2019-08-15.parquet  cc_labels_2019-12-04.parquet\n",
      "cc_labels_2019-08-16.parquet  cc_labels_2019-12-05.parquet\n",
      "cc_labels_2019-08-17.parquet  cc_labels_2019-12-06.parquet\n",
      "cc_labels_2019-08-18.parquet  cc_labels_2019-12-07.parquet\n",
      "cc_labels_2019-08-26.parquet  cc_labels_2019-12-08.parquet\n",
      "cc_labels_2019-08-27.parquet  cc_labels_2019-12-16.parquet\n",
      "cc_labels_2019-08-28.parquet  cc_labels_2019-12-17.parquet\n",
      "cc_labels_2019-08-29.parquet  cc_labels_2019-12-18.parquet\n",
      "cc_labels_2019-08-30.parquet  cc_labels_2019-12-19.parquet\n",
      "cc_labels_2019-08-31.parquet  cc_labels_2019-12-20.parquet\n",
      "cc_labels_2019-09-01.parquet  cc_labels_2019-12-21.parquet\n",
      "cc_labels_2019-09-09.parquet  cc_labels_2019-12-22.parquet\n",
      "cc_labels_2019-09-10.parquet  cc_labels_2019-12-30.parquet\n",
      "cc_labels_2019-09-11.parquet  cc_labels_2019-12-31.parquet\n",
      "cc_labels_2019-09-12.parquet  cc_labels_2020-01-01.parquet\n",
      "cc_labels_2019-09-13.parquet  cc_labels_2020-01-02.parquet\n",
      "cc_labels_2019-09-14.parquet  cc_labels_2020-01-03.parquet\n",
      "cc_labels_2019-09-15.parquet  cc_labels_2020-01-04.parquet\n",
      "cc_labels_2019-09-23.parquet  cc_labels_2020-01-05.parquet\n",
      "cc_labels_2019-09-24.parquet  cc_labels_2020-01-13.parquet\n",
      "cc_labels_2019-09-25.parquet  cc_labels_2020-01-14.parquet\n",
      "cc_labels_2019-09-26.parquet  cc_labels_2020-01-15.parquet\n",
      "cc_labels_2019-09-27.parquet  cc_labels_2020-01-16.parquet\n",
      "cc_labels_2019-09-28.parquet  cc_labels_2020-01-17.parquet\n",
      "cc_labels_2019-09-29.parquet  cc_labels_2020-01-18.parquet\n",
      "cc_labels_2019-10-07.parquet  cc_labels_2020-01-19.parquet\n",
      "cc_labels_2019-10-08.parquet  cc_labels_2020-01-27.parquet\n",
      "cc_labels_2019-10-09.parquet  cc_labels_2020-01-28.parquet\n",
      "cc_labels_2019-10-10.parquet  cc_labels_2020-01-29.parquet\n",
      "cc_labels_2019-10-11.parquet  cc_labels_2020-01-30.parquet\n",
      "cc_labels_2019-10-12.parquet  cc_labels_2020-01-31.parquet\n"
     ]
    }
   ],
   "source": [
    "ls data/train/london/labels"
   ]
  },
  {
   "cell_type": "code",
   "execution_count": 8,
   "id": "0dbf5e95-0671-4073-9eee-3f8368278b13",
   "metadata": {
    "tags": []
   },
   "outputs": [],
   "source": [
    "df = pd.read_parquet(\"data/train/london/labels/cc_labels_2019-07-01.parquet\")"
   ]
  },
  {
   "cell_type": "code",
   "execution_count": 9,
   "id": "ec1e41f8-33bb-43dc-a200-c27f7565dd09",
   "metadata": {
    "tags": []
   },
   "outputs": [
    {
     "data": {
      "text/html": [
       "<div>\n",
       "<style scoped>\n",
       "    .dataframe tbody tr th:only-of-type {\n",
       "        vertical-align: middle;\n",
       "    }\n",
       "\n",
       "    .dataframe tbody tr th {\n",
       "        vertical-align: top;\n",
       "    }\n",
       "\n",
       "    .dataframe thead th {\n",
       "        text-align: right;\n",
       "    }\n",
       "</style>\n",
       "<table border=\"1\" class=\"dataframe\">\n",
       "  <thead>\n",
       "    <tr style=\"text-align: right;\">\n",
       "      <th></th>\n",
       "      <th>u</th>\n",
       "      <th>v</th>\n",
       "      <th>day</th>\n",
       "      <th>t</th>\n",
       "      <th>cc</th>\n",
       "    </tr>\n",
       "  </thead>\n",
       "  <tbody>\n",
       "    <tr>\n",
       "      <th>0</th>\n",
       "      <td>78112</td>\n",
       "      <td>25508583</td>\n",
       "      <td>2019-07-01</td>\n",
       "      <td>9</td>\n",
       "      <td>2</td>\n",
       "    </tr>\n",
       "    <tr>\n",
       "      <th>1</th>\n",
       "      <td>78112</td>\n",
       "      <td>25508583</td>\n",
       "      <td>2019-07-01</td>\n",
       "      <td>28</td>\n",
       "      <td>1</td>\n",
       "    </tr>\n",
       "    <tr>\n",
       "      <th>2</th>\n",
       "      <td>78112</td>\n",
       "      <td>25508583</td>\n",
       "      <td>2019-07-01</td>\n",
       "      <td>29</td>\n",
       "      <td>1</td>\n",
       "    </tr>\n",
       "    <tr>\n",
       "      <th>3</th>\n",
       "      <td>78112</td>\n",
       "      <td>25508583</td>\n",
       "      <td>2019-07-01</td>\n",
       "      <td>30</td>\n",
       "      <td>2</td>\n",
       "    </tr>\n",
       "    <tr>\n",
       "      <th>4</th>\n",
       "      <td>78112</td>\n",
       "      <td>25508583</td>\n",
       "      <td>2019-07-01</td>\n",
       "      <td>34</td>\n",
       "      <td>1</td>\n",
       "    </tr>\n",
       "  </tbody>\n",
       "</table>\n",
       "</div>"
      ],
      "text/plain": [
       "       u         v         day   t  cc\n",
       "0  78112  25508583  2019-07-01   9   2\n",
       "1  78112  25508583  2019-07-01  28   1\n",
       "2  78112  25508583  2019-07-01  29   1\n",
       "3  78112  25508583  2019-07-01  30   2\n",
       "4  78112  25508583  2019-07-01  34   1"
      ]
     },
     "execution_count": 9,
     "metadata": {},
     "output_type": "execute_result"
    }
   ],
   "source": [
    "df.head()"
   ]
  },
  {
   "cell_type": "code",
   "execution_count": 11,
   "id": "1d85d884-ce5a-4307-aee0-f8afce04d8f4",
   "metadata": {
    "tags": []
   },
   "outputs": [
    {
     "name": "stdout",
     "output_type": "stream",
     "text": [
      "cc_labels_2021-06-01.parquet  cc_labels_2021-09-13.parquet\n",
      "cc_labels_2021-06-02.parquet  cc_labels_2021-09-21.parquet\n",
      "cc_labels_2021-06-03.parquet  cc_labels_2021-09-22.parquet\n",
      "cc_labels_2021-06-04.parquet  cc_labels_2021-09-23.parquet\n",
      "cc_labels_2021-06-05.parquet  cc_labels_2021-09-24.parquet\n",
      "cc_labels_2021-06-06.parquet  cc_labels_2021-09-25.parquet\n",
      "cc_labels_2021-06-07.parquet  cc_labels_2021-09-26.parquet\n",
      "cc_labels_2021-06-15.parquet  cc_labels_2021-09-27.parquet\n",
      "cc_labels_2021-06-16.parquet  cc_labels_2021-10-05.parquet\n",
      "cc_labels_2021-06-17.parquet  cc_labels_2021-10-06.parquet\n",
      "cc_labels_2021-06-18.parquet  cc_labels_2021-10-07.parquet\n",
      "cc_labels_2021-06-19.parquet  cc_labels_2021-10-08.parquet\n",
      "cc_labels_2021-06-20.parquet  cc_labels_2021-10-09.parquet\n",
      "cc_labels_2021-06-21.parquet  cc_labels_2021-10-10.parquet\n",
      "cc_labels_2021-06-29.parquet  cc_labels_2021-10-11.parquet\n",
      "cc_labels_2021-06-30.parquet  cc_labels_2021-10-19.parquet\n",
      "cc_labels_2021-07-01.parquet  cc_labels_2021-10-20.parquet\n",
      "cc_labels_2021-07-02.parquet  cc_labels_2021-10-21.parquet\n",
      "cc_labels_2021-07-03.parquet  cc_labels_2021-10-22.parquet\n",
      "cc_labels_2021-07-04.parquet  cc_labels_2021-10-23.parquet\n",
      "cc_labels_2021-07-05.parquet  cc_labels_2021-10-24.parquet\n",
      "cc_labels_2021-07-13.parquet  cc_labels_2021-10-25.parquet\n",
      "cc_labels_2021-07-14.parquet  cc_labels_2021-11-02.parquet\n",
      "cc_labels_2021-07-15.parquet  cc_labels_2021-11-03.parquet\n",
      "cc_labels_2021-07-16.parquet  cc_labels_2021-11-04.parquet\n",
      "cc_labels_2021-07-17.parquet  cc_labels_2021-11-05.parquet\n",
      "cc_labels_2021-07-18.parquet  cc_labels_2021-11-06.parquet\n",
      "cc_labels_2021-07-19.parquet  cc_labels_2021-11-07.parquet\n",
      "cc_labels_2021-07-27.parquet  cc_labels_2021-11-08.parquet\n",
      "cc_labels_2021-07-28.parquet  cc_labels_2021-11-16.parquet\n",
      "cc_labels_2021-07-29.parquet  cc_labels_2021-11-17.parquet\n",
      "cc_labels_2021-07-30.parquet  cc_labels_2021-11-18.parquet\n",
      "cc_labels_2021-07-31.parquet  cc_labels_2021-11-19.parquet\n",
      "cc_labels_2021-08-01.parquet  cc_labels_2021-11-20.parquet\n",
      "cc_labels_2021-08-02.parquet  cc_labels_2021-11-21.parquet\n",
      "cc_labels_2021-08-10.parquet  cc_labels_2021-11-22.parquet\n",
      "cc_labels_2021-08-11.parquet  cc_labels_2021-11-30.parquet\n",
      "cc_labels_2021-08-12.parquet  cc_labels_2021-12-01.parquet\n",
      "cc_labels_2021-08-13.parquet  cc_labels_2021-12-02.parquet\n",
      "cc_labels_2021-08-14.parquet  cc_labels_2021-12-03.parquet\n",
      "cc_labels_2021-08-15.parquet  cc_labels_2021-12-04.parquet\n",
      "cc_labels_2021-08-16.parquet  cc_labels_2021-12-05.parquet\n",
      "cc_labels_2021-08-24.parquet  cc_labels_2021-12-06.parquet\n",
      "cc_labels_2021-08-25.parquet  cc_labels_2021-12-14.parquet\n",
      "cc_labels_2021-08-26.parquet  cc_labels_2021-12-15.parquet\n",
      "cc_labels_2021-08-27.parquet  cc_labels_2021-12-16.parquet\n",
      "cc_labels_2021-08-28.parquet  cc_labels_2021-12-17.parquet\n",
      "cc_labels_2021-08-29.parquet  cc_labels_2021-12-18.parquet\n",
      "cc_labels_2021-08-30.parquet  cc_labels_2021-12-19.parquet\n",
      "cc_labels_2021-09-07.parquet  cc_labels_2021-12-20.parquet\n",
      "cc_labels_2021-09-08.parquet  cc_labels_2021-12-28.parquet\n",
      "cc_labels_2021-09-09.parquet  cc_labels_2021-12-29.parquet\n",
      "cc_labels_2021-09-10.parquet  cc_labels_2021-12-30.parquet\n",
      "cc_labels_2021-09-11.parquet  cc_labels_2021-12-31.parquet\n",
      "cc_labels_2021-09-12.parquet\n"
     ]
    }
   ],
   "source": [
    "ls data/train/madrid/labels"
   ]
  },
  {
   "cell_type": "code",
   "execution_count": 12,
   "id": "28564c04-fe46-474a-8cbe-43d62e82caaf",
   "metadata": {
    "tags": []
   },
   "outputs": [],
   "source": [
    "df = pd.read_parquet(\"data/train/madrid/labels/cc_labels_2021-06-01.parquet\")"
   ]
  },
  {
   "cell_type": "code",
   "execution_count": 13,
   "id": "19fe589f-d33d-4113-8d45-61da96a477cc",
   "metadata": {
    "tags": []
   },
   "outputs": [
    {
     "data": {
      "text/html": [
       "<div>\n",
       "<style scoped>\n",
       "    .dataframe tbody tr th:only-of-type {\n",
       "        vertical-align: middle;\n",
       "    }\n",
       "\n",
       "    .dataframe tbody tr th {\n",
       "        vertical-align: top;\n",
       "    }\n",
       "\n",
       "    .dataframe thead th {\n",
       "        text-align: right;\n",
       "    }\n",
       "</style>\n",
       "<table border=\"1\" class=\"dataframe\">\n",
       "  <thead>\n",
       "    <tr style=\"text-align: right;\">\n",
       "      <th></th>\n",
       "      <th>u</th>\n",
       "      <th>v</th>\n",
       "      <th>day</th>\n",
       "      <th>t</th>\n",
       "      <th>cc</th>\n",
       "    </tr>\n",
       "  </thead>\n",
       "  <tbody>\n",
       "    <tr>\n",
       "      <th>0</th>\n",
       "      <td>171946</td>\n",
       "      <td>26513145</td>\n",
       "      <td>2021-06-01</td>\n",
       "      <td>0</td>\n",
       "      <td>2</td>\n",
       "    </tr>\n",
       "    <tr>\n",
       "      <th>1</th>\n",
       "      <td>171946</td>\n",
       "      <td>26513145</td>\n",
       "      <td>2021-06-01</td>\n",
       "      <td>1</td>\n",
       "      <td>1</td>\n",
       "    </tr>\n",
       "    <tr>\n",
       "      <th>2</th>\n",
       "      <td>171946</td>\n",
       "      <td>26513145</td>\n",
       "      <td>2021-06-01</td>\n",
       "      <td>2</td>\n",
       "      <td>1</td>\n",
       "    </tr>\n",
       "    <tr>\n",
       "      <th>3</th>\n",
       "      <td>171946</td>\n",
       "      <td>26513145</td>\n",
       "      <td>2021-06-01</td>\n",
       "      <td>4</td>\n",
       "      <td>1</td>\n",
       "    </tr>\n",
       "    <tr>\n",
       "      <th>4</th>\n",
       "      <td>171946</td>\n",
       "      <td>26513145</td>\n",
       "      <td>2021-06-01</td>\n",
       "      <td>5</td>\n",
       "      <td>1</td>\n",
       "    </tr>\n",
       "  </tbody>\n",
       "</table>\n",
       "</div>"
      ],
      "text/plain": [
       "        u         v         day  t  cc\n",
       "0  171946  26513145  2021-06-01  0   2\n",
       "1  171946  26513145  2021-06-01  1   1\n",
       "2  171946  26513145  2021-06-01  2   1\n",
       "3  171946  26513145  2021-06-01  4   1\n",
       "4  171946  26513145  2021-06-01  5   1"
      ]
     },
     "execution_count": 13,
     "metadata": {},
     "output_type": "execute_result"
    }
   ],
   "source": [
    "df.head()"
   ]
  },
  {
   "cell_type": "code",
   "execution_count": 14,
   "id": "3375e191-5f4c-41f8-97cb-808912acd69b",
   "metadata": {
    "tags": []
   },
   "outputs": [],
   "source": [
    "import pickle"
   ]
  },
  {
   "cell_type": "code",
   "execution_count": 15,
   "id": "dc5aec18-3a7e-4998-8313-63058226f0eb",
   "metadata": {
    "tags": []
   },
   "outputs": [],
   "source": [
    "with open(\"data/london.pkl\", \"rb\") as f:\n",
    "    smth = pickle.load(f)"
   ]
  },
  {
   "cell_type": "code",
   "execution_count": 17,
   "id": "e1503be6-2d46-474f-b87a-1ead5489eab1",
   "metadata": {
    "tags": []
   },
   "outputs": [
    {
     "data": {
      "text/plain": [
       "dict_keys([0, 1, 2, 3, 4, 5, 6, 7, 8, 9, 10, 11, 12, 13, 14, 15, 16, 17, 18, 19])"
      ]
     },
     "execution_count": 17,
     "metadata": {},
     "output_type": "execute_result"
    }
   ],
   "source": [
    "smth.keys()"
   ]
  },
  {
   "cell_type": "code",
   "execution_count": 22,
   "id": "097671ba-7684-4360-9e93-ad9ff4bf1699",
   "metadata": {
    "tags": []
   },
   "outputs": [],
   "source": [
    "import numpy as np"
   ]
  },
  {
   "cell_type": "code",
   "execution_count": 27,
   "id": "1ab8b3f2-ee60-4e26-8283-b18c2f4c2f4f",
   "metadata": {
    "tags": []
   },
   "outputs": [
    {
     "data": {
      "text/plain": [
       "629"
      ]
     },
     "execution_count": 27,
     "metadata": {},
     "output_type": "execute_result"
    }
   ],
   "source": [
    "len(list(smth.values())[0])"
   ]
  },
  {
   "cell_type": "code",
   "execution_count": 28,
   "id": "21597f55-fcb0-455b-b788-50e6e1b271e1",
   "metadata": {
    "tags": []
   },
   "outputs": [
    {
     "data": {
      "text/plain": [
       "20"
      ]
     },
     "execution_count": 28,
     "metadata": {},
     "output_type": "execute_result"
    }
   ],
   "source": [
    "len(list(smth.values()))"
   ]
  },
  {
   "cell_type": "code",
   "execution_count": 3,
   "id": "87b5d3bd-2f7e-4b73-8677-0ae11b21f1c4",
   "metadata": {},
   "outputs": [],
   "source": [
    "df_edges = pd.read_parquet(\"../data/road_graph/london/road_graph_edges.parquet\")"
   ]
  },
  {
   "cell_type": "code",
   "execution_count": 4,
   "id": "b034df7c-4845-4936-a5b2-8e6a8874f7e5",
   "metadata": {
    "tags": []
   },
   "outputs": [
    {
     "data": {
      "text/plain": [
       "(132414, 11)"
      ]
     },
     "execution_count": 4,
     "metadata": {},
     "output_type": "execute_result"
    }
   ],
   "source": [
    "df_edges.shape"
   ]
  },
  {
   "cell_type": "code",
   "execution_count": 5,
   "id": "6b711c20-e46b-4da9-8adc-24e4cc3d7e7b",
   "metadata": {
    "tags": []
   },
   "outputs": [
    {
     "data": {
      "text/html": [
       "<div>\n",
       "<style scoped>\n",
       "    .dataframe tbody tr th:only-of-type {\n",
       "        vertical-align: middle;\n",
       "    }\n",
       "\n",
       "    .dataframe tbody tr th {\n",
       "        vertical-align: top;\n",
       "    }\n",
       "\n",
       "    .dataframe thead th {\n",
       "        text-align: right;\n",
       "    }\n",
       "</style>\n",
       "<table border=\"1\" class=\"dataframe\">\n",
       "  <thead>\n",
       "    <tr style=\"text-align: right;\">\n",
       "      <th></th>\n",
       "      <th>u</th>\n",
       "      <th>v</th>\n",
       "      <th>parsed_maxspeed</th>\n",
       "      <th>speed_kph</th>\n",
       "      <th>importance</th>\n",
       "      <th>highway</th>\n",
       "      <th>oneway</th>\n",
       "      <th>lanes</th>\n",
       "      <th>tunnel</th>\n",
       "      <th>length_meters</th>\n",
       "      <th>counter_distance</th>\n",
       "    </tr>\n",
       "  </thead>\n",
       "  <tbody>\n",
       "    <tr>\n",
       "      <th>0</th>\n",
       "      <td>78112</td>\n",
       "      <td>25508583</td>\n",
       "      <td>32.2</td>\n",
       "      <td>32.2</td>\n",
       "      <td>0</td>\n",
       "      <td>unclassified</td>\n",
       "      <td>False</td>\n",
       "      <td></td>\n",
       "      <td></td>\n",
       "      <td>19.402386</td>\n",
       "      <td>6</td>\n",
       "    </tr>\n",
       "    <tr>\n",
       "      <th>1</th>\n",
       "      <td>78112</td>\n",
       "      <td>25508584</td>\n",
       "      <td>32.2</td>\n",
       "      <td>32.2</td>\n",
       "      <td>0</td>\n",
       "      <td>unclassified</td>\n",
       "      <td>False</td>\n",
       "      <td></td>\n",
       "      <td></td>\n",
       "      <td>63.881347</td>\n",
       "      <td>4</td>\n",
       "    </tr>\n",
       "    <tr>\n",
       "      <th>2</th>\n",
       "      <td>78112</td>\n",
       "      <td>3257621681005534125</td>\n",
       "      <td>32.2</td>\n",
       "      <td>32.2</td>\n",
       "      <td>0</td>\n",
       "      <td>residential</td>\n",
       "      <td>True</td>\n",
       "      <td></td>\n",
       "      <td></td>\n",
       "      <td>82.385612</td>\n",
       "      <td>5</td>\n",
       "    </tr>\n",
       "    <tr>\n",
       "      <th>3</th>\n",
       "      <td>99936</td>\n",
       "      <td>2146383887</td>\n",
       "      <td>32.2</td>\n",
       "      <td>32.2</td>\n",
       "      <td>0</td>\n",
       "      <td>unclassified</td>\n",
       "      <td>False</td>\n",
       "      <td></td>\n",
       "      <td></td>\n",
       "      <td>8.076410</td>\n",
       "      <td>1</td>\n",
       "    </tr>\n",
       "    <tr>\n",
       "      <th>4</th>\n",
       "      <td>99936</td>\n",
       "      <td>4544836433</td>\n",
       "      <td>32.2</td>\n",
       "      <td>32.2</td>\n",
       "      <td>0</td>\n",
       "      <td>unclassified</td>\n",
       "      <td>True</td>\n",
       "      <td></td>\n",
       "      <td></td>\n",
       "      <td>46.803240</td>\n",
       "      <td>0</td>\n",
       "    </tr>\n",
       "  </tbody>\n",
       "</table>\n",
       "</div>"
      ],
      "text/plain": [
       "       u                    v  parsed_maxspeed  speed_kph  importance  \\\n",
       "0  78112             25508583             32.2       32.2           0   \n",
       "1  78112             25508584             32.2       32.2           0   \n",
       "2  78112  3257621681005534125             32.2       32.2           0   \n",
       "3  99936           2146383887             32.2       32.2           0   \n",
       "4  99936           4544836433             32.2       32.2           0   \n",
       "\n",
       "        highway  oneway lanes tunnel  length_meters  counter_distance  \n",
       "0  unclassified   False                   19.402386                 6  \n",
       "1  unclassified   False                   63.881347                 4  \n",
       "2   residential    True                   82.385612                 5  \n",
       "3  unclassified   False                    8.076410                 1  \n",
       "4  unclassified    True                   46.803240                 0  "
      ]
     },
     "execution_count": 5,
     "metadata": {},
     "output_type": "execute_result"
    }
   ],
   "source": [
    "df_edges.head()"
   ]
  },
  {
   "cell_type": "code",
   "execution_count": 20,
   "id": "47befbb6-853f-4ce3-a973-1ae5ef643965",
   "metadata": {
    "tags": []
   },
   "outputs": [
    {
     "data": {
      "text/plain": [
       "{'u': 78112,\n",
       " 'v': 25508583,\n",
       " 'parsed_maxspeed': 32.2,\n",
       " 'speed_kph': 32.2,\n",
       " 'importance': 0,\n",
       " 'highway': 'unclassified',\n",
       " 'oneway': False,\n",
       " 'lanes': '',\n",
       " 'tunnel': '',\n",
       " 'length_meters': 19.402385843568535,\n",
       " 'counter_distance': 6}"
      ]
     },
     "execution_count": 20,
     "metadata": {},
     "output_type": "execute_result"
    }
   ],
   "source": [
    "df_edges.to_dict(\"records\")[0]"
   ]
  },
  {
   "cell_type": "code",
   "execution_count": 6,
   "id": "22d09b09-6af8-44e6-b03f-dce7aa064000",
   "metadata": {
    "tags": []
   },
   "outputs": [],
   "source": [
    "df_nodes = pd.read_parquet(\"../data/road_graph/london/road_graph_nodes.parquet\")"
   ]
  },
  {
   "cell_type": "code",
   "execution_count": 8,
   "id": "e88c2311-9e25-44fb-8e27-827d5363e901",
   "metadata": {
    "tags": []
   },
   "outputs": [
    {
     "data": {
      "text/plain": [
       "(59110, 5)"
      ]
     },
     "execution_count": 8,
     "metadata": {},
     "output_type": "execute_result"
    }
   ],
   "source": [
    "df_nodes.shape"
   ]
  },
  {
   "cell_type": "code",
   "execution_count": 9,
   "id": "d6dc7466-150a-4f3b-9b2b-89ea34aaf009",
   "metadata": {
    "tags": []
   },
   "outputs": [
    {
     "data": {
      "text/html": [
       "<div>\n",
       "<style scoped>\n",
       "    .dataframe tbody tr th:only-of-type {\n",
       "        vertical-align: middle;\n",
       "    }\n",
       "\n",
       "    .dataframe tbody tr th {\n",
       "        vertical-align: top;\n",
       "    }\n",
       "\n",
       "    .dataframe thead th {\n",
       "        text-align: right;\n",
       "    }\n",
       "</style>\n",
       "<table border=\"1\" class=\"dataframe\">\n",
       "  <thead>\n",
       "    <tr style=\"text-align: right;\">\n",
       "      <th></th>\n",
       "      <th>node_id</th>\n",
       "      <th>counter_info</th>\n",
       "      <th>num_assigned</th>\n",
       "      <th>x</th>\n",
       "      <th>y</th>\n",
       "    </tr>\n",
       "  </thead>\n",
       "  <tbody>\n",
       "    <tr>\n",
       "      <th>0</th>\n",
       "      <td>78112</td>\n",
       "      <td></td>\n",
       "      <td></td>\n",
       "      <td>-0.145792</td>\n",
       "      <td>51.526976</td>\n",
       "    </tr>\n",
       "    <tr>\n",
       "      <th>1</th>\n",
       "      <td>99936</td>\n",
       "      <td></td>\n",
       "      <td></td>\n",
       "      <td>-0.152791</td>\n",
       "      <td>51.523611</td>\n",
       "    </tr>\n",
       "    <tr>\n",
       "      <th>2</th>\n",
       "      <td>99937</td>\n",
       "      <td></td>\n",
       "      <td></td>\n",
       "      <td>-0.152024</td>\n",
       "      <td>51.523018</td>\n",
       "    </tr>\n",
       "    <tr>\n",
       "      <th>3</th>\n",
       "      <td>101818</td>\n",
       "      <td>01/285</td>\n",
       "      <td>1</td>\n",
       "      <td>-0.148104</td>\n",
       "      <td>51.535179</td>\n",
       "    </tr>\n",
       "    <tr>\n",
       "      <th>4</th>\n",
       "      <td>101831</td>\n",
       "      <td>02/065</td>\n",
       "      <td>1</td>\n",
       "      <td>-0.147044</td>\n",
       "      <td>51.535612</td>\n",
       "    </tr>\n",
       "  </tbody>\n",
       "</table>\n",
       "</div>"
      ],
      "text/plain": [
       "   node_id counter_info num_assigned         x          y\n",
       "0    78112                           -0.145792  51.526976\n",
       "1    99936                           -0.152791  51.523611\n",
       "2    99937                           -0.152024  51.523018\n",
       "3   101818       01/285            1 -0.148104  51.535179\n",
       "4   101831       02/065            1 -0.147044  51.535612"
      ]
     },
     "execution_count": 9,
     "metadata": {},
     "output_type": "execute_result"
    }
   ],
   "source": [
    "df_nodes.head()"
   ]
  },
  {
   "cell_type": "markdown",
   "id": "78191e29-a48d-40d9-af46-a550d9c65d42",
   "metadata": {
    "tags": []
   },
   "source": [
    "# Breaking down road graph mapping"
   ]
  },
  {
   "cell_type": "code",
   "execution_count": 24,
   "id": "82579ad9-955c-4aea-a573-33616e16fc62",
   "metadata": {
    "tags": []
   },
   "outputs": [],
   "source": [
    "edge_records = df_edges.to_dict(\"records\")\n",
    "edges = [(r[\"u\"], r[\"v\"]) for r in edge_records]"
   ]
  },
  {
   "cell_type": "code",
   "execution_count": 25,
   "id": "5890df19-2a6d-45ef-aa4c-40da6b5250ba",
   "metadata": {
    "tags": []
   },
   "outputs": [],
   "source": [
    "noncounter_nodes = [r[\"node_id\"] for r in df_nodes.to_dict(\"records\") if r[\"counter_info\"] == \"\"]\n",
    "counter_nodes = [r[\"node_id\"] for r in df_nodes.to_dict(\"records\") if r[\"counter_info\"] != \"\"]\n",
    "nodes = counter_nodes + noncounter_nodes"
   ]
  },
  {
   "cell_type": "code",
   "execution_count": 27,
   "id": "57940926-d28d-4ef0-bbd4-fe1df7f21edb",
   "metadata": {
    "tags": []
   },
   "outputs": [],
   "source": [
    "from collections import defaultdict"
   ]
  },
  {
   "cell_type": "code",
   "execution_count": 28,
   "id": "f32acd77-4e5a-4b40-8586-32908448c462",
   "metadata": {
    "tags": []
   },
   "outputs": [],
   "source": [
    "node_to_int_mapping = defaultdict(lambda: -1)\n",
    "for i, k in enumerate(nodes):\n",
    "    node_to_int_mapping[k] = i"
   ]
  },
  {
   "cell_type": "code",
   "execution_count": 32,
   "id": "841ce0a4-91ae-478b-bf4c-ef7c1162d486",
   "metadata": {
    "tags": []
   },
   "outputs": [],
   "source": [
    "edge_index = torch.tensor(\n",
    "    [[node_to_int_mapping[n] for n, _ in edges],\n",
    "     [node_to_int_mapping[n] for _, n in edges]], dtype=torch.long\n",
    ")"
   ]
  },
  {
   "cell_type": "code",
   "execution_count": 33,
   "id": "2f152054-b95a-460f-ab6e-9bbd7b52eba4",
   "metadata": {
    "tags": []
   },
   "outputs": [],
   "source": [
    "edge_index_d = defaultdict(lambda: -1)\n",
    "for i, (u, v) in enumerate(edges):\n",
    "    edge_index_d[(u, v)] = i"
   ]
  },
  {
   "cell_type": "code",
   "execution_count": 25,
   "id": "7615b761-d90e-4c1f-9230-96aa03b31e37",
   "metadata": {
    "tags": []
   },
   "outputs": [],
   "source": [
    "edge_attributes=[\"speed_kph\", \"parsed_maxspeed\", \"length_meters\", \"counter_distance\",\n",
    "                                                 \"importance\", \"highway\", \"oneway\", ]"
   ]
  },
  {
   "cell_type": "code",
   "execution_count": 36,
   "id": "6f9712c9-a183-4b20-babc-9f866f1cd3c5",
   "metadata": {
    "tags": []
   },
   "outputs": [],
   "source": [
    "edge_attr = None"
   ]
  },
  {
   "cell_type": "code",
   "execution_count": 51,
   "id": "d923ecf6-6537-49f7-986f-a437244f0d2a",
   "metadata": {
    "tags": []
   },
   "outputs": [],
   "source": [
    "if edge_attributes is not None:\n",
    "    edge_attr = torch.full(size=(len(edges), len(edge_attributes)), fill_value=float(\"nan\"))\n",
    "    highway_dict = {}\n",
    "    oneway_dict = {}\n",
    "    \n",
    "    for i, edge in enumerate(edge_records):\n",
    "        for j, attr in enumerate(edge_attributes):\n",
    "            if attr == \"highway\":\n",
    "                if edge[attr] not in highway_dict:\n",
    "                    temp = len(highway_dict)\n",
    "                    highway_dict[edge[attr]] = temp\n",
    "                edge_attr[i, j] = highway_dict[edge[attr]]\n",
    "            elif attr == \"oneway\":\n",
    "                if edge[attr] not in oneway_dict:\n",
    "                    temp = len(oneway_dict)\n",
    "                    oneway_dict[edge[attr]] = temp\n",
    "                edge_attr[i, j] = oneway_dict[edge[attr]]\n",
    "            else:\n",
    "                edge_attr[i, j] = edge[attr]"
   ]
  },
  {
   "cell_type": "code",
   "execution_count": 52,
   "id": "b70629c3-45e7-4708-99b9-c29406c50de5",
   "metadata": {
    "tags": []
   },
   "outputs": [
    {
     "data": {
      "text/plain": [
       "tensor([[32.2000, 32.2000, 19.4024,  6.0000,  0.0000,  0.0000,  0.0000],\n",
       "        [32.2000, 32.2000, 63.8813,  4.0000,  0.0000,  0.0000,  0.0000],\n",
       "        [32.2000, 32.2000, 82.3856,  5.0000,  0.0000,  1.0000,  1.0000],\n",
       "        [32.2000, 32.2000,  8.0764,  1.0000,  0.0000,  0.0000,  0.0000],\n",
       "        [32.2000, 32.2000, 46.8032,  0.0000,  0.0000,  0.0000,  1.0000]])"
      ]
     },
     "execution_count": 52,
     "metadata": {},
     "output_type": "execute_result"
    }
   ],
   "source": [
    "edge_attr[:5]"
   ]
  },
  {
   "cell_type": "code",
   "execution_count": 66,
   "id": "cd579764-665c-487a-9f5e-10983fc08eb9",
   "metadata": {
    "tags": []
   },
   "outputs": [
    {
     "data": {
      "text/plain": [
       "tensor([0., 1., 2., 3., 4., 5.])"
      ]
     },
     "execution_count": 66,
     "metadata": {},
     "output_type": "execute_result"
    }
   ],
   "source": [
    "edge_attr[:, 4].unique()"
   ]
  },
  {
   "cell_type": "code",
   "execution_count": 45,
   "id": "0fba23a2-b7cc-45ed-a20a-cc335b38ebea",
   "metadata": {
    "tags": []
   },
   "outputs": [
    {
     "data": {
      "text/plain": [
       "{'unclassified': 0,\n",
       " 'residential': 1,\n",
       " 'trunk': 2,\n",
       " 'primary': 3,\n",
       " 'secondary': 4,\n",
       " 'secondary_link': 5,\n",
       " 'tertiary': 6,\n",
       " 'primary_link': 7,\n",
       " \"['tertiary', 'residential']\": 8,\n",
       " 'motorway': 9,\n",
       " 'motorway_link': 10,\n",
       " \"['secondary', 'residential']\": 11,\n",
       " \"['residential', 'unclassified']\": 12,\n",
       " 'tertiary_link': 13,\n",
       " 'trunk_link': 14,\n",
       " \"['tertiary', 'trunk_link']\": 15,\n",
       " \"['secondary', 'unclassified']\": 16,\n",
       " \"['motorway', 'motorway_link']\": 17,\n",
       " \"['primary', 'primary_link']\": 18,\n",
       " \"['tertiary', 'unclassified']\": 19,\n",
       " \"['secondary', 'tertiary']\": 20,\n",
       " \"['primary', 'unclassified']\": 21,\n",
       " \"['residential', 'trunk_link']\": 22,\n",
       " \"['motorway_link', 'unclassified']\": 23,\n",
       " \"['primary', 'trunk_link']\": 24,\n",
       " \"['primary', 'residential']\": 25,\n",
       " \"['residential', 'primary']\": 26}"
      ]
     },
     "execution_count": 45,
     "metadata": {},
     "output_type": "execute_result"
    }
   ],
   "source": [
    "highway_dict"
   ]
  },
  {
   "cell_type": "code",
   "execution_count": 58,
   "id": "c698edf2-7591-4bd7-bd41-0e369a3d72fc",
   "metadata": {
    "tags": []
   },
   "outputs": [],
   "source": [
    "from t4c22.t4c22_config import cc_dates, load_basedir"
   ]
  },
  {
   "cell_type": "code",
   "execution_count": 59,
   "id": "48c06971-3c8e-4016-82d2-3491aff78d0e",
   "metadata": {
    "tags": []
   },
   "outputs": [],
   "source": [
    "basedir = load_basedir()"
   ]
  },
  {
   "cell_type": "code",
   "execution_count": 61,
   "id": "ec509dc7-be81-4fd6-96b5-af209a8fbe38",
   "metadata": {
    "tags": []
   },
   "outputs": [
    {
     "data": {
      "text/plain": [
       "['2019-07-03', '2019-07-20', '2019-11-18', '2020-01-16', '2019-10-22']"
      ]
     },
     "execution_count": 61,
     "metadata": {},
     "output_type": "execute_result"
    }
   ],
   "source": [
    "cc_dates(basedir, \"london\")[:5]"
   ]
  },
  {
   "cell_type": "code",
   "execution_count": 63,
   "id": "d072436c-a743-45d8-a119-52507d50e290",
   "metadata": {
    "tags": []
   },
   "outputs": [],
   "source": [
    "import pickle\n",
    "cluster_map = {}\n",
    "with open(\"data/london.pkl\", 'rb') as f:\n",
    "    maps = pickle.load(f)\n",
    "for i in range(20):\n",
    "    for day, t, _ in maps[i]:\n",
    "        cluster_map['%s-%d' % (day, t)] = i"
   ]
  },
  {
   "cell_type": "code",
   "execution_count": 65,
   "id": "c09ebb80-f4e3-4407-a523-4977a4c37ab1",
   "metadata": {
    "tags": []
   },
   "outputs": [
    {
     "data": {
      "text/plain": [
       "7140"
      ]
     },
     "execution_count": 65,
     "metadata": {},
     "output_type": "execute_result"
    }
   ],
   "source": [
    "len(cluster_map)"
   ]
  },
  {
   "cell_type": "code",
   "execution_count": 28,
   "id": "60baecfd-a8b7-44a2-ba4e-5a648b980441",
   "metadata": {
    "tags": []
   },
   "outputs": [],
   "source": [
    "from t4c22.dataloading.road_graph_mapping import TorchRoadGraphMapping\n",
    "from t4c22.t4c22_config import day_t_filter_weekdays_daytime_only"
   ]
  },
  {
   "cell_type": "code",
   "execution_count": 29,
   "id": "2ea9afd7-9672-4e98-8891-79547dc487b9",
   "metadata": {},
   "outputs": [],
   "source": [
    "torch_road_graph_mapping = TorchRoadGraphMapping(\n",
    "    city=\"london\",\n",
    "    edge_attributes=edge_attributes,\n",
    "    root=basedir,\n",
    "    df_filter=day_t_filter_weekdays_daytime_only\n",
    ")"
   ]
  },
  {
   "cell_type": "markdown",
   "id": "0f2e37c0-f46a-441a-908f-b50997cb3fc3",
   "metadata": {},
   "source": [
    "# load_inputs_day_t function from raod_graph_mapping"
   ]
  },
  {
   "cell_type": "code",
   "execution_count": 16,
   "id": "8325bc49-d81f-4ffc-ad44-8f03a20fd8c1",
   "metadata": {
    "tags": []
   },
   "outputs": [],
   "source": [
    "from t4c22.t4c22_config import load_inputs, load_basedir"
   ]
  },
  {
   "cell_type": "code",
   "execution_count": 18,
   "id": "8c72e673-597c-4e6b-8ee3-ee165f13507d",
   "metadata": {
    "tags": []
   },
   "outputs": [],
   "source": [
    "basedir = load_basedir()"
   ]
  },
  {
   "cell_type": "code",
   "execution_count": 80,
   "id": "c4d73cd9-8ed3-42ab-a57d-0984ec736b8b",
   "metadata": {
    "tags": []
   },
   "outputs": [],
   "source": [
    "day = \"2020-01-27\"\n",
    "t = 30\n",
    "df_x = load_inputs(basedir, city=\"london\", split=\"train\", day=day)"
   ]
  },
  {
   "cell_type": "code",
   "execution_count": 81,
   "id": "38aab364-82f9-4325-9af8-35180986db8c",
   "metadata": {
    "tags": []
   },
   "outputs": [
    {
     "data": {
      "text/html": [
       "<div>\n",
       "<style scoped>\n",
       "    .dataframe tbody tr th:only-of-type {\n",
       "        vertical-align: middle;\n",
       "    }\n",
       "\n",
       "    .dataframe tbody tr th {\n",
       "        vertical-align: top;\n",
       "    }\n",
       "\n",
       "    .dataframe thead th {\n",
       "        text-align: right;\n",
       "    }\n",
       "</style>\n",
       "<table border=\"1\" class=\"dataframe\">\n",
       "  <thead>\n",
       "    <tr style=\"text-align: right;\">\n",
       "      <th></th>\n",
       "      <th>node_id</th>\n",
       "      <th>day</th>\n",
       "      <th>t</th>\n",
       "      <th>volumes_1h</th>\n",
       "    </tr>\n",
       "  </thead>\n",
       "  <tbody>\n",
       "    <tr>\n",
       "      <th>2420</th>\n",
       "      <td>101818</td>\n",
       "      <td>2020-01-27</td>\n",
       "      <td>24</td>\n",
       "      <td>[nan, nan, nan, nan]</td>\n",
       "    </tr>\n",
       "    <tr>\n",
       "      <th>2421</th>\n",
       "      <td>101818</td>\n",
       "      <td>2020-01-27</td>\n",
       "      <td>25</td>\n",
       "      <td>[nan, nan, nan, nan]</td>\n",
       "    </tr>\n",
       "    <tr>\n",
       "      <th>2422</th>\n",
       "      <td>101818</td>\n",
       "      <td>2020-01-27</td>\n",
       "      <td>26</td>\n",
       "      <td>[nan, nan, nan, nan]</td>\n",
       "    </tr>\n",
       "    <tr>\n",
       "      <th>2423</th>\n",
       "      <td>101818</td>\n",
       "      <td>2020-01-27</td>\n",
       "      <td>27</td>\n",
       "      <td>[nan, nan, nan, nan]</td>\n",
       "    </tr>\n",
       "    <tr>\n",
       "      <th>2424</th>\n",
       "      <td>101818</td>\n",
       "      <td>2020-01-27</td>\n",
       "      <td>28</td>\n",
       "      <td>[nan, nan, nan, nan]</td>\n",
       "    </tr>\n",
       "  </tbody>\n",
       "</table>\n",
       "</div>"
      ],
      "text/plain": [
       "      node_id         day   t            volumes_1h\n",
       "2420   101818  2020-01-27  24  [nan, nan, nan, nan]\n",
       "2421   101818  2020-01-27  25  [nan, nan, nan, nan]\n",
       "2422   101818  2020-01-27  26  [nan, nan, nan, nan]\n",
       "2423   101818  2020-01-27  27  [nan, nan, nan, nan]\n",
       "2424   101818  2020-01-27  28  [nan, nan, nan, nan]"
      ]
     },
     "execution_count": 81,
     "metadata": {},
     "output_type": "execute_result"
    }
   ],
   "source": [
    "df_x.head()"
   ]
  },
  {
   "cell_type": "code",
   "execution_count": 79,
   "id": "ecd35a78-c448-42f5-b6a3-59b889ed2547",
   "metadata": {
    "tags": []
   },
   "outputs": [
    {
     "data": {
      "text/plain": [
       "array([24, 25, 26, 27, 28, 29, 30, 31, 32, 33, 34, 35, 36, 37, 38, 39, 40,\n",
       "       41, 42, 43, 44, 45, 46, 47, 48, 49, 50, 51, 52, 53, 54, 55, 56, 57,\n",
       "       58, 59, 60, 61, 62, 63, 64, 65, 66, 67, 68, 69, 70, 71, 72, 73, 74,\n",
       "       75, 76, 77, 78, 79, 80, 81, 82, 83, 84, 85, 86, 87])"
      ]
     },
     "execution_count": 79,
     "metadata": {},
     "output_type": "execute_result"
    }
   ],
   "source": [
    "df_x.t.unique()"
   ]
  },
  {
   "cell_type": "code",
   "execution_count": 82,
   "id": "daab3009-9406-4168-b636-4f1c529bd3ca",
   "metadata": {
    "tags": []
   },
   "outputs": [
    {
     "data": {
      "text/html": [
       "<div>\n",
       "<style scoped>\n",
       "    .dataframe tbody tr th:only-of-type {\n",
       "        vertical-align: middle;\n",
       "    }\n",
       "\n",
       "    .dataframe tbody tr th {\n",
       "        vertical-align: top;\n",
       "    }\n",
       "\n",
       "    .dataframe thead th {\n",
       "        text-align: right;\n",
       "    }\n",
       "</style>\n",
       "<table border=\"1\" class=\"dataframe\">\n",
       "  <thead>\n",
       "    <tr style=\"text-align: right;\">\n",
       "      <th></th>\n",
       "      <th>node_id</th>\n",
       "      <th>day</th>\n",
       "      <th>t</th>\n",
       "      <th>volumes_1h</th>\n",
       "    </tr>\n",
       "  </thead>\n",
       "  <tbody>\n",
       "    <tr>\n",
       "      <th>2420</th>\n",
       "      <td>101818</td>\n",
       "      <td>2020-01-27</td>\n",
       "      <td>24</td>\n",
       "      <td>NaN</td>\n",
       "    </tr>\n",
       "    <tr>\n",
       "      <th>2420</th>\n",
       "      <td>101818</td>\n",
       "      <td>2020-01-27</td>\n",
       "      <td>24</td>\n",
       "      <td>NaN</td>\n",
       "    </tr>\n",
       "    <tr>\n",
       "      <th>2420</th>\n",
       "      <td>101818</td>\n",
       "      <td>2020-01-27</td>\n",
       "      <td>24</td>\n",
       "      <td>NaN</td>\n",
       "    </tr>\n",
       "    <tr>\n",
       "      <th>2420</th>\n",
       "      <td>101818</td>\n",
       "      <td>2020-01-27</td>\n",
       "      <td>24</td>\n",
       "      <td>NaN</td>\n",
       "    </tr>\n",
       "    <tr>\n",
       "      <th>2421</th>\n",
       "      <td>101818</td>\n",
       "      <td>2020-01-27</td>\n",
       "      <td>25</td>\n",
       "      <td>NaN</td>\n",
       "    </tr>\n",
       "  </tbody>\n",
       "</table>\n",
       "</div>"
      ],
      "text/plain": [
       "      node_id         day   t volumes_1h\n",
       "2420   101818  2020-01-27  24        NaN\n",
       "2420   101818  2020-01-27  24        NaN\n",
       "2420   101818  2020-01-27  24        NaN\n",
       "2420   101818  2020-01-27  24        NaN\n",
       "2421   101818  2020-01-27  25        NaN"
      ]
     },
     "execution_count": 82,
     "metadata": {},
     "output_type": "execute_result"
    }
   ],
   "source": [
    "df_x[\"node_id\"] = df_x[\"node_id\"].astype(\"int64\")\n",
    "df_x = df_x.explode(\"volumes_1h\")\n",
    "df_x.head()"
   ]
  },
  {
   "cell_type": "code",
   "execution_count": 83,
   "id": "e78720b1-d357-4fa2-b1ae-1e156ee447e6",
   "metadata": {
    "tags": []
   },
   "outputs": [
    {
     "data": {
      "text/html": [
       "<div>\n",
       "<style scoped>\n",
       "    .dataframe tbody tr th:only-of-type {\n",
       "        vertical-align: middle;\n",
       "    }\n",
       "\n",
       "    .dataframe tbody tr th {\n",
       "        vertical-align: top;\n",
       "    }\n",
       "\n",
       "    .dataframe thead th {\n",
       "        text-align: right;\n",
       "    }\n",
       "</style>\n",
       "<table border=\"1\" class=\"dataframe\">\n",
       "  <thead>\n",
       "    <tr style=\"text-align: right;\">\n",
       "      <th></th>\n",
       "      <th>index</th>\n",
       "      <th>node_id</th>\n",
       "      <th>day</th>\n",
       "      <th>t</th>\n",
       "      <th>volumes_1h</th>\n",
       "      <th>slot</th>\n",
       "    </tr>\n",
       "  </thead>\n",
       "  <tbody>\n",
       "    <tr>\n",
       "      <th>0</th>\n",
       "      <td>2420</td>\n",
       "      <td>101818</td>\n",
       "      <td>2020-01-27</td>\n",
       "      <td>24</td>\n",
       "      <td>NaN</td>\n",
       "      <td>0</td>\n",
       "    </tr>\n",
       "    <tr>\n",
       "      <th>1</th>\n",
       "      <td>2420</td>\n",
       "      <td>101818</td>\n",
       "      <td>2020-01-27</td>\n",
       "      <td>24</td>\n",
       "      <td>NaN</td>\n",
       "      <td>1</td>\n",
       "    </tr>\n",
       "    <tr>\n",
       "      <th>2</th>\n",
       "      <td>2420</td>\n",
       "      <td>101818</td>\n",
       "      <td>2020-01-27</td>\n",
       "      <td>24</td>\n",
       "      <td>NaN</td>\n",
       "      <td>2</td>\n",
       "    </tr>\n",
       "    <tr>\n",
       "      <th>3</th>\n",
       "      <td>2420</td>\n",
       "      <td>101818</td>\n",
       "      <td>2020-01-27</td>\n",
       "      <td>24</td>\n",
       "      <td>NaN</td>\n",
       "      <td>3</td>\n",
       "    </tr>\n",
       "    <tr>\n",
       "      <th>4</th>\n",
       "      <td>2421</td>\n",
       "      <td>101818</td>\n",
       "      <td>2020-01-27</td>\n",
       "      <td>25</td>\n",
       "      <td>NaN</td>\n",
       "      <td>0</td>\n",
       "    </tr>\n",
       "  </tbody>\n",
       "</table>\n",
       "</div>"
      ],
      "text/plain": [
       "   index  node_id         day   t  volumes_1h  slot\n",
       "0   2420   101818  2020-01-27  24         NaN     0\n",
       "1   2420   101818  2020-01-27  24         NaN     1\n",
       "2   2420   101818  2020-01-27  24         NaN     2\n",
       "3   2420   101818  2020-01-27  24         NaN     3\n",
       "4   2421   101818  2020-01-27  25         NaN     0"
      ]
     },
     "execution_count": 83,
     "metadata": {},
     "output_type": "execute_result"
    }
   ],
   "source": [
    "df_x = df_x.reset_index()\n",
    "df_x[\"slot\"] = df_x.index % 4\n",
    "df_x[\"volumes_1h\"] = df_x[\"volumes_1h\"].astype(\"float\")\n",
    "df_x.head()"
   ]
  },
  {
   "cell_type": "code",
   "execution_count": 84,
   "id": "3184f34c-cebe-4608-b436-67760d98aa05",
   "metadata": {
    "tags": []
   },
   "outputs": [
    {
     "data": {
      "text/plain": [
       "torch.Size([59110, 4])"
      ]
     },
     "execution_count": 84,
     "metadata": {},
     "output_type": "execute_result"
    }
   ],
   "source": [
    "x = torch.full(size=(len(torch_road_graph_mapping.node_to_int_mapping), 4), fill_value=float(\"nan\"))\n",
    "x.shape"
   ]
  },
  {
   "cell_type": "code",
   "execution_count": 86,
   "id": "f36b0262-f90a-4740-b49b-b78ab3c39f9f",
   "metadata": {
    "tags": []
   },
   "outputs": [
    {
     "data": {
      "text/html": [
       "<div>\n",
       "<style scoped>\n",
       "    .dataframe tbody tr th:only-of-type {\n",
       "        vertical-align: middle;\n",
       "    }\n",
       "\n",
       "    .dataframe tbody tr th {\n",
       "        vertical-align: top;\n",
       "    }\n",
       "\n",
       "    .dataframe thead th {\n",
       "        text-align: right;\n",
       "    }\n",
       "</style>\n",
       "<table border=\"1\" class=\"dataframe\">\n",
       "  <thead>\n",
       "    <tr style=\"text-align: right;\">\n",
       "      <th></th>\n",
       "      <th>index</th>\n",
       "      <th>node_id</th>\n",
       "      <th>day</th>\n",
       "      <th>t</th>\n",
       "      <th>volumes_1h</th>\n",
       "      <th>slot</th>\n",
       "    </tr>\n",
       "  </thead>\n",
       "  <tbody>\n",
       "    <tr>\n",
       "      <th>24</th>\n",
       "      <td>2426</td>\n",
       "      <td>101818</td>\n",
       "      <td>2020-01-27</td>\n",
       "      <td>30</td>\n",
       "      <td>NaN</td>\n",
       "      <td>0</td>\n",
       "    </tr>\n",
       "    <tr>\n",
       "      <th>25</th>\n",
       "      <td>2426</td>\n",
       "      <td>101818</td>\n",
       "      <td>2020-01-27</td>\n",
       "      <td>30</td>\n",
       "      <td>NaN</td>\n",
       "      <td>1</td>\n",
       "    </tr>\n",
       "    <tr>\n",
       "      <th>26</th>\n",
       "      <td>2426</td>\n",
       "      <td>101818</td>\n",
       "      <td>2020-01-27</td>\n",
       "      <td>30</td>\n",
       "      <td>306.0</td>\n",
       "      <td>2</td>\n",
       "    </tr>\n",
       "    <tr>\n",
       "      <th>27</th>\n",
       "      <td>2426</td>\n",
       "      <td>101818</td>\n",
       "      <td>2020-01-27</td>\n",
       "      <td>30</td>\n",
       "      <td>224.0</td>\n",
       "      <td>3</td>\n",
       "    </tr>\n",
       "    <tr>\n",
       "      <th>280</th>\n",
       "      <td>5398</td>\n",
       "      <td>101831</td>\n",
       "      <td>2020-01-27</td>\n",
       "      <td>30</td>\n",
       "      <td>304.0</td>\n",
       "      <td>0</td>\n",
       "    </tr>\n",
       "  </tbody>\n",
       "</table>\n",
       "</div>"
      ],
      "text/plain": [
       "     index  node_id         day   t  volumes_1h  slot\n",
       "24    2426   101818  2020-01-27  30         NaN     0\n",
       "25    2426   101818  2020-01-27  30         NaN     1\n",
       "26    2426   101818  2020-01-27  30       306.0     2\n",
       "27    2426   101818  2020-01-27  30       224.0     3\n",
       "280   5398   101831  2020-01-27  30       304.0     0"
      ]
     },
     "execution_count": 86,
     "metadata": {},
     "output_type": "execute_result"
    }
   ],
   "source": [
    "# (Mis-)use (day,t) for dataloading test sets where we do not exhibit day,t\n",
    "if day == \"test\":\n",
    "    data = df_x[(df_x[\"test_idx\"] == idx)].copy()\n",
    "else:\n",
    "    data = df_x[(df_x[\"day\"] == day) & (df_x[\"t\"] == t)].copy()\n",
    "data.head()"
   ]
  },
  {
   "cell_type": "code",
   "execution_count": 87,
   "id": "c490c82c-0fae-43bf-8138-81b208ad2d3e",
   "metadata": {
    "tags": []
   },
   "outputs": [],
   "source": [
    "data[\"node_index\"] = [torch_road_graph_mapping.node_to_int_mapping[x] for x in data[\"node_id\"]]"
   ]
  },
  {
   "cell_type": "code",
   "execution_count": 88,
   "id": "5c05f92f-05ef-4bc3-9e7d-efa59bc1a0ee",
   "metadata": {
    "tags": []
   },
   "outputs": [],
   "source": [
    "x[data[\"node_index\"].values, data[\"slot\"].values] = torch.tensor(data[\"volumes_1h\"].values).float()"
   ]
  },
  {
   "cell_type": "code",
   "execution_count": 90,
   "id": "08cf9f8e-e125-444e-b8fb-37b45f555f8d",
   "metadata": {
    "tags": []
   },
   "outputs": [
    {
     "data": {
      "text/plain": [
       "tensor([[ nan,  nan, 306., 224.],\n",
       "        [304., 347., 408., 452.],\n",
       "        [230., 274., 293., 298.],\n",
       "        ...,\n",
       "        [ nan,  nan,  nan,  nan],\n",
       "        [ nan,  nan,  nan,  nan],\n",
       "        [ nan,  nan,  nan,  nan]])"
      ]
     },
     "execution_count": 90,
     "metadata": {},
     "output_type": "execute_result"
    }
   ],
   "source": [
    "x"
   ]
  },
  {
   "cell_type": "code",
   "execution_count": 91,
   "id": "aa434327-ec61-4a52-80a2-b018d92879db",
   "metadata": {
    "tags": []
   },
   "outputs": [
    {
     "data": {
      "text/plain": [
       "torch.Size([59110, 4])"
      ]
     },
     "execution_count": 91,
     "metadata": {},
     "output_type": "execute_result"
    }
   ],
   "source": [
    "x.shape"
   ]
  },
  {
   "cell_type": "code",
   "execution_count": null,
   "id": "1dfdbf55-3e47-4db6-a7a3-b3d1ca3cc5e6",
   "metadata": {},
   "outputs": [],
   "source": []
  }
 ],
 "metadata": {
  "kernelspec": {
   "display_name": "t4c22",
   "language": "python",
   "name": "t4c22"
  },
  "language_info": {
   "codemirror_mode": {
    "name": "ipython",
    "version": 3
   },
   "file_extension": ".py",
   "mimetype": "text/x-python",
   "name": "python",
   "nbconvert_exporter": "python",
   "pygments_lexer": "ipython3",
   "version": "3.8.13"
  }
 },
 "nbformat": 4,
 "nbformat_minor": 5
}
