{
 "cells": [
  {
   "cell_type": "code",
   "execution_count": null,
   "id": "6d98326f-8bfa-475e-bf3c-d549db37b493",
   "metadata": {
    "tags": []
   },
   "outputs": [],
   "source": [
    "import sys\n",
    "sys.path.append(\"..\")"
   ]
  },
  {
   "cell_type": "code",
   "execution_count": null,
   "id": "5397d92c-d8e3-4c11-ad63-bc20aad37c35",
   "metadata": {
    "tags": []
   },
   "outputs": [],
   "source": [
    "from collections import defaultdict\n",
    "\n",
    "import numpy as np\n",
    "import pandas as pd\n",
    "import torch"
   ]
  },
  {
   "cell_type": "markdown",
   "id": "4e6c8b85-0917-4575-87a6-2261f7321314",
   "metadata": {
    "tags": []
   },
   "source": [
    "# Exploring vehicle counter data"
   ]
  },
  {
   "cell_type": "code",
   "execution_count": null,
   "id": "13608dab-3eb3-40fe-ade5-95a2f650b3d5",
   "metadata": {
    "tags": []
   },
   "outputs": [],
   "source": [
    "ls ../data/train/london/input | tail -n 5"
   ]
  },
  {
   "cell_type": "code",
   "execution_count": null,
   "id": "d930cfd1-b2a2-4565-b2ad-6f43c7834dca",
   "metadata": {
    "tags": []
   },
   "outputs": [],
   "source": [
    "df = pd.read_parquet(\"../data/train/london/input/counters_2020-01-27.parquet\")"
   ]
  },
  {
   "cell_type": "code",
   "execution_count": null,
   "id": "2ec0511c-7bcc-4fba-9898-68198d56fdb8",
   "metadata": {
    "tags": []
   },
   "outputs": [],
   "source": [
    "df.head()"
   ]
  },
  {
   "cell_type": "code",
   "execution_count": null,
   "id": "c23426d1-fdce-4b04-93b9-c3cac30181e5",
   "metadata": {
    "tags": []
   },
   "outputs": [],
   "source": [
    "df.shape"
   ]
  },
  {
   "cell_type": "code",
   "execution_count": null,
   "id": "58fff75a-f3d9-4c51-98fa-c3dd4024a04b",
   "metadata": {
    "tags": []
   },
   "outputs": [],
   "source": [
    "df[(df.day == \"2020-01-27\") & (df.t == 1)]"
   ]
  },
  {
   "cell_type": "code",
   "execution_count": null,
   "id": "e4eb08d9-62bc-445f-ba72-95c1fe364e3c",
   "metadata": {
    "tags": []
   },
   "outputs": [],
   "source": [
    "df.head().explode(\"volumes_1h\")"
   ]
  },
  {
   "cell_type": "code",
   "execution_count": null,
   "id": "414f97cb-537a-407e-96e5-417ecd90a50a",
   "metadata": {
    "tags": []
   },
   "outputs": [],
   "source": [
    "ls data/speed_classes/london | head -n 5"
   ]
  },
  {
   "cell_type": "code",
   "execution_count": null,
   "id": "627692dd-b5aa-4645-85dc-5469a0eb3c08",
   "metadata": {
    "tags": []
   },
   "outputs": [],
   "source": [
    "pd.read_parquet(\"data/speed_classes/london/speed_classes_2019-07-01.parquet\").head()"
   ]
  },
  {
   "cell_type": "code",
   "execution_count": null,
   "id": "52c09d40-37f5-4cb0-954a-36f64728c50f",
   "metadata": {
    "tags": []
   },
   "outputs": [],
   "source": [
    "ls data/train/london/labels"
   ]
  },
  {
   "cell_type": "code",
   "execution_count": null,
   "id": "0dbf5e95-0671-4073-9eee-3f8368278b13",
   "metadata": {
    "tags": []
   },
   "outputs": [],
   "source": [
    "df = pd.read_parquet(\"data/train/london/labels/cc_labels_2019-07-01.parquet\")"
   ]
  },
  {
   "cell_type": "code",
   "execution_count": null,
   "id": "ec1e41f8-33bb-43dc-a200-c27f7565dd09",
   "metadata": {
    "tags": []
   },
   "outputs": [],
   "source": [
    "df.head()"
   ]
  },
  {
   "cell_type": "code",
   "execution_count": null,
   "id": "1d85d884-ce5a-4307-aee0-f8afce04d8f4",
   "metadata": {
    "tags": []
   },
   "outputs": [],
   "source": [
    "ls data/train/madrid/labels"
   ]
  },
  {
   "cell_type": "code",
   "execution_count": null,
   "id": "28564c04-fe46-474a-8cbe-43d62e82caaf",
   "metadata": {
    "tags": []
   },
   "outputs": [],
   "source": [
    "df = pd.read_parquet(\"data/train/madrid/labels/cc_labels_2021-06-01.parquet\")"
   ]
  },
  {
   "cell_type": "code",
   "execution_count": null,
   "id": "19fe589f-d33d-4113-8d45-61da96a477cc",
   "metadata": {
    "tags": []
   },
   "outputs": [],
   "source": [
    "df.head()"
   ]
  },
  {
   "cell_type": "code",
   "execution_count": null,
   "id": "3375e191-5f4c-41f8-97cb-808912acd69b",
   "metadata": {
    "tags": []
   },
   "outputs": [],
   "source": [
    "import pickle"
   ]
  },
  {
   "cell_type": "code",
   "execution_count": null,
   "id": "dc5aec18-3a7e-4998-8313-63058226f0eb",
   "metadata": {
    "tags": []
   },
   "outputs": [],
   "source": [
    "with open(\"data/london.pkl\", \"rb\") as f:\n",
    "    smth = pickle.load(f)"
   ]
  },
  {
   "cell_type": "code",
   "execution_count": null,
   "id": "e1503be6-2d46-474f-b87a-1ead5489eab1",
   "metadata": {
    "tags": []
   },
   "outputs": [],
   "source": [
    "smth.keys()"
   ]
  },
  {
   "cell_type": "code",
   "execution_count": null,
   "id": "097671ba-7684-4360-9e93-ad9ff4bf1699",
   "metadata": {
    "tags": []
   },
   "outputs": [],
   "source": [
    "import numpy as np"
   ]
  },
  {
   "cell_type": "code",
   "execution_count": null,
   "id": "1ab8b3f2-ee60-4e26-8283-b18c2f4c2f4f",
   "metadata": {
    "tags": []
   },
   "outputs": [],
   "source": [
    "len(list(smth.values())[0])"
   ]
  },
  {
   "cell_type": "code",
   "execution_count": null,
   "id": "21597f55-fcb0-455b-b788-50e6e1b271e1",
   "metadata": {
    "tags": []
   },
   "outputs": [],
   "source": [
    "len(list(smth.values()))"
   ]
  },
  {
   "cell_type": "code",
   "execution_count": null,
   "id": "87b5d3bd-2f7e-4b73-8677-0ae11b21f1c4",
   "metadata": {},
   "outputs": [],
   "source": [
    "df_edges = pd.read_parquet(\"../data/road_graph/london/road_graph_edges.parquet\")"
   ]
  },
  {
   "cell_type": "code",
   "execution_count": null,
   "id": "b034df7c-4845-4936-a5b2-8e6a8874f7e5",
   "metadata": {
    "tags": []
   },
   "outputs": [],
   "source": [
    "df_edges.shape"
   ]
  },
  {
   "cell_type": "code",
   "execution_count": null,
   "id": "6b711c20-e46b-4da9-8adc-24e4cc3d7e7b",
   "metadata": {
    "tags": []
   },
   "outputs": [],
   "source": [
    "df_edges.head()"
   ]
  },
  {
   "cell_type": "code",
   "execution_count": null,
   "id": "47befbb6-853f-4ce3-a973-1ae5ef643965",
   "metadata": {
    "tags": []
   },
   "outputs": [],
   "source": [
    "df_edges.to_dict(\"records\")[0]"
   ]
  },
  {
   "cell_type": "code",
   "execution_count": null,
   "id": "22d09b09-6af8-44e6-b03f-dce7aa064000",
   "metadata": {
    "tags": []
   },
   "outputs": [],
   "source": [
    "df_nodes = pd.read_parquet(\"../data/road_graph/london/road_graph_nodes.parquet\")"
   ]
  },
  {
   "cell_type": "code",
   "execution_count": null,
   "id": "e88c2311-9e25-44fb-8e27-827d5363e901",
   "metadata": {
    "tags": []
   },
   "outputs": [],
   "source": [
    "df_nodes.shape"
   ]
  },
  {
   "cell_type": "code",
   "execution_count": null,
   "id": "d6dc7466-150a-4f3b-9b2b-89ea34aaf009",
   "metadata": {
    "tags": []
   },
   "outputs": [],
   "source": [
    "df_nodes.head()"
   ]
  },
  {
   "cell_type": "markdown",
   "id": "78191e29-a48d-40d9-af46-a550d9c65d42",
   "metadata": {
    "tags": []
   },
   "source": [
    "# Breaking down road graph mapping"
   ]
  },
  {
   "cell_type": "code",
   "execution_count": null,
   "id": "82579ad9-955c-4aea-a573-33616e16fc62",
   "metadata": {
    "tags": []
   },
   "outputs": [],
   "source": [
    "edge_records = df_edges.to_dict(\"records\")\n",
    "edges = [(r[\"u\"], r[\"v\"]) for r in edge_records]"
   ]
  },
  {
   "cell_type": "code",
   "execution_count": null,
   "id": "5890df19-2a6d-45ef-aa4c-40da6b5250ba",
   "metadata": {
    "tags": []
   },
   "outputs": [],
   "source": [
    "noncounter_nodes = [r[\"node_id\"] for r in df_nodes.to_dict(\"records\") if r[\"counter_info\"] == \"\"]\n",
    "counter_nodes = [r[\"node_id\"] for r in df_nodes.to_dict(\"records\") if r[\"counter_info\"] != \"\"]\n",
    "nodes = counter_nodes + noncounter_nodes"
   ]
  },
  {
   "cell_type": "code",
   "execution_count": null,
   "id": "57940926-d28d-4ef0-bbd4-fe1df7f21edb",
   "metadata": {
    "tags": []
   },
   "outputs": [],
   "source": [
    "from collections import defaultdict"
   ]
  },
  {
   "cell_type": "code",
   "execution_count": null,
   "id": "f32acd77-4e5a-4b40-8586-32908448c462",
   "metadata": {
    "tags": []
   },
   "outputs": [],
   "source": [
    "node_to_int_mapping = defaultdict(lambda: -1)\n",
    "for i, k in enumerate(nodes):\n",
    "    node_to_int_mapping[k] = i"
   ]
  },
  {
   "cell_type": "code",
   "execution_count": null,
   "id": "841ce0a4-91ae-478b-bf4c-ef7c1162d486",
   "metadata": {
    "tags": []
   },
   "outputs": [],
   "source": [
    "edge_index = torch.tensor(\n",
    "    [[node_to_int_mapping[n] for n, _ in edges],\n",
    "     [node_to_int_mapping[n] for _, n in edges]], dtype=torch.long\n",
    ")"
   ]
  },
  {
   "cell_type": "code",
   "execution_count": null,
   "id": "2f152054-b95a-460f-ab6e-9bbd7b52eba4",
   "metadata": {
    "tags": []
   },
   "outputs": [],
   "source": [
    "edge_index_d = defaultdict(lambda: -1)\n",
    "for i, (u, v) in enumerate(edges):\n",
    "    edge_index_d[(u, v)] = i"
   ]
  },
  {
   "cell_type": "code",
   "execution_count": null,
   "id": "7615b761-d90e-4c1f-9230-96aa03b31e37",
   "metadata": {
    "tags": []
   },
   "outputs": [],
   "source": [
    "edge_attributes=[\"speed_kph\", \"parsed_maxspeed\", \"length_meters\", \"counter_distance\",\n",
    "                                                 \"importance\", \"highway\", \"oneway\", ]"
   ]
  },
  {
   "cell_type": "code",
   "execution_count": null,
   "id": "6f9712c9-a183-4b20-babc-9f866f1cd3c5",
   "metadata": {
    "tags": []
   },
   "outputs": [],
   "source": [
    "edge_attr = None"
   ]
  },
  {
   "cell_type": "code",
   "execution_count": null,
   "id": "d923ecf6-6537-49f7-986f-a437244f0d2a",
   "metadata": {
    "tags": []
   },
   "outputs": [],
   "source": [
    "if edge_attributes is not None:\n",
    "    edge_attr = torch.full(size=(len(edges), len(edge_attributes)), fill_value=float(\"nan\"))\n",
    "    highway_dict = {}\n",
    "    oneway_dict = {}\n",
    "    \n",
    "    for i, edge in enumerate(edge_records):\n",
    "        for j, attr in enumerate(edge_attributes):\n",
    "            if attr == \"highway\":\n",
    "                if edge[attr] not in highway_dict:\n",
    "                    temp = len(highway_dict)\n",
    "                    highway_dict[edge[attr]] = temp\n",
    "                edge_attr[i, j] = highway_dict[edge[attr]]\n",
    "            elif attr == \"oneway\":\n",
    "                if edge[attr] not in oneway_dict:\n",
    "                    temp = len(oneway_dict)\n",
    "                    oneway_dict[edge[attr]] = temp\n",
    "                edge_attr[i, j] = oneway_dict[edge[attr]]\n",
    "            else:\n",
    "                edge_attr[i, j] = edge[attr]"
   ]
  },
  {
   "cell_type": "code",
   "execution_count": null,
   "id": "b70629c3-45e7-4708-99b9-c29406c50de5",
   "metadata": {
    "tags": []
   },
   "outputs": [],
   "source": [
    "edge_attr[:5]"
   ]
  },
  {
   "cell_type": "code",
   "execution_count": null,
   "id": "cd579764-665c-487a-9f5e-10983fc08eb9",
   "metadata": {
    "tags": []
   },
   "outputs": [],
   "source": [
    "edge_attr[:, 4].unique()"
   ]
  },
  {
   "cell_type": "code",
   "execution_count": null,
   "id": "0fba23a2-b7cc-45ed-a20a-cc335b38ebea",
   "metadata": {
    "tags": []
   },
   "outputs": [],
   "source": [
    "highway_dict"
   ]
  },
  {
   "cell_type": "code",
   "execution_count": null,
   "id": "c698edf2-7591-4bd7-bd41-0e369a3d72fc",
   "metadata": {
    "tags": []
   },
   "outputs": [],
   "source": [
    "from t4c22.t4c22_config import cc_dates, load_basedir"
   ]
  },
  {
   "cell_type": "code",
   "execution_count": null,
   "id": "48c06971-3c8e-4016-82d2-3491aff78d0e",
   "metadata": {
    "tags": []
   },
   "outputs": [],
   "source": [
    "basedir = load_basedir()"
   ]
  },
  {
   "cell_type": "code",
   "execution_count": null,
   "id": "ec509dc7-be81-4fd6-96b5-af209a8fbe38",
   "metadata": {
    "tags": []
   },
   "outputs": [],
   "source": [
    "cc_dates(basedir, \"london\")[:5]"
   ]
  },
  {
   "cell_type": "code",
   "execution_count": null,
   "id": "d072436c-a743-45d8-a119-52507d50e290",
   "metadata": {
    "tags": []
   },
   "outputs": [],
   "source": [
    "import pickle\n",
    "cluster_map = {}\n",
    "with open(\"data/london.pkl\", 'rb') as f:\n",
    "    maps = pickle.load(f)\n",
    "for i in range(20):\n",
    "    for day, t, _ in maps[i]:\n",
    "        cluster_map['%s-%d' % (day, t)] = i"
   ]
  },
  {
   "cell_type": "code",
   "execution_count": null,
   "id": "c09ebb80-f4e3-4407-a523-4977a4c37ab1",
   "metadata": {
    "tags": []
   },
   "outputs": [],
   "source": [
    "len(cluster_map)"
   ]
  },
  {
   "cell_type": "code",
   "execution_count": null,
   "id": "60baecfd-a8b7-44a2-ba4e-5a648b980441",
   "metadata": {
    "tags": []
   },
   "outputs": [],
   "source": [
    "from t4c22.dataloading.road_graph_mapping import TorchRoadGraphMapping\n",
    "from t4c22.t4c22_config import day_t_filter_weekdays_daytime_only"
   ]
  },
  {
   "cell_type": "code",
   "execution_count": null,
   "id": "2ea9afd7-9672-4e98-8891-79547dc487b9",
   "metadata": {},
   "outputs": [],
   "source": [
    "torch_road_graph_mapping = TorchRoadGraphMapping(\n",
    "    city=\"london\",\n",
    "    edge_attributes=edge_attributes,\n",
    "    root=basedir,\n",
    "    df_filter=day_t_filter_weekdays_daytime_only\n",
    ")"
   ]
  },
  {
   "cell_type": "markdown",
   "id": "0f2e37c0-f46a-441a-908f-b50997cb3fc3",
   "metadata": {},
   "source": [
    "# load_inputs_day_t function from raod_graph_mapping"
   ]
  },
  {
   "cell_type": "code",
   "execution_count": null,
   "id": "8325bc49-d81f-4ffc-ad44-8f03a20fd8c1",
   "metadata": {
    "tags": []
   },
   "outputs": [],
   "source": [
    "from t4c22.t4c22_config import load_inputs, load_basedir"
   ]
  },
  {
   "cell_type": "code",
   "execution_count": null,
   "id": "8c72e673-597c-4e6b-8ee3-ee165f13507d",
   "metadata": {
    "tags": []
   },
   "outputs": [],
   "source": [
    "basedir = load_basedir()"
   ]
  },
  {
   "cell_type": "code",
   "execution_count": null,
   "id": "c4d73cd9-8ed3-42ab-a57d-0984ec736b8b",
   "metadata": {
    "tags": []
   },
   "outputs": [],
   "source": [
    "day = \"2020-01-27\"\n",
    "t = 30\n",
    "df_x = load_inputs(basedir, city=\"london\", split=\"train\", day=day)"
   ]
  },
  {
   "cell_type": "code",
   "execution_count": null,
   "id": "38aab364-82f9-4325-9af8-35180986db8c",
   "metadata": {
    "tags": []
   },
   "outputs": [],
   "source": [
    "df_x.head()"
   ]
  },
  {
   "cell_type": "code",
   "execution_count": null,
   "id": "ecd35a78-c448-42f5-b6a3-59b889ed2547",
   "metadata": {
    "tags": []
   },
   "outputs": [],
   "source": [
    "df_x.t.unique()"
   ]
  },
  {
   "cell_type": "code",
   "execution_count": null,
   "id": "daab3009-9406-4168-b636-4f1c529bd3ca",
   "metadata": {
    "tags": []
   },
   "outputs": [],
   "source": [
    "df_x[\"node_id\"] = df_x[\"node_id\"].astype(\"int64\")\n",
    "df_x = df_x.explode(\"volumes_1h\")\n",
    "df_x.head()"
   ]
  },
  {
   "cell_type": "code",
   "execution_count": null,
   "id": "e78720b1-d357-4fa2-b1ae-1e156ee447e6",
   "metadata": {
    "tags": []
   },
   "outputs": [],
   "source": [
    "df_x = df_x.reset_index()\n",
    "df_x[\"slot\"] = df_x.index % 4\n",
    "df_x[\"volumes_1h\"] = df_x[\"volumes_1h\"].astype(\"float\")\n",
    "df_x.head()"
   ]
  },
  {
   "cell_type": "code",
   "execution_count": null,
   "id": "3184f34c-cebe-4608-b436-67760d98aa05",
   "metadata": {
    "tags": []
   },
   "outputs": [],
   "source": [
    "x = torch.full(size=(len(torch_road_graph_mapping.node_to_int_mapping), 4), fill_value=float(\"nan\"))\n",
    "x.shape"
   ]
  },
  {
   "cell_type": "code",
   "execution_count": null,
   "id": "f36b0262-f90a-4740-b49b-b78ab3c39f9f",
   "metadata": {
    "tags": []
   },
   "outputs": [],
   "source": [
    "# (Mis-)use (day,t) for dataloading test sets where we do not exhibit day,t\n",
    "if day == \"test\":\n",
    "    data = df_x[(df_x[\"test_idx\"] == idx)].copy()\n",
    "else:\n",
    "    data = df_x[(df_x[\"day\"] == day) & (df_x[\"t\"] == t)].copy()\n",
    "data.head()"
   ]
  },
  {
   "cell_type": "code",
   "execution_count": null,
   "id": "c490c82c-0fae-43bf-8138-81b208ad2d3e",
   "metadata": {
    "tags": []
   },
   "outputs": [],
   "source": [
    "data[\"node_index\"] = [torch_road_graph_mapping.node_to_int_mapping[x] for x in data[\"node_id\"]]"
   ]
  },
  {
   "cell_type": "code",
   "execution_count": null,
   "id": "5c05f92f-05ef-4bc3-9e7d-efa59bc1a0ee",
   "metadata": {
    "tags": []
   },
   "outputs": [],
   "source": [
    "x[data[\"node_index\"].values, data[\"slot\"].values] = torch.tensor(data[\"volumes_1h\"].values).float()"
   ]
  },
  {
   "cell_type": "code",
   "execution_count": null,
   "id": "08cf9f8e-e125-444e-b8fb-37b45f555f8d",
   "metadata": {
    "tags": []
   },
   "outputs": [],
   "source": [
    "x"
   ]
  },
  {
   "cell_type": "code",
   "execution_count": null,
   "id": "aa434327-ec61-4a52-80a2-b018d92879db",
   "metadata": {
    "tags": []
   },
   "outputs": [],
   "source": [
    "x.shape"
   ]
  },
  {
   "cell_type": "code",
   "execution_count": null,
   "id": "1dfdbf55-3e47-4db6-a7a3-b3d1ca3cc5e6",
   "metadata": {},
   "outputs": [],
   "source": []
  }
 ],
 "metadata": {
  "kernelspec": {
   "display_name": "t4c22",
   "language": "python",
   "name": "t4c22"
  },
  "language_info": {
   "codemirror_mode": {
    "name": "ipython",
    "version": 3
   },
   "file_extension": ".py",
   "mimetype": "text/x-python",
   "name": "python",
   "nbconvert_exporter": "python",
   "pygments_lexer": "ipython3",
   "version": "3.8.13"
  }
 },
 "nbformat": 4,
 "nbformat_minor": 5
}
