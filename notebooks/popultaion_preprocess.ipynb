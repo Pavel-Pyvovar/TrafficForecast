{
 "cells": [
  {
   "cell_type": "code",
   "execution_count": 2,
   "metadata": {},
   "outputs": [],
   "source": [
    "import pandas as pd\n",
    "import geopandas as gpd\n",
    "import numpy as np\n",
    "import rasterio\n",
    "from rasterio.merge import merge\n",
    "from rasterio.mask import mask\n",
    "from rasterio.warp import calculate_default_transform, reproject, Resampling\n",
    "from shapely.geometry import box, LineString\n",
    "import os\n",
    "from matplotlib import pyplot\n",
    "from pyproj import Transformer"
   ]
  },
  {
   "cell_type": "code",
   "execution_count": 4,
   "metadata": {},
   "outputs": [],
   "source": [
    "basedir = '/gpfs/space/home/etais/hpc_nikolaykozlovskiy/transformers_project/Traffic4cast/data_traffic'\n",
    "road_graph_folder = 'road_graph'\n",
    "spatial_data_folder = 'spatial_data'\n",
    "preprocess_stage = 'population'\n",
    "buffer_m = 50\n",
    "city = 'london'\n",
    "crs_reprj = {'london': 27700}\n",
    "city_epsg = crs_reprj[city]"
   ]
  },
  {
   "cell_type": "code",
   "execution_count": 5,
   "metadata": {},
   "outputs": [],
   "source": [
    "road_graph_nodes = pd.read_parquet(f'{basedir}/{road_graph_folder}/{city}/road_graph_nodes.parquet')\n",
    "road_graph_edges = pd.read_parquet(f'{basedir}/{road_graph_folder}/{city}/road_graph_edges.parquet')"
   ]
  },
  {
   "cell_type": "code",
   "execution_count": 6,
   "metadata": {},
   "outputs": [],
   "source": [
    "road_graph_edges = road_graph_edges.merge(road_graph_nodes[['node_id', 'x', 'y']], \n",
    "                                          left_on = 'u', \n",
    "                                          right_on = 'node_id'\n",
    "                                         )\n",
    "road_graph_edges = road_graph_edges.merge(road_graph_nodes[['node_id', 'x', 'y']], \n",
    "                                          left_on = 'v', \n",
    "                                          right_on = 'node_id', \n",
    "                                          suffixes = ('_start', '_end')\n",
    "                                         )"
   ]
  },
  {
   "cell_type": "code",
   "execution_count": 7,
   "metadata": {},
   "outputs": [],
   "source": [
    "road_graph_edges['geometry'] = road_graph_edges.apply(lambda row:\n",
    "    LineString([[row['x_start'], row['y_start']],[row['x_end'], row['y_end']]]), axis=1\n",
    ")"
   ]
  },
  {
   "cell_type": "code",
   "execution_count": 8,
   "metadata": {},
   "outputs": [],
   "source": [
    "gdf_road_graph_edges = gpd.GeoDataFrame(\n",
    "    road_graph_edges,\n",
    "    crs = 4326,\n",
    "    geometry = 'geometry'\n",
    ")"
   ]
  },
  {
   "cell_type": "code",
   "execution_count": 9,
   "metadata": {},
   "outputs": [],
   "source": [
    "gdf_road_graph_edges = gdf_road_graph_edges.to_crs(city_epsg)\n",
    "gdf_road_graph_edges['geometry'] = gdf_road_graph_edges['geometry'].buffer(buffer_m)"
   ]
  },
  {
   "cell_type": "code",
   "execution_count": 19,
   "metadata": {},
   "outputs": [],
   "source": [
    "transformer = Transformer.from_crs(city_epsg, 4326, always_xy=True)\n",
    "bounds_4326 = transformer.transform_bounds(*gdf_road_graph_edges.total_bounds)"
   ]
  },
  {
   "cell_type": "code",
   "execution_count": 18,
   "metadata": {},
   "outputs": [],
   "source": [
    "population = pd.read_csv(f'{basedir}/{spatial_data_folder}/{preprocess_stage}/{city}/raw/population.csv')"
   ]
  },
  {
   "cell_type": "code",
   "execution_count": 20,
   "metadata": {},
   "outputs": [],
   "source": [
    "population = population[population['Lat'].between(bounds_4326[1], bounds_4326[3])&\n",
    "                        population['Lon'].between(bounds_4326[0], bounds_4326[2])\n",
    "                        ].reset_index(drop=True)"
   ]
  },
  {
   "cell_type": "code",
   "execution_count": 26,
   "metadata": {},
   "outputs": [],
   "source": [
    "gdf_population = gpd.GeoDataFrame(population, \n",
    "                                  geometry = gpd.points_from_xy(population['Lon'], population['Lat']), \n",
    "                                  crs = 4326\n",
    "                                  ).to_crs(city_epsg)"
   ]
  },
  {
   "cell_type": "code",
   "execution_count": 27,
   "metadata": {},
   "outputs": [],
   "source": [
    "sjoin = gpd.sjoin(gdf_road_graph_edges, gdf_population, predicate='contains')"
   ]
  },
  {
   "cell_type": "code",
   "execution_count": 30,
   "metadata": {},
   "outputs": [],
   "source": [
    "mean_population = sjoin.groupby(['u', 'v'])['Population'].mean().reset_index()"
   ]
  },
  {
   "cell_type": "code",
   "execution_count": 32,
   "metadata": {},
   "outputs": [],
   "source": [
    "road_graph_edges = road_graph_edges.merge(mean_population, on = ['u', 'v'], how='left')"
   ]
  },
  {
   "cell_type": "code",
   "execution_count": 34,
   "metadata": {},
   "outputs": [],
   "source": [
    "road_graph_edges['Population'].fillna(0, inplace=True)"
   ]
  }
 ],
 "metadata": {
  "kernelspec": {
   "display_name": "Python 3",
   "language": "python",
   "name": "python3"
  },
  "language_info": {
   "codemirror_mode": {
    "name": "ipython",
    "version": 3
   },
   "file_extension": ".py",
   "mimetype": "text/x-python",
   "name": "python",
   "nbconvert_exporter": "python",
   "pygments_lexer": "ipython3",
   "version": "3.11.0"
  }
 },
 "nbformat": 4,
 "nbformat_minor": 2
}
