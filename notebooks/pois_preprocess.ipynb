{
 "cells": [
  {
   "cell_type": "code",
   "execution_count": null,
   "metadata": {},
   "outputs": [],
   "source": [
    "import pandas as pd\n",
    "import geopandas as gpd\n",
    "from shapely.geometry import box, LineString\n",
    "from pyproj import Transformer\n",
    "import osmnx as ox"
   ]
  },
  {
   "cell_type": "code",
   "execution_count": null,
   "metadata": {},
   "outputs": [],
   "source": [
    "basedir = '/gpfs/space/home/etais/hpc_nikolaykozlovskiy/transformers_project/Traffic4cast/data_traffic'\n",
    "road_graph_folder = 'road_graph'\n",
    "spatial_data_folder = 'spatial_data'\n",
    "preprocess_stage = 'pois'\n",
    "buffer_m = 100\n",
    "city = 'london'\n",
    "crs_reprj = {'london':27700, \n",
    "             'madrid':2062,\n",
    "             'melbourne':3110\n",
    "            }\n",
    "city_epsg = crs_reprj[city]\n",
    "cache_dir = f'{basedir}/{spatial_data_folder}/{preprocess_stage}/{city}/.cache'"
   ]
  },
  {
   "cell_type": "code",
   "execution_count": null,
   "metadata": {},
   "outputs": [],
   "source": [
    "ox.settings.cache_folder = cache_dir"
   ]
  },
  {
   "cell_type": "code",
   "execution_count": null,
   "metadata": {},
   "outputs": [],
   "source": [
    "road_graph_nodes = pd.read_parquet(f'{basedir}/{road_graph_folder}/{city}/road_graph_nodes.parquet')\n",
    "road_graph_edges = pd.read_parquet(f'{basedir}/{road_graph_folder}/{city}/road_graph_edges.parquet')"
   ]
  },
  {
   "cell_type": "code",
   "execution_count": null,
   "metadata": {},
   "outputs": [],
   "source": [
    "road_graph_edges = road_graph_edges.merge(road_graph_nodes[['node_id', 'x', 'y']], \n",
    "                                          left_on = 'u', \n",
    "                                          right_on = 'node_id'\n",
    "                                         )\n",
    "road_graph_edges = road_graph_edges.merge(road_graph_nodes[['node_id', 'x', 'y']], \n",
    "                                          left_on = 'v', \n",
    "                                          right_on = 'node_id', \n",
    "                                          suffixes = ('_start', '_end')\n",
    "                                         )"
   ]
  },
  {
   "cell_type": "code",
   "execution_count": null,
   "metadata": {},
   "outputs": [],
   "source": [
    "road_graph_edges['geometry'] = road_graph_edges.apply(lambda row:\n",
    "    LineString([[row['x_start'], row['y_start']],[row['x_end'], row['y_end']]]), axis=1\n",
    ")"
   ]
  },
  {
   "cell_type": "code",
   "execution_count": null,
   "metadata": {},
   "outputs": [],
   "source": [
    "gdf_road_graph_edges = gpd.GeoDataFrame(\n",
    "    road_graph_edges,\n",
    "    crs = 4326,\n",
    "    geometry = 'geometry'\n",
    ")"
   ]
  },
  {
   "cell_type": "code",
   "execution_count": null,
   "metadata": {},
   "outputs": [],
   "source": [
    "gdf_road_graph_edges = gdf_road_graph_edges.to_crs(city_epsg)\n",
    "gdf_road_graph_edges['geometry'] = gdf_road_graph_edges['geometry'].buffer(buffer_m)"
   ]
  },
  {
   "cell_type": "code",
   "execution_count": null,
   "metadata": {},
   "outputs": [],
   "source": [
    "transformer = Transformer.from_crs(city_epsg, 4326, always_xy=True)\n",
    "bbox = box(*transformer.transform_bounds(*gdf_road_graph_edges.total_bounds))\n",
    "gdf_road_graph_edges = gdf_road_graph_edges.to_crs(4326)"
   ]
  },
  {
   "cell_type": "code",
   "execution_count": null,
   "metadata": {},
   "outputs": [],
   "source": [
    "pois = {\n",
    "    'leisure': {\n",
    "        'amenity': ['theatre', 'nightclub', 'cinema', 'swimming_pool'],\n",
    "        'leisure': ['park', 'playground', 'sports_centre', 'stadium']\n",
    "    }, \n",
    "    \"traffic\": {\n",
    "        \"highway\":['traffic_signals', 'crossing', 'stop']\n",
    "    },\n",
    "    'tourism':{\n",
    "        'tourism': ['attraction', 'museum', 'artwork', 'picnic_site', 'viewpoint', 'zoo', 'theme_park'],\n",
    "        'historic': ['monument', 'memorial', 'castle']\n",
    "    },\n",
    "    \"catering\":{\n",
    "        'amenity': ['restaurant', 'fast_food', 'cafe', 'pub', 'bar', 'food_court', 'biergarten'],\n",
    "    }, \n",
    "    'transport': {\n",
    "        'railway': ['station', 'halt', 'tram_stop'],\n",
    "        'highway': ['bus_stop'],\n",
    "        'amenity': [ 'taxi', 'airport', 'ferry_terminal']\n",
    "    }, \n",
    "    \"shopping\": {\n",
    "        'shop':True\n",
    "    }\n",
    "}"
   ]
  },
  {
   "cell_type": "code",
   "execution_count": null,
   "metadata": {},
   "outputs": [],
   "source": [
    "pois_gdf = None\n",
    "\n",
    "for pois_class, tags in pois.items(): \n",
    "    gdf = ox.features_from_polygon(bbox, tags=tags)\n",
    "    gdf['geometry'] = gdf.to_crs(crs_reprj[city]).centroid.to_crs(4326)\n",
    "    gdf['pois_class'] = pois_class\n",
    "    gdf = gdf[['pois_class', 'geometry']]\n",
    "    \n",
    "    if pois_gdf is None:\n",
    "        pois_gdf = gdf\n",
    "    else:\n",
    "        pois_gdf = pd.concat([pois_gdf, gdf], axis = 0, ignore_index=True)\n"
   ]
  },
  {
   "cell_type": "code",
   "execution_count": null,
   "metadata": {},
   "outputs": [],
   "source": [
    "pois_gdf['pois_class'].value_counts()"
   ]
  },
  {
   "cell_type": "code",
   "execution_count": null,
   "metadata": {},
   "outputs": [],
   "source": [
    "sjoin = gpd.sjoin(gdf_road_graph_edges, pois_gdf, predicate='contains')"
   ]
  },
  {
   "cell_type": "code",
   "execution_count": null,
   "metadata": {},
   "outputs": [],
   "source": [
    "sum_pois = sjoin.groupby(['u', 'v', 'pois_class']).size().reset_index(name='counts')"
   ]
  },
  {
   "cell_type": "code",
   "execution_count": null,
   "metadata": {},
   "outputs": [],
   "source": [
    "sum_pois = sum_pois.pivot(index=['u', 'v'], columns=['pois_class'], values=\"counts\").fillna(0)"
   ]
  },
  {
   "cell_type": "code",
   "execution_count": null,
   "metadata": {},
   "outputs": [],
   "source": [
    "total = sum_pois.sum(axis=1)"
   ]
  },
  {
   "cell_type": "code",
   "execution_count": null,
   "metadata": {},
   "outputs": [],
   "source": [
    "sum_pois = sum_pois.div(total, axis=0) * 100"
   ]
  },
  {
   "cell_type": "code",
   "execution_count": null,
   "metadata": {},
   "outputs": [],
   "source": [
    "sum_pois"
   ]
  },
  {
   "cell_type": "code",
   "execution_count": null,
   "metadata": {},
   "outputs": [],
   "source": [
    "sum_pois['total'] = total\n",
    "sum_pois.reset_index(inplace=True)"
   ]
  },
  {
   "cell_type": "code",
   "execution_count": null,
   "metadata": {},
   "outputs": [],
   "source": [
    "road_graph_edges = road_graph_edges.merge(sum_pois, on = ['u', 'v'], how='left')"
   ]
  },
  {
   "cell_type": "code",
   "execution_count": null,
   "metadata": {},
   "outputs": [],
   "source": [
    "road_graph_edges[~road_graph_edges['total'].isna()]"
   ]
  }
 ],
 "metadata": {
  "kernelspec": {
   "display_name": "Python 3",
   "language": "python",
   "name": "python3"
  },
  "language_info": {
   "codemirror_mode": {
    "name": "ipython",
    "version": 3
   },
   "file_extension": ".py",
   "mimetype": "text/x-python",
   "name": "python",
   "nbconvert_exporter": "python",
   "pygments_lexer": "ipython3",
   "version": "3.11.0"
  }
 },
 "nbformat": 4,
 "nbformat_minor": 2
}
